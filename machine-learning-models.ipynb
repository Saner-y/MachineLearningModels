{
 "cells": [
  {
   "cell_type": "markdown",
   "id": "88ac4b73",
   "metadata": {
    "papermill": {
     "duration": 0.024803,
     "end_time": "2023-03-13T11:01:13.626096",
     "exception": false,
     "start_time": "2023-03-13T11:01:13.601293",
     "status": "completed"
    },
    "tags": []
   },
   "source": [
    "# **Machine Learning Models**"
   ]
  },
  {
   "cell_type": "markdown",
   "id": "4413a9d0",
   "metadata": {
    "papermill": {
     "duration": 0.021373,
     "end_time": "2023-03-13T11:01:13.669096",
     "exception": false,
     "start_time": "2023-03-13T11:01:13.647723",
     "status": "completed"
    },
    "tags": []
   },
   "source": [
    "Gerekli Kütüphaneler Entegre Edildi."
   ]
  },
  {
   "cell_type": "code",
   "execution_count": 1,
   "id": "8bcc713e",
   "metadata": {
    "execution": {
     "iopub.execute_input": "2023-03-13T11:01:13.716211Z",
     "iopub.status.busy": "2023-03-13T11:01:13.714579Z",
     "iopub.status.idle": "2023-03-13T11:01:15.215607Z",
     "shell.execute_reply": "2023-03-13T11:01:15.214503Z"
    },
    "papermill": {
     "duration": 1.52785,
     "end_time": "2023-03-13T11:01:15.218742",
     "exception": false,
     "start_time": "2023-03-13T11:01:13.690892",
     "status": "completed"
    },
    "tags": []
   },
   "outputs": [],
   "source": [
    "import numpy as np\n",
    "import pandas as pd\n",
    "import seaborn as sns\n",
    "import matplotlib.pyplot as plt\n",
    "\n",
    "from sklearn import preprocessing \n",
    "from sklearn.model_selection import train_test_split,cross_val_score,GridSearchCV\n",
    "from sklearn.naive_bayes import GaussianNB\n",
    "from sklearn.metrics import accuracy_score,confusion_matrix,recall_score, f1_score, precision_score,classification_report\n",
    "from sklearn.tree import DecisionTreeClassifier\n",
    "from sklearn.neighbors import KNeighborsClassifier"
   ]
  },
  {
   "cell_type": "markdown",
   "id": "35993c5a",
   "metadata": {
    "papermill": {
     "duration": 0.02152,
     "end_time": "2023-03-13T11:01:15.262480",
     "exception": false,
     "start_time": "2023-03-13T11:01:15.240960",
     "status": "completed"
    },
    "tags": []
   },
   "source": [
    "Veri Çerçevemizi Ekleyelim"
   ]
  },
  {
   "cell_type": "code",
   "execution_count": 2,
   "id": "f37a3a45",
   "metadata": {
    "execution": {
     "iopub.execute_input": "2023-03-13T11:01:15.307321Z",
     "iopub.status.busy": "2023-03-13T11:01:15.306407Z",
     "iopub.status.idle": "2023-03-13T11:01:15.337807Z",
     "shell.execute_reply": "2023-03-13T11:01:15.336970Z"
    },
    "papermill": {
     "duration": 0.056308,
     "end_time": "2023-03-13T11:01:15.340053",
     "exception": false,
     "start_time": "2023-03-13T11:01:15.283745",
     "status": "completed"
    },
    "tags": []
   },
   "outputs": [],
   "source": [
    "df = pd.read_csv(\"../input/tablet/tablet.csv\")"
   ]
  },
  {
   "cell_type": "markdown",
   "id": "f7605bc8",
   "metadata": {
    "papermill": {
     "duration": 0.022936,
     "end_time": "2023-03-13T11:01:15.385921",
     "exception": false,
     "start_time": "2023-03-13T11:01:15.362985",
     "status": "completed"
    },
    "tags": []
   },
   "source": [
    "Veri Setimizde Bulunan Verilerden İlk 10 Verimize Göz Atalım."
   ]
  },
  {
   "cell_type": "code",
   "execution_count": 3,
   "id": "2b6bb5a5",
   "metadata": {
    "execution": {
     "iopub.execute_input": "2023-03-13T11:01:15.432221Z",
     "iopub.status.busy": "2023-03-13T11:01:15.431359Z",
     "iopub.status.idle": "2023-03-13T11:01:15.465667Z",
     "shell.execute_reply": "2023-03-13T11:01:15.464409Z"
    },
    "papermill": {
     "duration": 0.060046,
     "end_time": "2023-03-13T11:01:15.468086",
     "exception": false,
     "start_time": "2023-03-13T11:01:15.408040",
     "status": "completed"
    },
    "tags": []
   },
   "outputs": [
    {
     "data": {
      "text/html": [
       "<div>\n",
       "<style scoped>\n",
       "    .dataframe tbody tr th:only-of-type {\n",
       "        vertical-align: middle;\n",
       "    }\n",
       "\n",
       "    .dataframe tbody tr th {\n",
       "        vertical-align: top;\n",
       "    }\n",
       "\n",
       "    .dataframe thead th {\n",
       "        text-align: right;\n",
       "    }\n",
       "</style>\n",
       "<table border=\"1\" class=\"dataframe\">\n",
       "  <thead>\n",
       "    <tr style=\"text-align: right;\">\n",
       "      <th></th>\n",
       "      <th>BataryaGucu</th>\n",
       "      <th>Bluetooth</th>\n",
       "      <th>MikroislemciHizi</th>\n",
       "      <th>CiftHat</th>\n",
       "      <th>OnKameraMP</th>\n",
       "      <th>4G</th>\n",
       "      <th>DahiliBellek</th>\n",
       "      <th>Kalinlik</th>\n",
       "      <th>Agirlik</th>\n",
       "      <th>CekirdekSayisi</th>\n",
       "      <th>ArkaKameraMP</th>\n",
       "      <th>CozunurlukYükseklik</th>\n",
       "      <th>CozunurlukGenislik</th>\n",
       "      <th>RAM</th>\n",
       "      <th>BataryaOmru</th>\n",
       "      <th>3G</th>\n",
       "      <th>Dokunmatik</th>\n",
       "      <th>WiFi</th>\n",
       "      <th>FiyatAraligi</th>\n",
       "      <th>Renk</th>\n",
       "    </tr>\n",
       "  </thead>\n",
       "  <tbody>\n",
       "    <tr>\n",
       "      <th>0</th>\n",
       "      <td>1325</td>\n",
       "      <td>Yok</td>\n",
       "      <td>1.9</td>\n",
       "      <td>Yok</td>\n",
       "      <td>2.0</td>\n",
       "      <td>Yok</td>\n",
       "      <td>50</td>\n",
       "      <td>0.1</td>\n",
       "      <td>146</td>\n",
       "      <td>1</td>\n",
       "      <td>10</td>\n",
       "      <td>499</td>\n",
       "      <td>695</td>\n",
       "      <td>2328.0</td>\n",
       "      <td>2</td>\n",
       "      <td>Var</td>\n",
       "      <td>Yok</td>\n",
       "      <td>Yok</td>\n",
       "      <td>Normal</td>\n",
       "      <td>Beyaz</td>\n",
       "    </tr>\n",
       "    <tr>\n",
       "      <th>1</th>\n",
       "      <td>1046</td>\n",
       "      <td>Var</td>\n",
       "      <td>2.8</td>\n",
       "      <td>Var</td>\n",
       "      <td>0.0</td>\n",
       "      <td>Var</td>\n",
       "      <td>58</td>\n",
       "      <td>0.2</td>\n",
       "      <td>100</td>\n",
       "      <td>8</td>\n",
       "      <td>0</td>\n",
       "      <td>259</td>\n",
       "      <td>1040</td>\n",
       "      <td>3863.0</td>\n",
       "      <td>9</td>\n",
       "      <td>Var</td>\n",
       "      <td>Var</td>\n",
       "      <td>Var</td>\n",
       "      <td>Pahalı</td>\n",
       "      <td>Pembe</td>\n",
       "    </tr>\n",
       "    <tr>\n",
       "      <th>2</th>\n",
       "      <td>843</td>\n",
       "      <td>Yok</td>\n",
       "      <td>1.3</td>\n",
       "      <td>Var</td>\n",
       "      <td>1.0</td>\n",
       "      <td>Yok</td>\n",
       "      <td>16</td>\n",
       "      <td>0.9</td>\n",
       "      <td>119</td>\n",
       "      <td>7</td>\n",
       "      <td>4</td>\n",
       "      <td>593</td>\n",
       "      <td>732</td>\n",
       "      <td>1734.0</td>\n",
       "      <td>14</td>\n",
       "      <td>Yok</td>\n",
       "      <td>Yok</td>\n",
       "      <td>Var</td>\n",
       "      <td>Ucuz</td>\n",
       "      <td>Mor</td>\n",
       "    </tr>\n",
       "    <tr>\n",
       "      <th>3</th>\n",
       "      <td>894</td>\n",
       "      <td>Yok</td>\n",
       "      <td>0.5</td>\n",
       "      <td>Var</td>\n",
       "      <td>1.0</td>\n",
       "      <td>Var</td>\n",
       "      <td>50</td>\n",
       "      <td>0.5</td>\n",
       "      <td>199</td>\n",
       "      <td>3</td>\n",
       "      <td>14</td>\n",
       "      <td>1285</td>\n",
       "      <td>1462</td>\n",
       "      <td>3615.0</td>\n",
       "      <td>6</td>\n",
       "      <td>Var</td>\n",
       "      <td>Yok</td>\n",
       "      <td>Var</td>\n",
       "      <td>Pahalı</td>\n",
       "      <td>Turuncu</td>\n",
       "    </tr>\n",
       "    <tr>\n",
       "      <th>4</th>\n",
       "      <td>936</td>\n",
       "      <td>Yok</td>\n",
       "      <td>1.0</td>\n",
       "      <td>Yok</td>\n",
       "      <td>1.0</td>\n",
       "      <td>Yok</td>\n",
       "      <td>18</td>\n",
       "      <td>0.2</td>\n",
       "      <td>153</td>\n",
       "      <td>3</td>\n",
       "      <td>18</td>\n",
       "      <td>1330</td>\n",
       "      <td>1686</td>\n",
       "      <td>2391.0</td>\n",
       "      <td>3</td>\n",
       "      <td>Var</td>\n",
       "      <td>Var</td>\n",
       "      <td>Var</td>\n",
       "      <td>Normal</td>\n",
       "      <td>Beyaz</td>\n",
       "    </tr>\n",
       "    <tr>\n",
       "      <th>5</th>\n",
       "      <td>1162</td>\n",
       "      <td>Yok</td>\n",
       "      <td>1.0</td>\n",
       "      <td>Yok</td>\n",
       "      <td>0.0</td>\n",
       "      <td>Yok</td>\n",
       "      <td>50</td>\n",
       "      <td>0.5</td>\n",
       "      <td>104</td>\n",
       "      <td>4</td>\n",
       "      <td>10</td>\n",
       "      <td>332</td>\n",
       "      <td>866</td>\n",
       "      <td>1404.0</td>\n",
       "      <td>15</td>\n",
       "      <td>Var</td>\n",
       "      <td>Var</td>\n",
       "      <td>Var</td>\n",
       "      <td>Ucuz</td>\n",
       "      <td>Beyaz</td>\n",
       "    </tr>\n",
       "    <tr>\n",
       "      <th>6</th>\n",
       "      <td>1849</td>\n",
       "      <td>Var</td>\n",
       "      <td>0.5</td>\n",
       "      <td>Yok</td>\n",
       "      <td>1.0</td>\n",
       "      <td>Yok</td>\n",
       "      <td>29</td>\n",
       "      <td>0.5</td>\n",
       "      <td>181</td>\n",
       "      <td>7</td>\n",
       "      <td>12</td>\n",
       "      <td>978</td>\n",
       "      <td>1986</td>\n",
       "      <td>3330.0</td>\n",
       "      <td>15</td>\n",
       "      <td>Var</td>\n",
       "      <td>Yok</td>\n",
       "      <td>Var</td>\n",
       "      <td>Pahalı</td>\n",
       "      <td>Gri</td>\n",
       "    </tr>\n",
       "    <tr>\n",
       "      <th>7</th>\n",
       "      <td>1860</td>\n",
       "      <td>Yok</td>\n",
       "      <td>0.5</td>\n",
       "      <td>Var</td>\n",
       "      <td>2.0</td>\n",
       "      <td>Var</td>\n",
       "      <td>55</td>\n",
       "      <td>0.7</td>\n",
       "      <td>83</td>\n",
       "      <td>6</td>\n",
       "      <td>3</td>\n",
       "      <td>195</td>\n",
       "      <td>799</td>\n",
       "      <td>676.0</td>\n",
       "      <td>4</td>\n",
       "      <td>Var</td>\n",
       "      <td>Yok</td>\n",
       "      <td>Var</td>\n",
       "      <td>Çok Ucuz</td>\n",
       "      <td>Beyaz</td>\n",
       "    </tr>\n",
       "    <tr>\n",
       "      <th>8</th>\n",
       "      <td>1536</td>\n",
       "      <td>Yok</td>\n",
       "      <td>0.8</td>\n",
       "      <td>Yok</td>\n",
       "      <td>12.0</td>\n",
       "      <td>Yok</td>\n",
       "      <td>13</td>\n",
       "      <td>0.3</td>\n",
       "      <td>105</td>\n",
       "      <td>7</td>\n",
       "      <td>20</td>\n",
       "      <td>22</td>\n",
       "      <td>1634</td>\n",
       "      <td>2020.0</td>\n",
       "      <td>16</td>\n",
       "      <td>Var</td>\n",
       "      <td>Var</td>\n",
       "      <td>Yok</td>\n",
       "      <td>Normal</td>\n",
       "      <td>Sarı</td>\n",
       "    </tr>\n",
       "    <tr>\n",
       "      <th>9</th>\n",
       "      <td>539</td>\n",
       "      <td>Var</td>\n",
       "      <td>0.6</td>\n",
       "      <td>Var</td>\n",
       "      <td>9.0</td>\n",
       "      <td>Yok</td>\n",
       "      <td>21</td>\n",
       "      <td>0.1</td>\n",
       "      <td>145</td>\n",
       "      <td>7</td>\n",
       "      <td>14</td>\n",
       "      <td>551</td>\n",
       "      <td>599</td>\n",
       "      <td>3597.0</td>\n",
       "      <td>9</td>\n",
       "      <td>Yok</td>\n",
       "      <td>Yok</td>\n",
       "      <td>Yok</td>\n",
       "      <td>Normal</td>\n",
       "      <td>Mavi</td>\n",
       "    </tr>\n",
       "  </tbody>\n",
       "</table>\n",
       "</div>"
      ],
      "text/plain": [
       "   BataryaGucu Bluetooth  MikroislemciHizi CiftHat  OnKameraMP   4G  \\\n",
       "0         1325       Yok               1.9     Yok         2.0  Yok   \n",
       "1         1046       Var               2.8     Var         0.0  Var   \n",
       "2          843       Yok               1.3     Var         1.0  Yok   \n",
       "3          894       Yok               0.5     Var         1.0  Var   \n",
       "4          936       Yok               1.0     Yok         1.0  Yok   \n",
       "5         1162       Yok               1.0     Yok         0.0  Yok   \n",
       "6         1849       Var               0.5     Yok         1.0  Yok   \n",
       "7         1860       Yok               0.5     Var         2.0  Var   \n",
       "8         1536       Yok               0.8     Yok        12.0  Yok   \n",
       "9          539       Var               0.6     Var         9.0  Yok   \n",
       "\n",
       "   DahiliBellek  Kalinlik  Agirlik  CekirdekSayisi  ArkaKameraMP  \\\n",
       "0            50       0.1      146               1            10   \n",
       "1            58       0.2      100               8             0   \n",
       "2            16       0.9      119               7             4   \n",
       "3            50       0.5      199               3            14   \n",
       "4            18       0.2      153               3            18   \n",
       "5            50       0.5      104               4            10   \n",
       "6            29       0.5      181               7            12   \n",
       "7            55       0.7       83               6             3   \n",
       "8            13       0.3      105               7            20   \n",
       "9            21       0.1      145               7            14   \n",
       "\n",
       "   CozunurlukYükseklik  CozunurlukGenislik     RAM  BataryaOmru   3G  \\\n",
       "0                  499                 695  2328.0            2  Var   \n",
       "1                  259                1040  3863.0            9  Var   \n",
       "2                  593                 732  1734.0           14  Yok   \n",
       "3                 1285                1462  3615.0            6  Var   \n",
       "4                 1330                1686  2391.0            3  Var   \n",
       "5                  332                 866  1404.0           15  Var   \n",
       "6                  978                1986  3330.0           15  Var   \n",
       "7                  195                 799   676.0            4  Var   \n",
       "8                   22                1634  2020.0           16  Var   \n",
       "9                  551                 599  3597.0            9  Yok   \n",
       "\n",
       "  Dokunmatik WiFi FiyatAraligi     Renk  \n",
       "0        Yok  Yok       Normal    Beyaz  \n",
       "1        Var  Var       Pahalı    Pembe  \n",
       "2        Yok  Var         Ucuz      Mor  \n",
       "3        Yok  Var       Pahalı  Turuncu  \n",
       "4        Var  Var       Normal    Beyaz  \n",
       "5        Var  Var         Ucuz    Beyaz  \n",
       "6        Yok  Var       Pahalı      Gri  \n",
       "7        Yok  Var     Çok Ucuz    Beyaz  \n",
       "8        Var  Yok       Normal     Sarı  \n",
       "9        Yok  Yok       Normal     Mavi  "
      ]
     },
     "execution_count": 3,
     "metadata": {},
     "output_type": "execute_result"
    }
   ],
   "source": [
    "df.head(10)"
   ]
  },
  {
   "cell_type": "markdown",
   "id": "d9134a86",
   "metadata": {
    "papermill": {
     "duration": 0.022997,
     "end_time": "2023-03-13T11:01:15.514357",
     "exception": false,
     "start_time": "2023-03-13T11:01:15.491360",
     "status": "completed"
    },
    "tags": []
   },
   "source": [
    "Veri Setimizde Bulunan Gözlem ve Öznitelik Sayımızı Görünteleyelim"
   ]
  },
  {
   "cell_type": "code",
   "execution_count": 4,
   "id": "f4ebb097",
   "metadata": {
    "execution": {
     "iopub.execute_input": "2023-03-13T11:01:15.561202Z",
     "iopub.status.busy": "2023-03-13T11:01:15.560861Z",
     "iopub.status.idle": "2023-03-13T11:01:15.567765Z",
     "shell.execute_reply": "2023-03-13T11:01:15.566577Z"
    },
    "papermill": {
     "duration": 0.03248,
     "end_time": "2023-03-13T11:01:15.569545",
     "exception": false,
     "start_time": "2023-03-13T11:01:15.537065",
     "status": "completed"
    },
    "tags": []
   },
   "outputs": [
    {
     "data": {
      "text/plain": [
       "(2000, 20)"
      ]
     },
     "execution_count": 4,
     "metadata": {},
     "output_type": "execute_result"
    }
   ],
   "source": [
    "df.shape #Görüldüğü Üzere 2000 Gözlem , 20 Öznitelikden Oluşmakta"
   ]
  },
  {
   "cell_type": "markdown",
   "id": "446e2847",
   "metadata": {
    "papermill": {
     "duration": 0.021954,
     "end_time": "2023-03-13T11:01:15.614059",
     "exception": false,
     "start_time": "2023-03-13T11:01:15.592105",
     "status": "completed"
    },
    "tags": []
   },
   "source": [
    "Veri Setimiz Hakkında Detaylı Bilgi Almak İçin info Fonksiyonundan Yararlanıyoruz"
   ]
  },
  {
   "cell_type": "code",
   "execution_count": 5,
   "id": "c1565411",
   "metadata": {
    "execution": {
     "iopub.execute_input": "2023-03-13T11:01:15.660839Z",
     "iopub.status.busy": "2023-03-13T11:01:15.660492Z",
     "iopub.status.idle": "2023-03-13T11:01:15.688892Z",
     "shell.execute_reply": "2023-03-13T11:01:15.687832Z"
    },
    "papermill": {
     "duration": 0.054885,
     "end_time": "2023-03-13T11:01:15.691502",
     "exception": false,
     "start_time": "2023-03-13T11:01:15.636617",
     "status": "completed"
    },
    "tags": []
   },
   "outputs": [
    {
     "name": "stdout",
     "output_type": "stream",
     "text": [
      "<class 'pandas.core.frame.DataFrame'>\n",
      "RangeIndex: 2000 entries, 0 to 1999\n",
      "Data columns (total 20 columns):\n",
      " #   Column               Non-Null Count  Dtype  \n",
      "---  ------               --------------  -----  \n",
      " 0   BataryaGucu          2000 non-null   int64  \n",
      " 1   Bluetooth            2000 non-null   object \n",
      " 2   MikroislemciHizi     2000 non-null   float64\n",
      " 3   CiftHat              2000 non-null   object \n",
      " 4   OnKameraMP           1995 non-null   float64\n",
      " 5   4G                   2000 non-null   object \n",
      " 6   DahiliBellek         2000 non-null   int64  \n",
      " 7   Kalinlik             2000 non-null   float64\n",
      " 8   Agirlik              2000 non-null   int64  \n",
      " 9   CekirdekSayisi       2000 non-null   int64  \n",
      " 10  ArkaKameraMP         2000 non-null   int64  \n",
      " 11  CozunurlukYükseklik  2000 non-null   int64  \n",
      " 12  CozunurlukGenislik   2000 non-null   int64  \n",
      " 13  RAM                  1988 non-null   float64\n",
      " 14  BataryaOmru          2000 non-null   int64  \n",
      " 15  3G                   2000 non-null   object \n",
      " 16  Dokunmatik           2000 non-null   object \n",
      " 17  WiFi                 2000 non-null   object \n",
      " 18  FiyatAraligi         2000 non-null   object \n",
      " 19  Renk                 2000 non-null   object \n",
      "dtypes: float64(4), int64(8), object(8)\n",
      "memory usage: 312.6+ KB\n"
     ]
    }
   ],
   "source": [
    "df.info()"
   ]
  },
  {
   "cell_type": "markdown",
   "id": "88a4f9e6",
   "metadata": {
    "papermill": {
     "duration": 0.022084,
     "end_time": "2023-03-13T11:01:15.736786",
     "exception": false,
     "start_time": "2023-03-13T11:01:15.714702",
     "status": "completed"
    },
    "tags": []
   },
   "source": [
    "Daha Sonra Yararlanacak Olduğumuz, Veri Setimizin Sayısal Değerlerini Görüntüleyelim"
   ]
  },
  {
   "cell_type": "code",
   "execution_count": 6,
   "id": "a7ee9bbe",
   "metadata": {
    "execution": {
     "iopub.execute_input": "2023-03-13T11:01:15.783112Z",
     "iopub.status.busy": "2023-03-13T11:01:15.782635Z",
     "iopub.status.idle": "2023-03-13T11:01:15.826565Z",
     "shell.execute_reply": "2023-03-13T11:01:15.825926Z"
    },
    "papermill": {
     "duration": 0.069197,
     "end_time": "2023-03-13T11:01:15.828050",
     "exception": false,
     "start_time": "2023-03-13T11:01:15.758853",
     "status": "completed"
    },
    "tags": []
   },
   "outputs": [
    {
     "data": {
      "text/html": [
       "<div>\n",
       "<style scoped>\n",
       "    .dataframe tbody tr th:only-of-type {\n",
       "        vertical-align: middle;\n",
       "    }\n",
       "\n",
       "    .dataframe tbody tr th {\n",
       "        vertical-align: top;\n",
       "    }\n",
       "\n",
       "    .dataframe thead th {\n",
       "        text-align: right;\n",
       "    }\n",
       "</style>\n",
       "<table border=\"1\" class=\"dataframe\">\n",
       "  <thead>\n",
       "    <tr style=\"text-align: right;\">\n",
       "      <th></th>\n",
       "      <th>count</th>\n",
       "      <th>mean</th>\n",
       "      <th>std</th>\n",
       "      <th>min</th>\n",
       "      <th>25%</th>\n",
       "      <th>50%</th>\n",
       "      <th>75%</th>\n",
       "      <th>max</th>\n",
       "    </tr>\n",
       "  </thead>\n",
       "  <tbody>\n",
       "    <tr>\n",
       "      <th>BataryaGucu</th>\n",
       "      <td>2000.0</td>\n",
       "      <td>1238.518500</td>\n",
       "      <td>439.418206</td>\n",
       "      <td>501.0</td>\n",
       "      <td>851.75</td>\n",
       "      <td>1226.0</td>\n",
       "      <td>1615.25</td>\n",
       "      <td>1998.0</td>\n",
       "    </tr>\n",
       "    <tr>\n",
       "      <th>MikroislemciHizi</th>\n",
       "      <td>2000.0</td>\n",
       "      <td>1.522250</td>\n",
       "      <td>0.816004</td>\n",
       "      <td>0.5</td>\n",
       "      <td>0.70</td>\n",
       "      <td>1.5</td>\n",
       "      <td>2.20</td>\n",
       "      <td>3.0</td>\n",
       "    </tr>\n",
       "    <tr>\n",
       "      <th>OnKameraMP</th>\n",
       "      <td>1995.0</td>\n",
       "      <td>4.312281</td>\n",
       "      <td>4.342095</td>\n",
       "      <td>0.0</td>\n",
       "      <td>1.00</td>\n",
       "      <td>3.0</td>\n",
       "      <td>7.00</td>\n",
       "      <td>19.0</td>\n",
       "    </tr>\n",
       "    <tr>\n",
       "      <th>DahiliBellek</th>\n",
       "      <td>2000.0</td>\n",
       "      <td>32.046500</td>\n",
       "      <td>18.145715</td>\n",
       "      <td>2.0</td>\n",
       "      <td>16.00</td>\n",
       "      <td>32.0</td>\n",
       "      <td>48.00</td>\n",
       "      <td>64.0</td>\n",
       "    </tr>\n",
       "    <tr>\n",
       "      <th>Kalinlik</th>\n",
       "      <td>2000.0</td>\n",
       "      <td>0.501750</td>\n",
       "      <td>0.288416</td>\n",
       "      <td>0.1</td>\n",
       "      <td>0.20</td>\n",
       "      <td>0.5</td>\n",
       "      <td>0.80</td>\n",
       "      <td>1.0</td>\n",
       "    </tr>\n",
       "    <tr>\n",
       "      <th>Agirlik</th>\n",
       "      <td>2000.0</td>\n",
       "      <td>140.249000</td>\n",
       "      <td>35.399655</td>\n",
       "      <td>80.0</td>\n",
       "      <td>109.00</td>\n",
       "      <td>141.0</td>\n",
       "      <td>170.00</td>\n",
       "      <td>200.0</td>\n",
       "    </tr>\n",
       "    <tr>\n",
       "      <th>CekirdekSayisi</th>\n",
       "      <td>2000.0</td>\n",
       "      <td>4.520500</td>\n",
       "      <td>2.287837</td>\n",
       "      <td>1.0</td>\n",
       "      <td>3.00</td>\n",
       "      <td>4.0</td>\n",
       "      <td>7.00</td>\n",
       "      <td>8.0</td>\n",
       "    </tr>\n",
       "    <tr>\n",
       "      <th>ArkaKameraMP</th>\n",
       "      <td>2000.0</td>\n",
       "      <td>9.916500</td>\n",
       "      <td>6.064315</td>\n",
       "      <td>0.0</td>\n",
       "      <td>5.00</td>\n",
       "      <td>10.0</td>\n",
       "      <td>15.00</td>\n",
       "      <td>20.0</td>\n",
       "    </tr>\n",
       "    <tr>\n",
       "      <th>CozunurlukYükseklik</th>\n",
       "      <td>2000.0</td>\n",
       "      <td>645.108000</td>\n",
       "      <td>443.780811</td>\n",
       "      <td>0.0</td>\n",
       "      <td>282.75</td>\n",
       "      <td>564.0</td>\n",
       "      <td>947.25</td>\n",
       "      <td>1960.0</td>\n",
       "    </tr>\n",
       "    <tr>\n",
       "      <th>CozunurlukGenislik</th>\n",
       "      <td>2000.0</td>\n",
       "      <td>1251.515500</td>\n",
       "      <td>432.199447</td>\n",
       "      <td>500.0</td>\n",
       "      <td>874.75</td>\n",
       "      <td>1247.0</td>\n",
       "      <td>1633.00</td>\n",
       "      <td>1998.0</td>\n",
       "    </tr>\n",
       "    <tr>\n",
       "      <th>RAM</th>\n",
       "      <td>1988.0</td>\n",
       "      <td>2116.243964</td>\n",
       "      <td>1082.513059</td>\n",
       "      <td>256.0</td>\n",
       "      <td>1204.75</td>\n",
       "      <td>2129.5</td>\n",
       "      <td>3049.50</td>\n",
       "      <td>3998.0</td>\n",
       "    </tr>\n",
       "    <tr>\n",
       "      <th>BataryaOmru</th>\n",
       "      <td>2000.0</td>\n",
       "      <td>11.011000</td>\n",
       "      <td>5.463955</td>\n",
       "      <td>2.0</td>\n",
       "      <td>6.00</td>\n",
       "      <td>11.0</td>\n",
       "      <td>16.00</td>\n",
       "      <td>20.0</td>\n",
       "    </tr>\n",
       "  </tbody>\n",
       "</table>\n",
       "</div>"
      ],
      "text/plain": [
       "                      count         mean          std    min      25%     50%  \\\n",
       "BataryaGucu          2000.0  1238.518500   439.418206  501.0   851.75  1226.0   \n",
       "MikroislemciHizi     2000.0     1.522250     0.816004    0.5     0.70     1.5   \n",
       "OnKameraMP           1995.0     4.312281     4.342095    0.0     1.00     3.0   \n",
       "DahiliBellek         2000.0    32.046500    18.145715    2.0    16.00    32.0   \n",
       "Kalinlik             2000.0     0.501750     0.288416    0.1     0.20     0.5   \n",
       "Agirlik              2000.0   140.249000    35.399655   80.0   109.00   141.0   \n",
       "CekirdekSayisi       2000.0     4.520500     2.287837    1.0     3.00     4.0   \n",
       "ArkaKameraMP         2000.0     9.916500     6.064315    0.0     5.00    10.0   \n",
       "CozunurlukYükseklik  2000.0   645.108000   443.780811    0.0   282.75   564.0   \n",
       "CozunurlukGenislik   2000.0  1251.515500   432.199447  500.0   874.75  1247.0   \n",
       "RAM                  1988.0  2116.243964  1082.513059  256.0  1204.75  2129.5   \n",
       "BataryaOmru          2000.0    11.011000     5.463955    2.0     6.00    11.0   \n",
       "\n",
       "                         75%     max  \n",
       "BataryaGucu          1615.25  1998.0  \n",
       "MikroislemciHizi        2.20     3.0  \n",
       "OnKameraMP              7.00    19.0  \n",
       "DahiliBellek           48.00    64.0  \n",
       "Kalinlik                0.80     1.0  \n",
       "Agirlik               170.00   200.0  \n",
       "CekirdekSayisi          7.00     8.0  \n",
       "ArkaKameraMP           15.00    20.0  \n",
       "CozunurlukYükseklik   947.25  1960.0  \n",
       "CozunurlukGenislik   1633.00  1998.0  \n",
       "RAM                  3049.50  3998.0  \n",
       "BataryaOmru            16.00    20.0  "
      ]
     },
     "execution_count": 6,
     "metadata": {},
     "output_type": "execute_result"
    }
   ],
   "source": [
    "df.describe().T #Burada Genel Yorumlarda Bulunabiliriz Ama Zaten İlerleyen Satırlarda \"std\" , \"mean\" Gibi Değerleri Detaylı İnceleyeceğiz.\n",
    "#Bu Fonksiyonu Kullanarak Görüntülediğimiz Değişkenlerimiz, Veri Setimizin Sayısal, Yani Kategorik Olmayan Değişkenlerimizdir."
   ]
  },
  {
   "cell_type": "markdown",
   "id": "940e9a93",
   "metadata": {
    "papermill": {
     "duration": 0.02361,
     "end_time": "2023-03-13T11:01:15.874258",
     "exception": false,
     "start_time": "2023-03-13T11:01:15.850648",
     "status": "completed"
    },
    "tags": []
   },
   "source": [
    "Yukarıda Da Farketmiş Olabileceğiniz Üzere Bazı Gözlemlerde Eksiklikler Var, Bunu Kontrol Edelim."
   ]
  },
  {
   "cell_type": "code",
   "execution_count": 7,
   "id": "bbc32e28",
   "metadata": {
    "execution": {
     "iopub.execute_input": "2023-03-13T11:01:15.922477Z",
     "iopub.status.busy": "2023-03-13T11:01:15.921865Z",
     "iopub.status.idle": "2023-03-13T11:01:15.929201Z",
     "shell.execute_reply": "2023-03-13T11:01:15.928726Z"
    },
    "papermill": {
     "duration": 0.032979,
     "end_time": "2023-03-13T11:01:15.930596",
     "exception": false,
     "start_time": "2023-03-13T11:01:15.897617",
     "status": "completed"
    },
    "tags": []
   },
   "outputs": [
    {
     "data": {
      "text/plain": [
       "BataryaGucu             0\n",
       "Bluetooth               0\n",
       "MikroislemciHizi        0\n",
       "CiftHat                 0\n",
       "OnKameraMP              5\n",
       "4G                      0\n",
       "DahiliBellek            0\n",
       "Kalinlik                0\n",
       "Agirlik                 0\n",
       "CekirdekSayisi          0\n",
       "ArkaKameraMP            0\n",
       "CozunurlukYükseklik     0\n",
       "CozunurlukGenislik      0\n",
       "RAM                    12\n",
       "BataryaOmru             0\n",
       "3G                      0\n",
       "Dokunmatik              0\n",
       "WiFi                    0\n",
       "FiyatAraligi            0\n",
       "Renk                    0\n",
       "dtype: int64"
      ]
     },
     "execution_count": 7,
     "metadata": {},
     "output_type": "execute_result"
    }
   ],
   "source": [
    "df.isna().sum() #Sonuçta Da Görüldüğü Üzere, \"OnKameraMP\" ve \"RAM\" Gözlemlerinde Eksik Değerler Bulunmakta. \n",
    "#Eğer İhtiyaç Duyulursa, \"unique\" ve \"nunique\" Fonksiyonlarıyla Derinlemesine Eksik Veri Kontrolü Yapılabilir. \n",
    "#Ama Bu Veri Setimiz İçin Gerek Duymuyoruz."
   ]
  },
  {
   "cell_type": "markdown",
   "id": "afd1c768",
   "metadata": {
    "papermill": {
     "duration": 0.023326,
     "end_time": "2023-03-13T11:01:15.978041",
     "exception": false,
     "start_time": "2023-03-13T11:01:15.954715",
     "status": "completed"
    },
    "tags": []
   },
   "source": [
    "Şimdi Kolerasyon Katsayımıza Bakarak Veriler Arasında Ki İlişkilerin Yönü ve Gücü Hakkında Bilgi Edinelim.\n",
    "\n",
    "***Kolerasyon Katsayısı : İki Değişken Arasındaki Doğrusal İlişkinin Yönünü ve Gücünü Belirtir.***"
   ]
  },
  {
   "cell_type": "code",
   "execution_count": 8,
   "id": "8eca134c",
   "metadata": {
    "execution": {
     "iopub.execute_input": "2023-03-13T11:01:16.026947Z",
     "iopub.status.busy": "2023-03-13T11:01:16.026068Z",
     "iopub.status.idle": "2023-03-13T11:01:16.046054Z",
     "shell.execute_reply": "2023-03-13T11:01:16.045501Z"
    },
    "papermill": {
     "duration": 0.046259,
     "end_time": "2023-03-13T11:01:16.047857",
     "exception": false,
     "start_time": "2023-03-13T11:01:16.001598",
     "status": "completed"
    },
    "tags": []
   },
   "outputs": [
    {
     "data": {
      "text/html": [
       "<div>\n",
       "<style scoped>\n",
       "    .dataframe tbody tr th:only-of-type {\n",
       "        vertical-align: middle;\n",
       "    }\n",
       "\n",
       "    .dataframe tbody tr th {\n",
       "        vertical-align: top;\n",
       "    }\n",
       "\n",
       "    .dataframe thead th {\n",
       "        text-align: right;\n",
       "    }\n",
       "</style>\n",
       "<table border=\"1\" class=\"dataframe\">\n",
       "  <thead>\n",
       "    <tr style=\"text-align: right;\">\n",
       "      <th></th>\n",
       "      <th>BataryaGucu</th>\n",
       "      <th>MikroislemciHizi</th>\n",
       "      <th>OnKameraMP</th>\n",
       "      <th>DahiliBellek</th>\n",
       "      <th>Kalinlik</th>\n",
       "      <th>Agirlik</th>\n",
       "      <th>CekirdekSayisi</th>\n",
       "      <th>ArkaKameraMP</th>\n",
       "      <th>CozunurlukYükseklik</th>\n",
       "      <th>CozunurlukGenislik</th>\n",
       "      <th>RAM</th>\n",
       "      <th>BataryaOmru</th>\n",
       "    </tr>\n",
       "  </thead>\n",
       "  <tbody>\n",
       "    <tr>\n",
       "      <th>BataryaGucu</th>\n",
       "      <td>1.000000</td>\n",
       "      <td>0.011482</td>\n",
       "      <td>0.032167</td>\n",
       "      <td>-0.004004</td>\n",
       "      <td>0.034085</td>\n",
       "      <td>0.001844</td>\n",
       "      <td>-0.029727</td>\n",
       "      <td>0.031441</td>\n",
       "      <td>0.014901</td>\n",
       "      <td>-0.008402</td>\n",
       "      <td>-0.000883</td>\n",
       "      <td>0.052510</td>\n",
       "    </tr>\n",
       "    <tr>\n",
       "      <th>MikroislemciHizi</th>\n",
       "      <td>0.011482</td>\n",
       "      <td>1.000000</td>\n",
       "      <td>-0.000172</td>\n",
       "      <td>0.006545</td>\n",
       "      <td>-0.014364</td>\n",
       "      <td>0.012350</td>\n",
       "      <td>-0.005724</td>\n",
       "      <td>-0.005245</td>\n",
       "      <td>-0.014523</td>\n",
       "      <td>-0.009476</td>\n",
       "      <td>0.003969</td>\n",
       "      <td>-0.011432</td>\n",
       "    </tr>\n",
       "    <tr>\n",
       "      <th>OnKameraMP</th>\n",
       "      <td>0.032167</td>\n",
       "      <td>-0.000172</td>\n",
       "      <td>1.000000</td>\n",
       "      <td>-0.028642</td>\n",
       "      <td>-0.001723</td>\n",
       "      <td>0.024585</td>\n",
       "      <td>-0.013721</td>\n",
       "      <td>0.645697</td>\n",
       "      <td>-0.010662</td>\n",
       "      <td>-0.005646</td>\n",
       "      <td>0.012528</td>\n",
       "      <td>-0.007121</td>\n",
       "    </tr>\n",
       "    <tr>\n",
       "      <th>DahiliBellek</th>\n",
       "      <td>-0.004004</td>\n",
       "      <td>0.006545</td>\n",
       "      <td>-0.028642</td>\n",
       "      <td>1.000000</td>\n",
       "      <td>0.006886</td>\n",
       "      <td>-0.034214</td>\n",
       "      <td>-0.028310</td>\n",
       "      <td>-0.033273</td>\n",
       "      <td>0.010441</td>\n",
       "      <td>-0.008335</td>\n",
       "      <td>0.032883</td>\n",
       "      <td>-0.002790</td>\n",
       "    </tr>\n",
       "    <tr>\n",
       "      <th>Kalinlik</th>\n",
       "      <td>0.034085</td>\n",
       "      <td>-0.014364</td>\n",
       "      <td>-0.001723</td>\n",
       "      <td>0.006886</td>\n",
       "      <td>1.000000</td>\n",
       "      <td>0.021756</td>\n",
       "      <td>-0.003504</td>\n",
       "      <td>0.026282</td>\n",
       "      <td>0.025263</td>\n",
       "      <td>0.023566</td>\n",
       "      <td>-0.007293</td>\n",
       "      <td>0.017003</td>\n",
       "    </tr>\n",
       "    <tr>\n",
       "      <th>Agirlik</th>\n",
       "      <td>0.001844</td>\n",
       "      <td>0.012350</td>\n",
       "      <td>0.024585</td>\n",
       "      <td>-0.034214</td>\n",
       "      <td>0.021756</td>\n",
       "      <td>1.000000</td>\n",
       "      <td>-0.018989</td>\n",
       "      <td>0.018844</td>\n",
       "      <td>0.000939</td>\n",
       "      <td>0.000090</td>\n",
       "      <td>-0.002536</td>\n",
       "      <td>0.006209</td>\n",
       "    </tr>\n",
       "    <tr>\n",
       "      <th>CekirdekSayisi</th>\n",
       "      <td>-0.029727</td>\n",
       "      <td>-0.005724</td>\n",
       "      <td>-0.013721</td>\n",
       "      <td>-0.028310</td>\n",
       "      <td>-0.003504</td>\n",
       "      <td>-0.018989</td>\n",
       "      <td>1.000000</td>\n",
       "      <td>-0.001193</td>\n",
       "      <td>-0.006872</td>\n",
       "      <td>0.024480</td>\n",
       "      <td>0.005576</td>\n",
       "      <td>0.013148</td>\n",
       "    </tr>\n",
       "    <tr>\n",
       "      <th>ArkaKameraMP</th>\n",
       "      <td>0.031441</td>\n",
       "      <td>-0.005245</td>\n",
       "      <td>0.645697</td>\n",
       "      <td>-0.033273</td>\n",
       "      <td>0.026282</td>\n",
       "      <td>0.018844</td>\n",
       "      <td>-0.001193</td>\n",
       "      <td>1.000000</td>\n",
       "      <td>-0.018465</td>\n",
       "      <td>0.004196</td>\n",
       "      <td>0.029540</td>\n",
       "      <td>0.014657</td>\n",
       "    </tr>\n",
       "    <tr>\n",
       "      <th>CozunurlukYükseklik</th>\n",
       "      <td>0.014901</td>\n",
       "      <td>-0.014523</td>\n",
       "      <td>-0.010662</td>\n",
       "      <td>0.010441</td>\n",
       "      <td>0.025263</td>\n",
       "      <td>0.000939</td>\n",
       "      <td>-0.006872</td>\n",
       "      <td>-0.018465</td>\n",
       "      <td>1.000000</td>\n",
       "      <td>0.510664</td>\n",
       "      <td>-0.023421</td>\n",
       "      <td>-0.010645</td>\n",
       "    </tr>\n",
       "    <tr>\n",
       "      <th>CozunurlukGenislik</th>\n",
       "      <td>-0.008402</td>\n",
       "      <td>-0.009476</td>\n",
       "      <td>-0.005646</td>\n",
       "      <td>-0.008335</td>\n",
       "      <td>0.023566</td>\n",
       "      <td>0.000090</td>\n",
       "      <td>0.024480</td>\n",
       "      <td>0.004196</td>\n",
       "      <td>0.510664</td>\n",
       "      <td>1.000000</td>\n",
       "      <td>0.002101</td>\n",
       "      <td>0.006720</td>\n",
       "    </tr>\n",
       "    <tr>\n",
       "      <th>RAM</th>\n",
       "      <td>-0.000883</td>\n",
       "      <td>0.003969</td>\n",
       "      <td>0.012528</td>\n",
       "      <td>0.032883</td>\n",
       "      <td>-0.007293</td>\n",
       "      <td>-0.002536</td>\n",
       "      <td>0.005576</td>\n",
       "      <td>0.029540</td>\n",
       "      <td>-0.023421</td>\n",
       "      <td>0.002101</td>\n",
       "      <td>1.000000</td>\n",
       "      <td>0.010444</td>\n",
       "    </tr>\n",
       "    <tr>\n",
       "      <th>BataryaOmru</th>\n",
       "      <td>0.052510</td>\n",
       "      <td>-0.011432</td>\n",
       "      <td>-0.007121</td>\n",
       "      <td>-0.002790</td>\n",
       "      <td>0.017003</td>\n",
       "      <td>0.006209</td>\n",
       "      <td>0.013148</td>\n",
       "      <td>0.014657</td>\n",
       "      <td>-0.010645</td>\n",
       "      <td>0.006720</td>\n",
       "      <td>0.010444</td>\n",
       "      <td>1.000000</td>\n",
       "    </tr>\n",
       "  </tbody>\n",
       "</table>\n",
       "</div>"
      ],
      "text/plain": [
       "                     BataryaGucu  MikroislemciHizi  OnKameraMP  DahiliBellek  \\\n",
       "BataryaGucu             1.000000          0.011482    0.032167     -0.004004   \n",
       "MikroislemciHizi        0.011482          1.000000   -0.000172      0.006545   \n",
       "OnKameraMP              0.032167         -0.000172    1.000000     -0.028642   \n",
       "DahiliBellek           -0.004004          0.006545   -0.028642      1.000000   \n",
       "Kalinlik                0.034085         -0.014364   -0.001723      0.006886   \n",
       "Agirlik                 0.001844          0.012350    0.024585     -0.034214   \n",
       "CekirdekSayisi         -0.029727         -0.005724   -0.013721     -0.028310   \n",
       "ArkaKameraMP            0.031441         -0.005245    0.645697     -0.033273   \n",
       "CozunurlukYükseklik     0.014901         -0.014523   -0.010662      0.010441   \n",
       "CozunurlukGenislik     -0.008402         -0.009476   -0.005646     -0.008335   \n",
       "RAM                    -0.000883          0.003969    0.012528      0.032883   \n",
       "BataryaOmru             0.052510         -0.011432   -0.007121     -0.002790   \n",
       "\n",
       "                     Kalinlik   Agirlik  CekirdekSayisi  ArkaKameraMP  \\\n",
       "BataryaGucu          0.034085  0.001844       -0.029727      0.031441   \n",
       "MikroislemciHizi    -0.014364  0.012350       -0.005724     -0.005245   \n",
       "OnKameraMP          -0.001723  0.024585       -0.013721      0.645697   \n",
       "DahiliBellek         0.006886 -0.034214       -0.028310     -0.033273   \n",
       "Kalinlik             1.000000  0.021756       -0.003504      0.026282   \n",
       "Agirlik              0.021756  1.000000       -0.018989      0.018844   \n",
       "CekirdekSayisi      -0.003504 -0.018989        1.000000     -0.001193   \n",
       "ArkaKameraMP         0.026282  0.018844       -0.001193      1.000000   \n",
       "CozunurlukYükseklik  0.025263  0.000939       -0.006872     -0.018465   \n",
       "CozunurlukGenislik   0.023566  0.000090        0.024480      0.004196   \n",
       "RAM                 -0.007293 -0.002536        0.005576      0.029540   \n",
       "BataryaOmru          0.017003  0.006209        0.013148      0.014657   \n",
       "\n",
       "                     CozunurlukYükseklik  CozunurlukGenislik       RAM  \\\n",
       "BataryaGucu                     0.014901           -0.008402 -0.000883   \n",
       "MikroislemciHizi               -0.014523           -0.009476  0.003969   \n",
       "OnKameraMP                     -0.010662           -0.005646  0.012528   \n",
       "DahiliBellek                    0.010441           -0.008335  0.032883   \n",
       "Kalinlik                        0.025263            0.023566 -0.007293   \n",
       "Agirlik                         0.000939            0.000090 -0.002536   \n",
       "CekirdekSayisi                 -0.006872            0.024480  0.005576   \n",
       "ArkaKameraMP                   -0.018465            0.004196  0.029540   \n",
       "CozunurlukYükseklik             1.000000            0.510664 -0.023421   \n",
       "CozunurlukGenislik              0.510664            1.000000  0.002101   \n",
       "RAM                            -0.023421            0.002101  1.000000   \n",
       "BataryaOmru                    -0.010645            0.006720  0.010444   \n",
       "\n",
       "                     BataryaOmru  \n",
       "BataryaGucu             0.052510  \n",
       "MikroislemciHizi       -0.011432  \n",
       "OnKameraMP             -0.007121  \n",
       "DahiliBellek           -0.002790  \n",
       "Kalinlik                0.017003  \n",
       "Agirlik                 0.006209  \n",
       "CekirdekSayisi          0.013148  \n",
       "ArkaKameraMP            0.014657  \n",
       "CozunurlukYükseklik    -0.010645  \n",
       "CozunurlukGenislik      0.006720  \n",
       "RAM                     0.010444  \n",
       "BataryaOmru             1.000000  "
      ]
     },
     "execution_count": 8,
     "metadata": {},
     "output_type": "execute_result"
    }
   ],
   "source": [
    "corr = df.corr()\n",
    "corr\n",
    "#Kolerasyon Katsayısı +1 E Ne Kadar Yakınsa, İki Değişken Arasında O Kadar Pozitif Yönde Güçlü Bir İlişki Vardır.\n",
    "#Kolerasyon Katsayısı -1 E Ne Kadar Yakınsa, İki Değişken Arasında O Kadar Negatif Yönde Güçlü Bir İlişki Vardır.\n",
    "#Örneğin \"Batarya Gücü\" ve \"Batarya Ömrü\" Arasında Pozitif Yönlü Bir İlişki Vardır."
   ]
  },
  {
   "cell_type": "markdown",
   "id": "c70175cc",
   "metadata": {
    "papermill": {
     "duration": 0.024172,
     "end_time": "2023-03-13T11:01:16.095359",
     "exception": false,
     "start_time": "2023-03-13T11:01:16.071187",
     "status": "completed"
    },
    "tags": []
   },
   "source": [
    "Kolerasyon İlişkisini Isı Haritasıyla Görselleştirelim ve Daha Anlaşılabilir Kılalım.\n"
   ]
  },
  {
   "cell_type": "code",
   "execution_count": 9,
   "id": "48dca8b4",
   "metadata": {
    "execution": {
     "iopub.execute_input": "2023-03-13T11:01:16.145625Z",
     "iopub.status.busy": "2023-03-13T11:01:16.144977Z",
     "iopub.status.idle": "2023-03-13T11:01:16.868466Z",
     "shell.execute_reply": "2023-03-13T11:01:16.867341Z"
    },
    "papermill": {
     "duration": 0.750418,
     "end_time": "2023-03-13T11:01:16.870368",
     "exception": false,
     "start_time": "2023-03-13T11:01:16.119950",
     "status": "completed"
    },
    "tags": []
   },
   "outputs": [
    {
     "data": {
      "text/plain": [
       "<AxesSubplot:>"
      ]
     },
     "execution_count": 9,
     "metadata": {},
     "output_type": "execute_result"
    },
    {
     "data": {
      "image/png": "[encoded data removed]",
      "text/plain": [
       "<Figure size 864x720 with 2 Axes>"
      ]
     },
     "metadata": {
      "needs_background": "light"
     },
     "output_type": "display_data"
    }
   ],
   "source": [
    "plt.subplots(figsize=(12, 10))\n",
    "sns.heatmap(corr, \n",
    "            xticklabels = corr.columns.values,\n",
    "            yticklabels = corr.columns.values,\n",
    "            vmin = -1 , vmax = 1, annot = True, linewidths = 1)\n",
    "#Buradan Daha Rahat Görülüyor Ki, \"Ön Kamera MP\" ve \"Arka Kamera MP\" Arasında Pozitif Güçlü Bir İlişki Var. Aynı Durum \"Çözünürlük\" Değerleri İçinde Geçerli."
   ]
  },
  {
   "cell_type": "markdown",
   "id": "4f4db253",
   "metadata": {
    "papermill": {
     "duration": 0.024936,
     "end_time": "2023-03-13T11:01:16.920724",
     "exception": false,
     "start_time": "2023-03-13T11:01:16.895788",
     "status": "completed"
    },
    "tags": []
   },
   "source": [
    "Bu İlişkiyi Seaborn Araçlarıyla Daha Fazla Görselleştirelim "
   ]
  },
  {
   "cell_type": "code",
   "execution_count": 10,
   "id": "8f0fe265",
   "metadata": {
    "execution": {
     "iopub.execute_input": "2023-03-13T11:01:16.972539Z",
     "iopub.status.busy": "2023-03-13T11:01:16.971790Z",
     "iopub.status.idle": "2023-03-13T11:01:17.149163Z",
     "shell.execute_reply": "2023-03-13T11:01:17.148338Z"
    },
    "papermill": {
     "duration": 0.20538,
     "end_time": "2023-03-13T11:01:17.150924",
     "exception": false,
     "start_time": "2023-03-13T11:01:16.945544",
     "status": "completed"
    },
    "tags": []
   },
   "outputs": [
    {
     "data": {
      "text/plain": [
       "<AxesSubplot:xlabel='ArkaKameraMP', ylabel='OnKameraMP'>"
      ]
     },
     "execution_count": 10,
     "metadata": {},
     "output_type": "execute_result"
    },
    {
     "data": {
      "image/png": "[encoded data removed]",
      "text/plain": [
       "<Figure size 432x288 with 1 Axes>"
      ]
     },
     "metadata": {
      "needs_background": "light"
     },
     "output_type": "display_data"
    }
   ],
   "source": [
    "sns.scatterplot(y = 'OnKameraMP' , x = 'ArkaKameraMP' , data = df , color = 'orange') \n",
    "#Kolerasyon katsayısında da gözlemlediğimiz gibi \"Ön Kamera\" ve \"Arka Kamera\" arasında pozitif doğrusal ve güçlü bir ilişki var."
   ]
  },
  {
   "cell_type": "markdown",
   "id": "e32ed051",
   "metadata": {
    "papermill": {
     "duration": 0.025634,
     "end_time": "2023-03-13T11:01:17.201969",
     "exception": false,
     "start_time": "2023-03-13T11:01:17.176335",
     "status": "completed"
    },
    "tags": []
   },
   "source": [
    "Tabletlerin Ön Kamerasının Hangi Değerde Yoğunlaştığına Bakalım"
   ]
  },
  {
   "cell_type": "code",
   "execution_count": 11,
   "id": "ca565815",
   "metadata": {
    "execution": {
     "iopub.execute_input": "2023-03-13T11:01:17.254625Z",
     "iopub.status.busy": "2023-03-13T11:01:17.254157Z",
     "iopub.status.idle": "2023-03-13T11:01:17.440974Z",
     "shell.execute_reply": "2023-03-13T11:01:17.440021Z"
    },
    "papermill": {
     "duration": 0.215816,
     "end_time": "2023-03-13T11:01:17.442758",
     "exception": false,
     "start_time": "2023-03-13T11:01:17.226942",
     "status": "completed"
    },
    "tags": []
   },
   "outputs": [
    {
     "data": {
      "text/plain": [
       "(<AxesSubplot:xlabel='OnKameraMP', ylabel='FiyatAraligi'>,)"
      ]
     },
     "execution_count": 11,
     "metadata": {},
     "output_type": "execute_result"
    },
    {
     "data": {
      "image/png": "[encoded data removed]",
      "text/plain": [
       "<Figure size 432x288 with 1 Axes>"
      ]
     },
     "metadata": {
      "needs_background": "light"
     },
     "output_type": "display_data"
    }
   ],
   "source": [
    "sns.violinplot(x = 'OnKameraMP' , y = 'FiyatAraligi' ,  data = df), #Tabletlerimizin Ön Kamerasının 0-5 MP Aralığında Yoğun Olduğunu Görüyoruz."
   ]
  },
  {
   "cell_type": "markdown",
   "id": "41145d4b",
   "metadata": {
    "papermill": {
     "duration": 0.025709,
     "end_time": "2023-03-13T11:01:17.494809",
     "exception": false,
     "start_time": "2023-03-13T11:01:17.469100",
     "status": "completed"
    },
    "tags": []
   },
   "source": [
    "Şimdi De Çözünürlük Değişkenlerimiz Arasında Ki İlişkiyi Görselleştirelim."
   ]
  },
  {
   "cell_type": "code",
   "execution_count": 12,
   "id": "2510dfad",
   "metadata": {
    "execution": {
     "iopub.execute_input": "2023-03-13T11:01:17.548617Z",
     "iopub.status.busy": "2023-03-13T11:01:17.547769Z",
     "iopub.status.idle": "2023-03-13T11:01:17.967603Z",
     "shell.execute_reply": "2023-03-13T11:01:17.966238Z"
    },
    "papermill": {
     "duration": 0.448776,
     "end_time": "2023-03-13T11:01:17.969560",
     "exception": false,
     "start_time": "2023-03-13T11:01:17.520784",
     "status": "completed"
    },
    "tags": []
   },
   "outputs": [
    {
     "data": {
      "text/plain": [
       "<seaborn.axisgrid.JointGrid at 0x7f874c0637d0>"
      ]
     },
     "execution_count": 12,
     "metadata": {},
     "output_type": "execute_result"
    },
    {
     "data": {
      "image/png": "[encoded data removed]",
      "text/plain": [
       "<Figure size 432x432 with 3 Axes>"
      ]
     },
     "metadata": {
      "needs_background": "light"
     },
     "output_type": "display_data"
    }
   ],
   "source": [
    "sns.jointplot(y = 'CozunurlukYükseklik' , x = 'CozunurlukGenislik' , data = df)\n",
    "#Görüldüğü gibi iki değişken arasında doğrusal ve pozitif bir ilişki vardır."
   ]
  },
  {
   "cell_type": "markdown",
   "id": "b96a1ca5",
   "metadata": {
    "papermill": {
     "duration": 0.026107,
     "end_time": "2023-03-13T11:01:18.022978",
     "exception": false,
     "start_time": "2023-03-13T11:01:17.996871",
     "status": "completed"
    },
    "tags": []
   },
   "source": [
    "Ön Kamera Değerimizi Daha Detaylı İnceleyerek, Standart Sapma, Ortalama Gibi Değerlerini Gözlemleyelim"
   ]
  },
  {
   "cell_type": "code",
   "execution_count": 13,
   "id": "d60cf229",
   "metadata": {
    "execution": {
     "iopub.execute_input": "2023-03-13T11:01:18.077151Z",
     "iopub.status.busy": "2023-03-13T11:01:18.076729Z",
     "iopub.status.idle": "2023-03-13T11:01:18.085623Z",
     "shell.execute_reply": "2023-03-13T11:01:18.084903Z"
    },
    "papermill": {
     "duration": 0.0382,
     "end_time": "2023-03-13T11:01:18.087369",
     "exception": false,
     "start_time": "2023-03-13T11:01:18.049169",
     "status": "completed"
    },
    "tags": []
   },
   "outputs": [
    {
     "data": {
      "text/plain": [
       "count    1995.000000\n",
       "mean        4.312281\n",
       "std         4.342095\n",
       "min         0.000000\n",
       "25%         1.000000\n",
       "50%         3.000000\n",
       "75%         7.000000\n",
       "max        19.000000\n",
       "Name: OnKameraMP, dtype: float64"
      ]
     },
     "execution_count": 13,
     "metadata": {},
     "output_type": "execute_result"
    }
   ],
   "source": [
    "df['OnKameraMP'].describe().T\n",
    "#Ön Kamera Ortalaması \"4.312281\" , Standart Sapması \"4.342095\"."
   ]
  },
  {
   "cell_type": "markdown",
   "id": "f4b1e4a0",
   "metadata": {
    "papermill": {
     "duration": 0.026781,
     "end_time": "2023-03-13T11:01:18.142371",
     "exception": false,
     "start_time": "2023-03-13T11:01:18.115590",
     "status": "completed"
    },
    "tags": []
   },
   "source": [
    "Verilerimizin Sayısal Değişken Ortalamalarını Fiyatlarına Göre Gruplayarak İnceleyelim"
   ]
  },
  {
   "cell_type": "code",
   "execution_count": 14,
   "id": "7e0e920c",
   "metadata": {
    "execution": {
     "iopub.execute_input": "2023-03-13T11:01:18.198062Z",
     "iopub.status.busy": "2023-03-13T11:01:18.197161Z",
     "iopub.status.idle": "2023-03-13T11:01:18.217901Z",
     "shell.execute_reply": "2023-03-13T11:01:18.217096Z"
    },
    "papermill": {
     "duration": 0.050979,
     "end_time": "2023-03-13T11:01:18.219831",
     "exception": false,
     "start_time": "2023-03-13T11:01:18.168852",
     "status": "completed"
    },
    "tags": []
   },
   "outputs": [
    {
     "data": {
      "text/html": [
       "<div>\n",
       "<style scoped>\n",
       "    .dataframe tbody tr th:only-of-type {\n",
       "        vertical-align: middle;\n",
       "    }\n",
       "\n",
       "    .dataframe tbody tr th {\n",
       "        vertical-align: top;\n",
       "    }\n",
       "\n",
       "    .dataframe thead th {\n",
       "        text-align: right;\n",
       "    }\n",
       "</style>\n",
       "<table border=\"1\" class=\"dataframe\">\n",
       "  <thead>\n",
       "    <tr style=\"text-align: right;\">\n",
       "      <th></th>\n",
       "      <th>BataryaGucu</th>\n",
       "      <th>MikroislemciHizi</th>\n",
       "      <th>OnKameraMP</th>\n",
       "      <th>DahiliBellek</th>\n",
       "      <th>Kalinlik</th>\n",
       "      <th>Agirlik</th>\n",
       "      <th>CekirdekSayisi</th>\n",
       "      <th>ArkaKameraMP</th>\n",
       "      <th>CozunurlukYükseklik</th>\n",
       "      <th>CozunurlukGenislik</th>\n",
       "      <th>RAM</th>\n",
       "      <th>BataryaOmru</th>\n",
       "    </tr>\n",
       "    <tr>\n",
       "      <th>FiyatAraligi</th>\n",
       "      <th></th>\n",
       "      <th></th>\n",
       "      <th></th>\n",
       "      <th></th>\n",
       "      <th></th>\n",
       "      <th></th>\n",
       "      <th></th>\n",
       "      <th></th>\n",
       "      <th></th>\n",
       "      <th></th>\n",
       "      <th></th>\n",
       "      <th></th>\n",
       "    </tr>\n",
       "  </thead>\n",
       "  <tbody>\n",
       "    <tr>\n",
       "      <th>Normal</th>\n",
       "      <td>1228.320</td>\n",
       "      <td>1.5298</td>\n",
       "      <td>4.498000</td>\n",
       "      <td>30.920</td>\n",
       "      <td>0.4908</td>\n",
       "      <td>143.614</td>\n",
       "      <td>4.682</td>\n",
       "      <td>10.018</td>\n",
       "      <td>632.284</td>\n",
       "      <td>1234.046</td>\n",
       "      <td>2582.81600</td>\n",
       "      <td>10.972</td>\n",
       "    </tr>\n",
       "    <tr>\n",
       "      <th>Pahalı</th>\n",
       "      <td>1379.984</td>\n",
       "      <td>1.5204</td>\n",
       "      <td>4.316000</td>\n",
       "      <td>33.976</td>\n",
       "      <td>0.5020</td>\n",
       "      <td>136.320</td>\n",
       "      <td>4.502</td>\n",
       "      <td>10.150</td>\n",
       "      <td>744.848</td>\n",
       "      <td>1369.838</td>\n",
       "      <td>3449.35041</td>\n",
       "      <td>11.098</td>\n",
       "    </tr>\n",
       "    <tr>\n",
       "      <th>Ucuz</th>\n",
       "      <td>1228.868</td>\n",
       "      <td>1.4886</td>\n",
       "      <td>4.340000</td>\n",
       "      <td>32.116</td>\n",
       "      <td>0.5240</td>\n",
       "      <td>140.510</td>\n",
       "      <td>4.298</td>\n",
       "      <td>9.924</td>\n",
       "      <td>666.892</td>\n",
       "      <td>1251.908</td>\n",
       "      <td>1679.49000</td>\n",
       "      <td>11.362</td>\n",
       "    </tr>\n",
       "    <tr>\n",
       "      <th>Çok Ucuz</th>\n",
       "      <td>1116.902</td>\n",
       "      <td>1.5502</td>\n",
       "      <td>4.092929</td>\n",
       "      <td>31.174</td>\n",
       "      <td>0.4902</td>\n",
       "      <td>140.552</td>\n",
       "      <td>4.600</td>\n",
       "      <td>9.574</td>\n",
       "      <td>536.408</td>\n",
       "      <td>1150.270</td>\n",
       "      <td>785.31400</td>\n",
       "      <td>10.612</td>\n",
       "    </tr>\n",
       "  </tbody>\n",
       "</table>\n",
       "</div>"
      ],
      "text/plain": [
       "              BataryaGucu  MikroislemciHizi  OnKameraMP  DahiliBellek  \\\n",
       "FiyatAraligi                                                            \n",
       "Normal           1228.320            1.5298    4.498000        30.920   \n",
       "Pahalı           1379.984            1.5204    4.316000        33.976   \n",
       "Ucuz             1228.868            1.4886    4.340000        32.116   \n",
       "Çok Ucuz         1116.902            1.5502    4.092929        31.174   \n",
       "\n",
       "              Kalinlik  Agirlik  CekirdekSayisi  ArkaKameraMP  \\\n",
       "FiyatAraligi                                                    \n",
       "Normal          0.4908  143.614           4.682        10.018   \n",
       "Pahalı          0.5020  136.320           4.502        10.150   \n",
       "Ucuz            0.5240  140.510           4.298         9.924   \n",
       "Çok Ucuz        0.4902  140.552           4.600         9.574   \n",
       "\n",
       "              CozunurlukYükseklik  CozunurlukGenislik         RAM  BataryaOmru  \n",
       "FiyatAraligi                                                                    \n",
       "Normal                    632.284            1234.046  2582.81600       10.972  \n",
       "Pahalı                    744.848            1369.838  3449.35041       11.098  \n",
       "Ucuz                      666.892            1251.908  1679.49000       11.362  \n",
       "Çok Ucuz                  536.408            1150.270   785.31400       10.612  "
      ]
     },
     "execution_count": 14,
     "metadata": {},
     "output_type": "execute_result"
    }
   ],
   "source": [
    "df.groupby(['FiyatAraligi']).mean()"
   ]
  },
  {
   "cell_type": "markdown",
   "id": "8947102f",
   "metadata": {
    "papermill": {
     "duration": 0.026787,
     "end_time": "2023-03-13T11:01:18.273887",
     "exception": false,
     "start_time": "2023-03-13T11:01:18.247100",
     "status": "completed"
    },
    "tags": []
   },
   "source": [
    "Veri Setimizdeki Sayısal Değerleri Topluca Görsel Olarak Görelim"
   ]
  },
  {
   "cell_type": "code",
   "execution_count": 15,
   "id": "3701b235",
   "metadata": {
    "execution": {
     "iopub.execute_input": "2023-03-13T11:01:18.330864Z",
     "iopub.status.busy": "2023-03-13T11:01:18.330095Z",
     "iopub.status.idle": "2023-03-13T11:01:19.748526Z",
     "shell.execute_reply": "2023-03-13T11:01:19.747221Z"
    },
    "papermill": {
     "duration": 1.449417,
     "end_time": "2023-03-13T11:01:19.750413",
     "exception": false,
     "start_time": "2023-03-13T11:01:18.300996",
     "status": "completed"
    },
    "tags": []
   },
   "outputs": [
    {
     "data": {
      "image/png": "[encoded data removed]",
      "text/plain": [
       "<Figure size 1080x1080 with 12 Axes>"
      ]
     },
     "metadata": {
      "needs_background": "light"
     },
     "output_type": "display_data"
    }
   ],
   "source": [
    "df.hist(figsize=(15,15),color = 'magenta');"
   ]
  },
  {
   "cell_type": "markdown",
   "id": "fde34b65",
   "metadata": {
    "papermill": {
     "duration": 0.02712,
     "end_time": "2023-03-13T11:01:19.805318",
     "exception": false,
     "start_time": "2023-03-13T11:01:19.778198",
     "status": "completed"
    },
    "tags": []
   },
   "source": [
    "Kategorik Değişkenlerimizden Olan \"Renk\" Değişkenimizin Durumunu Sayı Grafiği Çizdirerek Gözlemleyelim."
   ]
  },
  {
   "cell_type": "code",
   "execution_count": 16,
   "id": "c7896bd8",
   "metadata": {
    "execution": {
     "iopub.execute_input": "2023-03-13T11:01:19.862975Z",
     "iopub.status.busy": "2023-03-13T11:01:19.862585Z",
     "iopub.status.idle": "2023-03-13T11:01:20.063698Z",
     "shell.execute_reply": "2023-03-13T11:01:20.063131Z"
    },
    "papermill": {
     "duration": 0.231496,
     "end_time": "2023-03-13T11:01:20.065124",
     "exception": false,
     "start_time": "2023-03-13T11:01:19.833628",
     "status": "completed"
    },
    "tags": []
   },
   "outputs": [
    {
     "data": {
      "text/plain": [
       "<AxesSubplot:xlabel='Renk', ylabel='count'>"
      ]
     },
     "execution_count": 16,
     "metadata": {},
     "output_type": "execute_result"
    },
    {
     "data": {
      "image/png": "[encoded data removed]",
      "text/plain": [
       "<Figure size 864x720 with 1 Axes>"
      ]
     },
     "metadata": {
      "needs_background": "light"
     },
     "output_type": "display_data"
    }
   ],
   "source": [
    "plt.subplots(figsize=(12, 10))\n",
    "sns.countplot(x = 'Renk' , data = df)\n",
    "#En çok beyaz renkli tabletimiz bulunmakta."
   ]
  },
  {
   "cell_type": "markdown",
   "id": "fab233a8",
   "metadata": {
    "papermill": {
     "duration": 0.027094,
     "end_time": "2023-03-13T11:01:20.119644",
     "exception": false,
     "start_time": "2023-03-13T11:01:20.092550",
     "status": "completed"
    },
    "tags": []
   },
   "source": [
    "Renk değerlerimiz hedef değişkenimizi etkileyen bir öz nitelik olmadığı için, modelimizde kullanmayacağız. Veri setimizden çıkartabiliriz.\n"
   ]
  },
  {
   "cell_type": "code",
   "execution_count": 17,
   "id": "c57bf068",
   "metadata": {
    "execution": {
     "iopub.execute_input": "2023-03-13T11:01:20.176767Z",
     "iopub.status.busy": "2023-03-13T11:01:20.175616Z",
     "iopub.status.idle": "2023-03-13T11:01:20.181061Z",
     "shell.execute_reply": "2023-03-13T11:01:20.180492Z"
    },
    "papermill": {
     "duration": 0.035607,
     "end_time": "2023-03-13T11:01:20.182561",
     "exception": false,
     "start_time": "2023-03-13T11:01:20.146954",
     "status": "completed"
    },
    "tags": []
   },
   "outputs": [],
   "source": [
    "df.drop(['Renk'], axis=1,inplace=True)"
   ]
  },
  {
   "cell_type": "markdown",
   "id": "feefc036",
   "metadata": {
    "papermill": {
     "duration": 0.027308,
     "end_time": "2023-03-13T11:01:20.237675",
     "exception": false,
     "start_time": "2023-03-13T11:01:20.210367",
     "status": "completed"
    },
    "tags": []
   },
   "source": [
    "# Eksik Verileri Dolduralım"
   ]
  },
  {
   "cell_type": "markdown",
   "id": "ee2b6757",
   "metadata": {
    "papermill": {
     "duration": 0.028302,
     "end_time": "2023-03-13T11:01:20.295882",
     "exception": false,
     "start_time": "2023-03-13T11:01:20.267580",
     "status": "completed"
    },
    "tags": []
   },
   "source": [
    "Ön Kamera ve RAM değişkenlerimiz eksik değerlere sahipti.Bunları doldurucaz."
   ]
  },
  {
   "cell_type": "markdown",
   "id": "cc4ac8e7",
   "metadata": {
    "papermill": {
     "duration": 0.026655,
     "end_time": "2023-03-13T11:01:20.351157",
     "exception": false,
     "start_time": "2023-03-13T11:01:20.324502",
     "status": "completed"
    },
    "tags": []
   },
   "source": [
    "Ön Kamera Eksik Stünları Görelim"
   ]
  },
  {
   "cell_type": "code",
   "execution_count": 18,
   "id": "deb144e3",
   "metadata": {
    "execution": {
     "iopub.execute_input": "2023-03-13T11:01:20.407624Z",
     "iopub.status.busy": "2023-03-13T11:01:20.406717Z",
     "iopub.status.idle": "2023-03-13T11:01:20.425261Z",
     "shell.execute_reply": "2023-03-13T11:01:20.424405Z"
    },
    "papermill": {
     "duration": 0.048536,
     "end_time": "2023-03-13T11:01:20.426855",
     "exception": false,
     "start_time": "2023-03-13T11:01:20.378319",
     "status": "completed"
    },
    "tags": []
   },
   "outputs": [
    {
     "data": {
      "text/html": [
       "<div>\n",
       "<style scoped>\n",
       "    .dataframe tbody tr th:only-of-type {\n",
       "        vertical-align: middle;\n",
       "    }\n",
       "\n",
       "    .dataframe tbody tr th {\n",
       "        vertical-align: top;\n",
       "    }\n",
       "\n",
       "    .dataframe thead th {\n",
       "        text-align: right;\n",
       "    }\n",
       "</style>\n",
       "<table border=\"1\" class=\"dataframe\">\n",
       "  <thead>\n",
       "    <tr style=\"text-align: right;\">\n",
       "      <th></th>\n",
       "      <th>BataryaGucu</th>\n",
       "      <th>Bluetooth</th>\n",
       "      <th>MikroislemciHizi</th>\n",
       "      <th>CiftHat</th>\n",
       "      <th>OnKameraMP</th>\n",
       "      <th>4G</th>\n",
       "      <th>DahiliBellek</th>\n",
       "      <th>Kalinlik</th>\n",
       "      <th>Agirlik</th>\n",
       "      <th>CekirdekSayisi</th>\n",
       "      <th>ArkaKameraMP</th>\n",
       "      <th>CozunurlukYükseklik</th>\n",
       "      <th>CozunurlukGenislik</th>\n",
       "      <th>RAM</th>\n",
       "      <th>BataryaOmru</th>\n",
       "      <th>3G</th>\n",
       "      <th>Dokunmatik</th>\n",
       "      <th>WiFi</th>\n",
       "      <th>FiyatAraligi</th>\n",
       "    </tr>\n",
       "  </thead>\n",
       "  <tbody>\n",
       "    <tr>\n",
       "      <th>351</th>\n",
       "      <td>726</td>\n",
       "      <td>Yok</td>\n",
       "      <td>2.2</td>\n",
       "      <td>Yok</td>\n",
       "      <td>NaN</td>\n",
       "      <td>Var</td>\n",
       "      <td>40</td>\n",
       "      <td>0.8</td>\n",
       "      <td>94</td>\n",
       "      <td>4</td>\n",
       "      <td>20</td>\n",
       "      <td>323</td>\n",
       "      <td>978</td>\n",
       "      <td>1342.0</td>\n",
       "      <td>4</td>\n",
       "      <td>Var</td>\n",
       "      <td>Var</td>\n",
       "      <td>Var</td>\n",
       "      <td>Çok Ucuz</td>\n",
       "    </tr>\n",
       "    <tr>\n",
       "      <th>726</th>\n",
       "      <td>1296</td>\n",
       "      <td>Yok</td>\n",
       "      <td>0.9</td>\n",
       "      <td>Var</td>\n",
       "      <td>NaN</td>\n",
       "      <td>Var</td>\n",
       "      <td>14</td>\n",
       "      <td>0.5</td>\n",
       "      <td>124</td>\n",
       "      <td>5</td>\n",
       "      <td>3</td>\n",
       "      <td>811</td>\n",
       "      <td>1272</td>\n",
       "      <td>490.0</td>\n",
       "      <td>4</td>\n",
       "      <td>Var</td>\n",
       "      <td>Var</td>\n",
       "      <td>Var</td>\n",
       "      <td>Çok Ucuz</td>\n",
       "    </tr>\n",
       "    <tr>\n",
       "      <th>792</th>\n",
       "      <td>504</td>\n",
       "      <td>Yok</td>\n",
       "      <td>2.8</td>\n",
       "      <td>Var</td>\n",
       "      <td>NaN</td>\n",
       "      <td>Yok</td>\n",
       "      <td>40</td>\n",
       "      <td>0.5</td>\n",
       "      <td>178</td>\n",
       "      <td>3</td>\n",
       "      <td>0</td>\n",
       "      <td>626</td>\n",
       "      <td>1195</td>\n",
       "      <td>470.0</td>\n",
       "      <td>16</td>\n",
       "      <td>Var</td>\n",
       "      <td>Yok</td>\n",
       "      <td>Yok</td>\n",
       "      <td>Çok Ucuz</td>\n",
       "    </tr>\n",
       "    <tr>\n",
       "      <th>1416</th>\n",
       "      <td>1617</td>\n",
       "      <td>Var</td>\n",
       "      <td>2.4</td>\n",
       "      <td>Yok</td>\n",
       "      <td>NaN</td>\n",
       "      <td>Var</td>\n",
       "      <td>36</td>\n",
       "      <td>0.8</td>\n",
       "      <td>85</td>\n",
       "      <td>1</td>\n",
       "      <td>9</td>\n",
       "      <td>743</td>\n",
       "      <td>1426</td>\n",
       "      <td>296.0</td>\n",
       "      <td>7</td>\n",
       "      <td>Var</td>\n",
       "      <td>Yok</td>\n",
       "      <td>Yok</td>\n",
       "      <td>Çok Ucuz</td>\n",
       "    </tr>\n",
       "    <tr>\n",
       "      <th>1641</th>\n",
       "      <td>763</td>\n",
       "      <td>Yok</td>\n",
       "      <td>1.7</td>\n",
       "      <td>Var</td>\n",
       "      <td>NaN</td>\n",
       "      <td>Var</td>\n",
       "      <td>2</td>\n",
       "      <td>0.5</td>\n",
       "      <td>92</td>\n",
       "      <td>8</td>\n",
       "      <td>14</td>\n",
       "      <td>1028</td>\n",
       "      <td>1186</td>\n",
       "      <td>1050.0</td>\n",
       "      <td>8</td>\n",
       "      <td>Var</td>\n",
       "      <td>Var</td>\n",
       "      <td>Yok</td>\n",
       "      <td>Çok Ucuz</td>\n",
       "    </tr>\n",
       "  </tbody>\n",
       "</table>\n",
       "</div>"
      ],
      "text/plain": [
       "      BataryaGucu Bluetooth  MikroislemciHizi CiftHat  OnKameraMP   4G  \\\n",
       "351           726       Yok               2.2     Yok         NaN  Var   \n",
       "726          1296       Yok               0.9     Var         NaN  Var   \n",
       "792           504       Yok               2.8     Var         NaN  Yok   \n",
       "1416         1617       Var               2.4     Yok         NaN  Var   \n",
       "1641          763       Yok               1.7     Var         NaN  Var   \n",
       "\n",
       "      DahiliBellek  Kalinlik  Agirlik  CekirdekSayisi  ArkaKameraMP  \\\n",
       "351             40       0.8       94               4            20   \n",
       "726             14       0.5      124               5             3   \n",
       "792             40       0.5      178               3             0   \n",
       "1416            36       0.8       85               1             9   \n",
       "1641             2       0.5       92               8            14   \n",
       "\n",
       "      CozunurlukYükseklik  CozunurlukGenislik     RAM  BataryaOmru   3G  \\\n",
       "351                   323                 978  1342.0            4  Var   \n",
       "726                   811                1272   490.0            4  Var   \n",
       "792                   626                1195   470.0           16  Var   \n",
       "1416                  743                1426   296.0            7  Var   \n",
       "1641                 1028                1186  1050.0            8  Var   \n",
       "\n",
       "     Dokunmatik WiFi FiyatAraligi  \n",
       "351         Var  Var     Çok Ucuz  \n",
       "726         Var  Var     Çok Ucuz  \n",
       "792         Yok  Yok     Çok Ucuz  \n",
       "1416        Yok  Yok     Çok Ucuz  \n",
       "1641        Var  Yok     Çok Ucuz  "
      ]
     },
     "execution_count": 18,
     "metadata": {},
     "output_type": "execute_result"
    }
   ],
   "source": [
    "df[df[\"OnKameraMP\"].isnull()]"
   ]
  },
  {
   "cell_type": "markdown",
   "id": "5a7204b4",
   "metadata": {
    "papermill": {
     "duration": 0.027891,
     "end_time": "2023-03-13T11:01:20.483076",
     "exception": false,
     "start_time": "2023-03-13T11:01:20.455185",
     "status": "completed"
    },
    "tags": []
   },
   "source": [
    "Boş değerleri ön kamera değişkeninin ortalamasıyla doldurarak bu boşlukları anlamlı hale getirelim. Boş stünlardaki tabletlerimizin fiyat aralığının hep Çok Ucuz olduğunu görebiliyoruz. Bu yüzden \"Çok Ucuz\" tabletlerin Ön Kamera ortalama değeriyle doldurmamız gerekmekte"
   ]
  },
  {
   "cell_type": "code",
   "execution_count": 19,
   "id": "05d997ad",
   "metadata": {
    "execution": {
     "iopub.execute_input": "2023-03-13T11:01:20.541212Z",
     "iopub.status.busy": "2023-03-13T11:01:20.540248Z",
     "iopub.status.idle": "2023-03-13T11:01:20.555176Z",
     "shell.execute_reply": "2023-03-13T11:01:20.554248Z"
    },
    "papermill": {
     "duration": 0.045895,
     "end_time": "2023-03-13T11:01:20.556821",
     "exception": false,
     "start_time": "2023-03-13T11:01:20.510926",
     "status": "completed"
    },
    "tags": []
   },
   "outputs": [
    {
     "data": {
      "text/html": [
       "<div>\n",
       "<style scoped>\n",
       "    .dataframe tbody tr th:only-of-type {\n",
       "        vertical-align: middle;\n",
       "    }\n",
       "\n",
       "    .dataframe tbody tr th {\n",
       "        vertical-align: top;\n",
       "    }\n",
       "\n",
       "    .dataframe thead th {\n",
       "        text-align: right;\n",
       "    }\n",
       "</style>\n",
       "<table border=\"1\" class=\"dataframe\">\n",
       "  <thead>\n",
       "    <tr style=\"text-align: right;\">\n",
       "      <th></th>\n",
       "      <th>OnKameraMP</th>\n",
       "    </tr>\n",
       "    <tr>\n",
       "      <th>FiyatAraligi</th>\n",
       "      <th></th>\n",
       "    </tr>\n",
       "  </thead>\n",
       "  <tbody>\n",
       "    <tr>\n",
       "      <th>Normal</th>\n",
       "      <td>4.498000</td>\n",
       "    </tr>\n",
       "    <tr>\n",
       "      <th>Pahalı</th>\n",
       "      <td>4.316000</td>\n",
       "    </tr>\n",
       "    <tr>\n",
       "      <th>Ucuz</th>\n",
       "      <td>4.340000</td>\n",
       "    </tr>\n",
       "    <tr>\n",
       "      <th>Çok Ucuz</th>\n",
       "      <td>4.092929</td>\n",
       "    </tr>\n",
       "  </tbody>\n",
       "</table>\n",
       "</div>"
      ],
      "text/plain": [
       "              OnKameraMP\n",
       "FiyatAraligi            \n",
       "Normal          4.498000\n",
       "Pahalı          4.316000\n",
       "Ucuz            4.340000\n",
       "Çok Ucuz        4.092929"
      ]
     },
     "execution_count": 19,
     "metadata": {},
     "output_type": "execute_result"
    }
   ],
   "source": [
    "df.groupby(\"FiyatAraligi\")[[\"OnKameraMP\"]].mean()"
   ]
  },
  {
   "cell_type": "markdown",
   "id": "e4332ff8",
   "metadata": {
    "papermill": {
     "duration": 0.027509,
     "end_time": "2023-03-13T11:01:20.611789",
     "exception": false,
     "start_time": "2023-03-13T11:01:20.584280",
     "status": "completed"
    },
    "tags": []
   },
   "source": [
    "Yukarda da gördüğümüz üzere \"Çok Ucuz\" etiketli tabletlerin Ön Kamera değerinin ortalaması \"4.092929\"."
   ]
  },
  {
   "cell_type": "code",
   "execution_count": 20,
   "id": "94ac7eb4",
   "metadata": {
    "execution": {
     "iopub.execute_input": "2023-03-13T11:01:20.669257Z",
     "iopub.status.busy": "2023-03-13T11:01:20.668622Z",
     "iopub.status.idle": "2023-03-13T11:01:20.676146Z",
     "shell.execute_reply": "2023-03-13T11:01:20.674704Z"
    },
    "papermill": {
     "duration": 0.038729,
     "end_time": "2023-03-13T11:01:20.678062",
     "exception": false,
     "start_time": "2023-03-13T11:01:20.639333",
     "status": "completed"
    },
    "tags": []
   },
   "outputs": [],
   "source": [
    "df.loc[df[(df[\"FiyatAraligi\"] == \"Çok Ucuz\") & (df[\"OnKameraMP\"].isnull())].index,\"OnKameraMP\"] = 4.092929"
   ]
  },
  {
   "cell_type": "markdown",
   "id": "6e67fdc6",
   "metadata": {
    "papermill": {
     "duration": 0.02744,
     "end_time": "2023-03-13T11:01:20.733374",
     "exception": false,
     "start_time": "2023-03-13T11:01:20.705934",
     "status": "completed"
    },
    "tags": []
   },
   "source": [
    "Bakalım eksik değerimiz kaldı mı "
   ]
  },
  {
   "cell_type": "code",
   "execution_count": 21,
   "id": "1f2495b0",
   "metadata": {
    "execution": {
     "iopub.execute_input": "2023-03-13T11:01:20.791204Z",
     "iopub.status.busy": "2023-03-13T11:01:20.790752Z",
     "iopub.status.idle": "2023-03-13T11:01:20.803102Z",
     "shell.execute_reply": "2023-03-13T11:01:20.802288Z"
    },
    "papermill": {
     "duration": 0.043226,
     "end_time": "2023-03-13T11:01:20.804747",
     "exception": false,
     "start_time": "2023-03-13T11:01:20.761521",
     "status": "completed"
    },
    "tags": []
   },
   "outputs": [
    {
     "data": {
      "text/html": [
       "<div>\n",
       "<style scoped>\n",
       "    .dataframe tbody tr th:only-of-type {\n",
       "        vertical-align: middle;\n",
       "    }\n",
       "\n",
       "    .dataframe tbody tr th {\n",
       "        vertical-align: top;\n",
       "    }\n",
       "\n",
       "    .dataframe thead th {\n",
       "        text-align: right;\n",
       "    }\n",
       "</style>\n",
       "<table border=\"1\" class=\"dataframe\">\n",
       "  <thead>\n",
       "    <tr style=\"text-align: right;\">\n",
       "      <th></th>\n",
       "      <th>BataryaGucu</th>\n",
       "      <th>Bluetooth</th>\n",
       "      <th>MikroislemciHizi</th>\n",
       "      <th>CiftHat</th>\n",
       "      <th>OnKameraMP</th>\n",
       "      <th>4G</th>\n",
       "      <th>DahiliBellek</th>\n",
       "      <th>Kalinlik</th>\n",
       "      <th>Agirlik</th>\n",
       "      <th>CekirdekSayisi</th>\n",
       "      <th>ArkaKameraMP</th>\n",
       "      <th>CozunurlukYükseklik</th>\n",
       "      <th>CozunurlukGenislik</th>\n",
       "      <th>RAM</th>\n",
       "      <th>BataryaOmru</th>\n",
       "      <th>3G</th>\n",
       "      <th>Dokunmatik</th>\n",
       "      <th>WiFi</th>\n",
       "      <th>FiyatAraligi</th>\n",
       "    </tr>\n",
       "  </thead>\n",
       "  <tbody>\n",
       "  </tbody>\n",
       "</table>\n",
       "</div>"
      ],
      "text/plain": [
       "Empty DataFrame\n",
       "Columns: [BataryaGucu, Bluetooth, MikroislemciHizi, CiftHat, OnKameraMP, 4G, DahiliBellek, Kalinlik, Agirlik, CekirdekSayisi, ArkaKameraMP, CozunurlukYükseklik, CozunurlukGenislik, RAM, BataryaOmru, 3G, Dokunmatik, WiFi, FiyatAraligi]\n",
       "Index: []"
      ]
     },
     "execution_count": 21,
     "metadata": {},
     "output_type": "execute_result"
    }
   ],
   "source": [
    "df[df[\"OnKameraMP\"].isnull()] #Kalmadığını Gözlemlemiş Olduk"
   ]
  },
  {
   "cell_type": "markdown",
   "id": "eda8e36d",
   "metadata": {
    "papermill": {
     "duration": 0.028195,
     "end_time": "2023-03-13T11:01:20.862111",
     "exception": false,
     "start_time": "2023-03-13T11:01:20.833916",
     "status": "completed"
    },
    "tags": []
   },
   "source": [
    "Şimdi de RAM değerimizin eksik stünlarını görünteleyelim ve bunları anlamlı değerler ile dolduralım."
   ]
  },
  {
   "cell_type": "code",
   "execution_count": 22,
   "id": "539af27f",
   "metadata": {
    "execution": {
     "iopub.execute_input": "2023-03-13T11:01:20.920941Z",
     "iopub.status.busy": "2023-03-13T11:01:20.920600Z",
     "iopub.status.idle": "2023-03-13T11:01:20.942746Z",
     "shell.execute_reply": "2023-03-13T11:01:20.941890Z"
    },
    "papermill": {
     "duration": 0.053774,
     "end_time": "2023-03-13T11:01:20.944403",
     "exception": false,
     "start_time": "2023-03-13T11:01:20.890629",
     "status": "completed"
    },
    "tags": []
   },
   "outputs": [
    {
     "data": {
      "text/html": [
       "<div>\n",
       "<style scoped>\n",
       "    .dataframe tbody tr th:only-of-type {\n",
       "        vertical-align: middle;\n",
       "    }\n",
       "\n",
       "    .dataframe tbody tr th {\n",
       "        vertical-align: top;\n",
       "    }\n",
       "\n",
       "    .dataframe thead th {\n",
       "        text-align: right;\n",
       "    }\n",
       "</style>\n",
       "<table border=\"1\" class=\"dataframe\">\n",
       "  <thead>\n",
       "    <tr style=\"text-align: right;\">\n",
       "      <th></th>\n",
       "      <th>BataryaGucu</th>\n",
       "      <th>Bluetooth</th>\n",
       "      <th>MikroislemciHizi</th>\n",
       "      <th>CiftHat</th>\n",
       "      <th>OnKameraMP</th>\n",
       "      <th>4G</th>\n",
       "      <th>DahiliBellek</th>\n",
       "      <th>Kalinlik</th>\n",
       "      <th>Agirlik</th>\n",
       "      <th>CekirdekSayisi</th>\n",
       "      <th>ArkaKameraMP</th>\n",
       "      <th>CozunurlukYükseklik</th>\n",
       "      <th>CozunurlukGenislik</th>\n",
       "      <th>RAM</th>\n",
       "      <th>BataryaOmru</th>\n",
       "      <th>3G</th>\n",
       "      <th>Dokunmatik</th>\n",
       "      <th>WiFi</th>\n",
       "      <th>FiyatAraligi</th>\n",
       "    </tr>\n",
       "  </thead>\n",
       "  <tbody>\n",
       "    <tr>\n",
       "      <th>87</th>\n",
       "      <td>1062</td>\n",
       "      <td>Var</td>\n",
       "      <td>2.5</td>\n",
       "      <td>Var</td>\n",
       "      <td>6.0</td>\n",
       "      <td>Yok</td>\n",
       "      <td>10</td>\n",
       "      <td>0.9</td>\n",
       "      <td>160</td>\n",
       "      <td>1</td>\n",
       "      <td>13</td>\n",
       "      <td>1596</td>\n",
       "      <td>1807</td>\n",
       "      <td>NaN</td>\n",
       "      <td>16</td>\n",
       "      <td>Yok</td>\n",
       "      <td>Yok</td>\n",
       "      <td>Var</td>\n",
       "      <td>Pahalı</td>\n",
       "    </tr>\n",
       "    <tr>\n",
       "      <th>169</th>\n",
       "      <td>1944</td>\n",
       "      <td>Var</td>\n",
       "      <td>1.8</td>\n",
       "      <td>Var</td>\n",
       "      <td>0.0</td>\n",
       "      <td>Var</td>\n",
       "      <td>31</td>\n",
       "      <td>0.8</td>\n",
       "      <td>87</td>\n",
       "      <td>4</td>\n",
       "      <td>10</td>\n",
       "      <td>1111</td>\n",
       "      <td>1362</td>\n",
       "      <td>NaN</td>\n",
       "      <td>8</td>\n",
       "      <td>Var</td>\n",
       "      <td>Yok</td>\n",
       "      <td>Yok</td>\n",
       "      <td>Pahalı</td>\n",
       "    </tr>\n",
       "    <tr>\n",
       "      <th>310</th>\n",
       "      <td>1479</td>\n",
       "      <td>Var</td>\n",
       "      <td>1.8</td>\n",
       "      <td>Var</td>\n",
       "      <td>0.0</td>\n",
       "      <td>Var</td>\n",
       "      <td>24</td>\n",
       "      <td>0.1</td>\n",
       "      <td>146</td>\n",
       "      <td>6</td>\n",
       "      <td>0</td>\n",
       "      <td>327</td>\n",
       "      <td>645</td>\n",
       "      <td>NaN</td>\n",
       "      <td>5</td>\n",
       "      <td>Var</td>\n",
       "      <td>Yok</td>\n",
       "      <td>Yok</td>\n",
       "      <td>Pahalı</td>\n",
       "    </tr>\n",
       "    <tr>\n",
       "      <th>329</th>\n",
       "      <td>1035</td>\n",
       "      <td>Yok</td>\n",
       "      <td>0.6</td>\n",
       "      <td>Var</td>\n",
       "      <td>2.0</td>\n",
       "      <td>Var</td>\n",
       "      <td>44</td>\n",
       "      <td>0.5</td>\n",
       "      <td>99</td>\n",
       "      <td>3</td>\n",
       "      <td>3</td>\n",
       "      <td>236</td>\n",
       "      <td>1960</td>\n",
       "      <td>NaN</td>\n",
       "      <td>12</td>\n",
       "      <td>Var</td>\n",
       "      <td>Var</td>\n",
       "      <td>Yok</td>\n",
       "      <td>Pahalı</td>\n",
       "    </tr>\n",
       "    <tr>\n",
       "      <th>658</th>\n",
       "      <td>732</td>\n",
       "      <td>Var</td>\n",
       "      <td>1.3</td>\n",
       "      <td>Yok</td>\n",
       "      <td>5.0</td>\n",
       "      <td>Var</td>\n",
       "      <td>32</td>\n",
       "      <td>0.4</td>\n",
       "      <td>163</td>\n",
       "      <td>8</td>\n",
       "      <td>7</td>\n",
       "      <td>1661</td>\n",
       "      <td>1836</td>\n",
       "      <td>NaN</td>\n",
       "      <td>5</td>\n",
       "      <td>Var</td>\n",
       "      <td>Yok</td>\n",
       "      <td>Var</td>\n",
       "      <td>Pahalı</td>\n",
       "    </tr>\n",
       "    <tr>\n",
       "      <th>777</th>\n",
       "      <td>753</td>\n",
       "      <td>Var</td>\n",
       "      <td>0.5</td>\n",
       "      <td>Yok</td>\n",
       "      <td>11.0</td>\n",
       "      <td>Var</td>\n",
       "      <td>48</td>\n",
       "      <td>0.1</td>\n",
       "      <td>121</td>\n",
       "      <td>8</td>\n",
       "      <td>20</td>\n",
       "      <td>606</td>\n",
       "      <td>1316</td>\n",
       "      <td>NaN</td>\n",
       "      <td>16</td>\n",
       "      <td>Var</td>\n",
       "      <td>Yok</td>\n",
       "      <td>Yok</td>\n",
       "      <td>Pahalı</td>\n",
       "    </tr>\n",
       "    <tr>\n",
       "      <th>871</th>\n",
       "      <td>1035</td>\n",
       "      <td>Var</td>\n",
       "      <td>2.7</td>\n",
       "      <td>Yok</td>\n",
       "      <td>1.0</td>\n",
       "      <td>Yok</td>\n",
       "      <td>40</td>\n",
       "      <td>0.2</td>\n",
       "      <td>157</td>\n",
       "      <td>5</td>\n",
       "      <td>15</td>\n",
       "      <td>757</td>\n",
       "      <td>1912</td>\n",
       "      <td>NaN</td>\n",
       "      <td>5</td>\n",
       "      <td>Yok</td>\n",
       "      <td>Var</td>\n",
       "      <td>Var</td>\n",
       "      <td>Pahalı</td>\n",
       "    </tr>\n",
       "    <tr>\n",
       "      <th>961</th>\n",
       "      <td>1949</td>\n",
       "      <td>Yok</td>\n",
       "      <td>1.3</td>\n",
       "      <td>Var</td>\n",
       "      <td>0.0</td>\n",
       "      <td>Yok</td>\n",
       "      <td>23</td>\n",
       "      <td>0.1</td>\n",
       "      <td>101</td>\n",
       "      <td>5</td>\n",
       "      <td>1</td>\n",
       "      <td>839</td>\n",
       "      <td>1136</td>\n",
       "      <td>NaN</td>\n",
       "      <td>20</td>\n",
       "      <td>Var</td>\n",
       "      <td>Yok</td>\n",
       "      <td>Yok</td>\n",
       "      <td>Pahalı</td>\n",
       "    </tr>\n",
       "    <tr>\n",
       "      <th>965</th>\n",
       "      <td>1786</td>\n",
       "      <td>Yok</td>\n",
       "      <td>1.2</td>\n",
       "      <td>Yok</td>\n",
       "      <td>11.0</td>\n",
       "      <td>Yok</td>\n",
       "      <td>61</td>\n",
       "      <td>0.1</td>\n",
       "      <td>123</td>\n",
       "      <td>3</td>\n",
       "      <td>14</td>\n",
       "      <td>74</td>\n",
       "      <td>865</td>\n",
       "      <td>NaN</td>\n",
       "      <td>17</td>\n",
       "      <td>Yok</td>\n",
       "      <td>Var</td>\n",
       "      <td>Yok</td>\n",
       "      <td>Pahalı</td>\n",
       "    </tr>\n",
       "    <tr>\n",
       "      <th>1180</th>\n",
       "      <td>1369</td>\n",
       "      <td>Var</td>\n",
       "      <td>1.8</td>\n",
       "      <td>Var</td>\n",
       "      <td>6.0</td>\n",
       "      <td>Yok</td>\n",
       "      <td>34</td>\n",
       "      <td>0.5</td>\n",
       "      <td>162</td>\n",
       "      <td>1</td>\n",
       "      <td>7</td>\n",
       "      <td>553</td>\n",
       "      <td>727</td>\n",
       "      <td>NaN</td>\n",
       "      <td>18</td>\n",
       "      <td>Yok</td>\n",
       "      <td>Var</td>\n",
       "      <td>Var</td>\n",
       "      <td>Pahalı</td>\n",
       "    </tr>\n",
       "    <tr>\n",
       "      <th>1779</th>\n",
       "      <td>1701</td>\n",
       "      <td>Var</td>\n",
       "      <td>0.5</td>\n",
       "      <td>Yok</td>\n",
       "      <td>13.0</td>\n",
       "      <td>Var</td>\n",
       "      <td>46</td>\n",
       "      <td>0.9</td>\n",
       "      <td>115</td>\n",
       "      <td>2</td>\n",
       "      <td>15</td>\n",
       "      <td>364</td>\n",
       "      <td>828</td>\n",
       "      <td>NaN</td>\n",
       "      <td>10</td>\n",
       "      <td>Var</td>\n",
       "      <td>Var</td>\n",
       "      <td>Yok</td>\n",
       "      <td>Pahalı</td>\n",
       "    </tr>\n",
       "    <tr>\n",
       "      <th>1804</th>\n",
       "      <td>1370</td>\n",
       "      <td>Yok</td>\n",
       "      <td>1.4</td>\n",
       "      <td>Yok</td>\n",
       "      <td>5.0</td>\n",
       "      <td>Var</td>\n",
       "      <td>6</td>\n",
       "      <td>0.2</td>\n",
       "      <td>158</td>\n",
       "      <td>6</td>\n",
       "      <td>8</td>\n",
       "      <td>1392</td>\n",
       "      <td>1783</td>\n",
       "      <td>NaN</td>\n",
       "      <td>11</td>\n",
       "      <td>Var</td>\n",
       "      <td>Var</td>\n",
       "      <td>Yok</td>\n",
       "      <td>Pahalı</td>\n",
       "    </tr>\n",
       "  </tbody>\n",
       "</table>\n",
       "</div>"
      ],
      "text/plain": [
       "      BataryaGucu Bluetooth  MikroislemciHizi CiftHat  OnKameraMP   4G  \\\n",
       "87           1062       Var               2.5     Var         6.0  Yok   \n",
       "169          1944       Var               1.8     Var         0.0  Var   \n",
       "310          1479       Var               1.8     Var         0.0  Var   \n",
       "329          1035       Yok               0.6     Var         2.0  Var   \n",
       "658           732       Var               1.3     Yok         5.0  Var   \n",
       "777           753       Var               0.5     Yok        11.0  Var   \n",
       "871          1035       Var               2.7     Yok         1.0  Yok   \n",
       "961          1949       Yok               1.3     Var         0.0  Yok   \n",
       "965          1786       Yok               1.2     Yok        11.0  Yok   \n",
       "1180         1369       Var               1.8     Var         6.0  Yok   \n",
       "1779         1701       Var               0.5     Yok        13.0  Var   \n",
       "1804         1370       Yok               1.4     Yok         5.0  Var   \n",
       "\n",
       "      DahiliBellek  Kalinlik  Agirlik  CekirdekSayisi  ArkaKameraMP  \\\n",
       "87              10       0.9      160               1            13   \n",
       "169             31       0.8       87               4            10   \n",
       "310             24       0.1      146               6             0   \n",
       "329             44       0.5       99               3             3   \n",
       "658             32       0.4      163               8             7   \n",
       "777             48       0.1      121               8            20   \n",
       "871             40       0.2      157               5            15   \n",
       "961             23       0.1      101               5             1   \n",
       "965             61       0.1      123               3            14   \n",
       "1180            34       0.5      162               1             7   \n",
       "1779            46       0.9      115               2            15   \n",
       "1804             6       0.2      158               6             8   \n",
       "\n",
       "      CozunurlukYükseklik  CozunurlukGenislik  RAM  BataryaOmru   3G  \\\n",
       "87                   1596                1807  NaN           16  Yok   \n",
       "169                  1111                1362  NaN            8  Var   \n",
       "310                   327                 645  NaN            5  Var   \n",
       "329                   236                1960  NaN           12  Var   \n",
       "658                  1661                1836  NaN            5  Var   \n",
       "777                   606                1316  NaN           16  Var   \n",
       "871                   757                1912  NaN            5  Yok   \n",
       "961                   839                1136  NaN           20  Var   \n",
       "965                    74                 865  NaN           17  Yok   \n",
       "1180                  553                 727  NaN           18  Yok   \n",
       "1779                  364                 828  NaN           10  Var   \n",
       "1804                 1392                1783  NaN           11  Var   \n",
       "\n",
       "     Dokunmatik WiFi FiyatAraligi  \n",
       "87          Yok  Var       Pahalı  \n",
       "169         Yok  Yok       Pahalı  \n",
       "310         Yok  Yok       Pahalı  \n",
       "329         Var  Yok       Pahalı  \n",
       "658         Yok  Var       Pahalı  \n",
       "777         Yok  Yok       Pahalı  \n",
       "871         Var  Var       Pahalı  \n",
       "961         Yok  Yok       Pahalı  \n",
       "965         Var  Yok       Pahalı  \n",
       "1180        Var  Var       Pahalı  \n",
       "1779        Var  Yok       Pahalı  \n",
       "1804        Var  Yok       Pahalı  "
      ]
     },
     "execution_count": 22,
     "metadata": {},
     "output_type": "execute_result"
    }
   ],
   "source": [
    "df[df[\"RAM\"].isnull()]"
   ]
  },
  {
   "cell_type": "markdown",
   "id": "ad45911b",
   "metadata": {
    "papermill": {
     "duration": 0.028488,
     "end_time": "2023-03-13T11:01:21.001566",
     "exception": false,
     "start_time": "2023-03-13T11:01:20.973078",
     "status": "completed"
    },
    "tags": []
   },
   "source": [
    "Şimdi RAM değerimizin Fiyatlara göre ortalamasını görelim. "
   ]
  },
  {
   "cell_type": "code",
   "execution_count": 23,
   "id": "e9c3b89b",
   "metadata": {
    "execution": {
     "iopub.execute_input": "2023-03-13T11:01:21.060467Z",
     "iopub.status.busy": "2023-03-13T11:01:21.060010Z",
     "iopub.status.idle": "2023-03-13T11:01:21.074781Z",
     "shell.execute_reply": "2023-03-13T11:01:21.073722Z"
    },
    "papermill": {
     "duration": 0.047218,
     "end_time": "2023-03-13T11:01:21.077425",
     "exception": false,
     "start_time": "2023-03-13T11:01:21.030207",
     "status": "completed"
    },
    "tags": []
   },
   "outputs": [
    {
     "data": {
      "text/html": [
       "<div>\n",
       "<style scoped>\n",
       "    .dataframe tbody tr th:only-of-type {\n",
       "        vertical-align: middle;\n",
       "    }\n",
       "\n",
       "    .dataframe tbody tr th {\n",
       "        vertical-align: top;\n",
       "    }\n",
       "\n",
       "    .dataframe thead th {\n",
       "        text-align: right;\n",
       "    }\n",
       "</style>\n",
       "<table border=\"1\" class=\"dataframe\">\n",
       "  <thead>\n",
       "    <tr style=\"text-align: right;\">\n",
       "      <th></th>\n",
       "      <th>RAM</th>\n",
       "    </tr>\n",
       "    <tr>\n",
       "      <th>FiyatAraligi</th>\n",
       "      <th></th>\n",
       "    </tr>\n",
       "  </thead>\n",
       "  <tbody>\n",
       "    <tr>\n",
       "      <th>Normal</th>\n",
       "      <td>2582.81600</td>\n",
       "    </tr>\n",
       "    <tr>\n",
       "      <th>Pahalı</th>\n",
       "      <td>3449.35041</td>\n",
       "    </tr>\n",
       "    <tr>\n",
       "      <th>Ucuz</th>\n",
       "      <td>1679.49000</td>\n",
       "    </tr>\n",
       "    <tr>\n",
       "      <th>Çok Ucuz</th>\n",
       "      <td>785.31400</td>\n",
       "    </tr>\n",
       "  </tbody>\n",
       "</table>\n",
       "</div>"
      ],
      "text/plain": [
       "                     RAM\n",
       "FiyatAraligi            \n",
       "Normal        2582.81600\n",
       "Pahalı        3449.35041\n",
       "Ucuz          1679.49000\n",
       "Çok Ucuz       785.31400"
      ]
     },
     "execution_count": 23,
     "metadata": {},
     "output_type": "execute_result"
    }
   ],
   "source": [
    "df.groupby(\"FiyatAraligi\")[[\"RAM\"]].mean()\n",
    "#Tüm eksik RAM değerleri, Pahalı tabletlerde olduğu için, onun ortalamasını anlamlı değer olarak kullanacağız."
   ]
  },
  {
   "cell_type": "code",
   "execution_count": 24,
   "id": "79056ad4",
   "metadata": {
    "execution": {
     "iopub.execute_input": "2023-03-13T11:01:21.138540Z",
     "iopub.status.busy": "2023-03-13T11:01:21.138134Z",
     "iopub.status.idle": "2023-03-13T11:01:21.145300Z",
     "shell.execute_reply": "2023-03-13T11:01:21.144305Z"
    },
    "papermill": {
     "duration": 0.040342,
     "end_time": "2023-03-13T11:01:21.147029",
     "exception": false,
     "start_time": "2023-03-13T11:01:21.106687",
     "status": "completed"
    },
    "tags": []
   },
   "outputs": [],
   "source": [
    "df.loc[df[(df[\"FiyatAraligi\"] == \"Pahalı\") & (df[\"RAM\"].isnull())].index,\"RAM\"] = 3449.35041"
   ]
  },
  {
   "cell_type": "markdown",
   "id": "b844f693",
   "metadata": {
    "papermill": {
     "duration": 0.028575,
     "end_time": "2023-03-13T11:01:21.205607",
     "exception": false,
     "start_time": "2023-03-13T11:01:21.177032",
     "status": "completed"
    },
    "tags": []
   },
   "source": [
    "Veri setimizde eksik verimiz kaldı mı diye kontrol edelim"
   ]
  },
  {
   "cell_type": "code",
   "execution_count": 25,
   "id": "c55315c9",
   "metadata": {
    "execution": {
     "iopub.execute_input": "2023-03-13T11:01:21.268038Z",
     "iopub.status.busy": "2023-03-13T11:01:21.267627Z",
     "iopub.status.idle": "2023-03-13T11:01:21.277608Z",
     "shell.execute_reply": "2023-03-13T11:01:21.276747Z"
    },
    "papermill": {
     "duration": 0.042488,
     "end_time": "2023-03-13T11:01:21.279116",
     "exception": false,
     "start_time": "2023-03-13T11:01:21.236628",
     "status": "completed"
    },
    "tags": []
   },
   "outputs": [
    {
     "data": {
      "text/plain": [
       "BataryaGucu            0\n",
       "Bluetooth              0\n",
       "MikroislemciHizi       0\n",
       "CiftHat                0\n",
       "OnKameraMP             0\n",
       "4G                     0\n",
       "DahiliBellek           0\n",
       "Kalinlik               0\n",
       "Agirlik                0\n",
       "CekirdekSayisi         0\n",
       "ArkaKameraMP           0\n",
       "CozunurlukYükseklik    0\n",
       "CozunurlukGenislik     0\n",
       "RAM                    0\n",
       "BataryaOmru            0\n",
       "3G                     0\n",
       "Dokunmatik             0\n",
       "WiFi                   0\n",
       "FiyatAraligi           0\n",
       "dtype: int64"
      ]
     },
     "execution_count": 25,
     "metadata": {},
     "output_type": "execute_result"
    }
   ],
   "source": [
    "df.isna().sum()\n",
    "#Görüldüğü üzere tüm eksik veriler tamamlandı ve veri setimiz olması gerektiği hale geldi."
   ]
  },
  {
   "cell_type": "markdown",
   "id": "f170e154",
   "metadata": {
    "papermill": {
     "duration": 0.029493,
     "end_time": "2023-03-13T11:01:21.337273",
     "exception": false,
     "start_time": "2023-03-13T11:01:21.307780",
     "status": "completed"
    },
    "tags": []
   },
   "source": [
    "> # ***Modeli eğitmeden önce kategorik değerlerimizi encoding ediyoruz.***"
   ]
  },
  {
   "cell_type": "markdown",
   "id": "3460d28b",
   "metadata": {
    "papermill": {
     "duration": 0.029421,
     "end_time": "2023-03-13T11:01:21.396526",
     "exception": false,
     "start_time": "2023-03-13T11:01:21.367105",
     "status": "completed"
    },
    "tags": []
   },
   "source": [
    "Encoder atamamızı yapıyoruz"
   ]
  },
  {
   "cell_type": "code",
   "execution_count": 26,
   "id": "c296223c",
   "metadata": {
    "execution": {
     "iopub.execute_input": "2023-03-13T11:01:21.455786Z",
     "iopub.status.busy": "2023-03-13T11:01:21.455401Z",
     "iopub.status.idle": "2023-03-13T11:01:21.459949Z",
     "shell.execute_reply": "2023-03-13T11:01:21.458771Z"
    },
    "papermill": {
     "duration": 0.037287,
     "end_time": "2023-03-13T11:01:21.462711",
     "exception": false,
     "start_time": "2023-03-13T11:01:21.425424",
     "status": "completed"
    },
    "tags": []
   },
   "outputs": [],
   "source": [
    "enc=preprocessing.LabelEncoder()"
   ]
  },
  {
   "cell_type": "markdown",
   "id": "7a69e122",
   "metadata": {
    "papermill": {
     "duration": 0.030006,
     "end_time": "2023-03-13T11:01:21.523236",
     "exception": false,
     "start_time": "2023-03-13T11:01:21.493230",
     "status": "completed"
    },
    "tags": []
   },
   "source": [
    "Kategorik değerleri encoderlayalım"
   ]
  },
  {
   "cell_type": "code",
   "execution_count": 27,
   "id": "8741c72c",
   "metadata": {
    "execution": {
     "iopub.execute_input": "2023-03-13T11:01:21.584959Z",
     "iopub.status.busy": "2023-03-13T11:01:21.584618Z",
     "iopub.status.idle": "2023-03-13T11:01:21.613412Z",
     "shell.execute_reply": "2023-03-13T11:01:21.611905Z"
    },
    "papermill": {
     "duration": 0.061958,
     "end_time": "2023-03-13T11:01:21.615407",
     "exception": false,
     "start_time": "2023-03-13T11:01:21.553449",
     "status": "completed"
    },
    "tags": []
   },
   "outputs": [
    {
     "data": {
      "text/html": [
       "<div>\n",
       "<style scoped>\n",
       "    .dataframe tbody tr th:only-of-type {\n",
       "        vertical-align: middle;\n",
       "    }\n",
       "\n",
       "    .dataframe tbody tr th {\n",
       "        vertical-align: top;\n",
       "    }\n",
       "\n",
       "    .dataframe thead th {\n",
       "        text-align: right;\n",
       "    }\n",
       "</style>\n",
       "<table border=\"1\" class=\"dataframe\">\n",
       "  <thead>\n",
       "    <tr style=\"text-align: right;\">\n",
       "      <th></th>\n",
       "      <th>BataryaGucu</th>\n",
       "      <th>Bluetooth</th>\n",
       "      <th>MikroislemciHizi</th>\n",
       "      <th>CiftHat</th>\n",
       "      <th>OnKameraMP</th>\n",
       "      <th>4G</th>\n",
       "      <th>DahiliBellek</th>\n",
       "      <th>Kalinlik</th>\n",
       "      <th>Agirlik</th>\n",
       "      <th>CekirdekSayisi</th>\n",
       "      <th>ArkaKameraMP</th>\n",
       "      <th>CozunurlukYükseklik</th>\n",
       "      <th>CozunurlukGenislik</th>\n",
       "      <th>RAM</th>\n",
       "      <th>BataryaOmru</th>\n",
       "      <th>3G</th>\n",
       "      <th>Dokunmatik</th>\n",
       "      <th>WiFi</th>\n",
       "      <th>FiyatAraligi</th>\n",
       "    </tr>\n",
       "  </thead>\n",
       "  <tbody>\n",
       "    <tr>\n",
       "      <th>0</th>\n",
       "      <td>1325</td>\n",
       "      <td>1</td>\n",
       "      <td>1.9</td>\n",
       "      <td>1</td>\n",
       "      <td>2.0</td>\n",
       "      <td>1</td>\n",
       "      <td>50</td>\n",
       "      <td>0.1</td>\n",
       "      <td>146</td>\n",
       "      <td>1</td>\n",
       "      <td>10</td>\n",
       "      <td>499</td>\n",
       "      <td>695</td>\n",
       "      <td>2328.0</td>\n",
       "      <td>2</td>\n",
       "      <td>0</td>\n",
       "      <td>1</td>\n",
       "      <td>1</td>\n",
       "      <td>0</td>\n",
       "    </tr>\n",
       "    <tr>\n",
       "      <th>1</th>\n",
       "      <td>1046</td>\n",
       "      <td>0</td>\n",
       "      <td>2.8</td>\n",
       "      <td>0</td>\n",
       "      <td>0.0</td>\n",
       "      <td>0</td>\n",
       "      <td>58</td>\n",
       "      <td>0.2</td>\n",
       "      <td>100</td>\n",
       "      <td>8</td>\n",
       "      <td>0</td>\n",
       "      <td>259</td>\n",
       "      <td>1040</td>\n",
       "      <td>3863.0</td>\n",
       "      <td>9</td>\n",
       "      <td>0</td>\n",
       "      <td>0</td>\n",
       "      <td>0</td>\n",
       "      <td>1</td>\n",
       "    </tr>\n",
       "    <tr>\n",
       "      <th>2</th>\n",
       "      <td>843</td>\n",
       "      <td>1</td>\n",
       "      <td>1.3</td>\n",
       "      <td>0</td>\n",
       "      <td>1.0</td>\n",
       "      <td>1</td>\n",
       "      <td>16</td>\n",
       "      <td>0.9</td>\n",
       "      <td>119</td>\n",
       "      <td>7</td>\n",
       "      <td>4</td>\n",
       "      <td>593</td>\n",
       "      <td>732</td>\n",
       "      <td>1734.0</td>\n",
       "      <td>14</td>\n",
       "      <td>1</td>\n",
       "      <td>1</td>\n",
       "      <td>0</td>\n",
       "      <td>2</td>\n",
       "    </tr>\n",
       "    <tr>\n",
       "      <th>3</th>\n",
       "      <td>894</td>\n",
       "      <td>1</td>\n",
       "      <td>0.5</td>\n",
       "      <td>0</td>\n",
       "      <td>1.0</td>\n",
       "      <td>0</td>\n",
       "      <td>50</td>\n",
       "      <td>0.5</td>\n",
       "      <td>199</td>\n",
       "      <td>3</td>\n",
       "      <td>14</td>\n",
       "      <td>1285</td>\n",
       "      <td>1462</td>\n",
       "      <td>3615.0</td>\n",
       "      <td>6</td>\n",
       "      <td>0</td>\n",
       "      <td>1</td>\n",
       "      <td>0</td>\n",
       "      <td>1</td>\n",
       "    </tr>\n",
       "    <tr>\n",
       "      <th>4</th>\n",
       "      <td>936</td>\n",
       "      <td>1</td>\n",
       "      <td>1.0</td>\n",
       "      <td>1</td>\n",
       "      <td>1.0</td>\n",
       "      <td>1</td>\n",
       "      <td>18</td>\n",
       "      <td>0.2</td>\n",
       "      <td>153</td>\n",
       "      <td>3</td>\n",
       "      <td>18</td>\n",
       "      <td>1330</td>\n",
       "      <td>1686</td>\n",
       "      <td>2391.0</td>\n",
       "      <td>3</td>\n",
       "      <td>0</td>\n",
       "      <td>0</td>\n",
       "      <td>0</td>\n",
       "      <td>0</td>\n",
       "    </tr>\n",
       "    <tr>\n",
       "      <th>5</th>\n",
       "      <td>1162</td>\n",
       "      <td>1</td>\n",
       "      <td>1.0</td>\n",
       "      <td>1</td>\n",
       "      <td>0.0</td>\n",
       "      <td>1</td>\n",
       "      <td>50</td>\n",
       "      <td>0.5</td>\n",
       "      <td>104</td>\n",
       "      <td>4</td>\n",
       "      <td>10</td>\n",
       "      <td>332</td>\n",
       "      <td>866</td>\n",
       "      <td>1404.0</td>\n",
       "      <td>15</td>\n",
       "      <td>0</td>\n",
       "      <td>0</td>\n",
       "      <td>0</td>\n",
       "      <td>2</td>\n",
       "    </tr>\n",
       "    <tr>\n",
       "      <th>6</th>\n",
       "      <td>1849</td>\n",
       "      <td>0</td>\n",
       "      <td>0.5</td>\n",
       "      <td>1</td>\n",
       "      <td>1.0</td>\n",
       "      <td>1</td>\n",
       "      <td>29</td>\n",
       "      <td>0.5</td>\n",
       "      <td>181</td>\n",
       "      <td>7</td>\n",
       "      <td>12</td>\n",
       "      <td>978</td>\n",
       "      <td>1986</td>\n",
       "      <td>3330.0</td>\n",
       "      <td>15</td>\n",
       "      <td>0</td>\n",
       "      <td>1</td>\n",
       "      <td>0</td>\n",
       "      <td>1</td>\n",
       "    </tr>\n",
       "    <tr>\n",
       "      <th>7</th>\n",
       "      <td>1860</td>\n",
       "      <td>1</td>\n",
       "      <td>0.5</td>\n",
       "      <td>0</td>\n",
       "      <td>2.0</td>\n",
       "      <td>0</td>\n",
       "      <td>55</td>\n",
       "      <td>0.7</td>\n",
       "      <td>83</td>\n",
       "      <td>6</td>\n",
       "      <td>3</td>\n",
       "      <td>195</td>\n",
       "      <td>799</td>\n",
       "      <td>676.0</td>\n",
       "      <td>4</td>\n",
       "      <td>0</td>\n",
       "      <td>1</td>\n",
       "      <td>0</td>\n",
       "      <td>3</td>\n",
       "    </tr>\n",
       "    <tr>\n",
       "      <th>8</th>\n",
       "      <td>1536</td>\n",
       "      <td>1</td>\n",
       "      <td>0.8</td>\n",
       "      <td>1</td>\n",
       "      <td>12.0</td>\n",
       "      <td>1</td>\n",
       "      <td>13</td>\n",
       "      <td>0.3</td>\n",
       "      <td>105</td>\n",
       "      <td>7</td>\n",
       "      <td>20</td>\n",
       "      <td>22</td>\n",
       "      <td>1634</td>\n",
       "      <td>2020.0</td>\n",
       "      <td>16</td>\n",
       "      <td>0</td>\n",
       "      <td>0</td>\n",
       "      <td>1</td>\n",
       "      <td>0</td>\n",
       "    </tr>\n",
       "    <tr>\n",
       "      <th>9</th>\n",
       "      <td>539</td>\n",
       "      <td>0</td>\n",
       "      <td>0.6</td>\n",
       "      <td>0</td>\n",
       "      <td>9.0</td>\n",
       "      <td>1</td>\n",
       "      <td>21</td>\n",
       "      <td>0.1</td>\n",
       "      <td>145</td>\n",
       "      <td>7</td>\n",
       "      <td>14</td>\n",
       "      <td>551</td>\n",
       "      <td>599</td>\n",
       "      <td>3597.0</td>\n",
       "      <td>9</td>\n",
       "      <td>1</td>\n",
       "      <td>1</td>\n",
       "      <td>1</td>\n",
       "      <td>0</td>\n",
       "    </tr>\n",
       "  </tbody>\n",
       "</table>\n",
       "</div>"
      ],
      "text/plain": [
       "   BataryaGucu  Bluetooth  MikroislemciHizi  CiftHat  OnKameraMP  4G  \\\n",
       "0         1325          1               1.9        1         2.0   1   \n",
       "1         1046          0               2.8        0         0.0   0   \n",
       "2          843          1               1.3        0         1.0   1   \n",
       "3          894          1               0.5        0         1.0   0   \n",
       "4          936          1               1.0        1         1.0   1   \n",
       "5         1162          1               1.0        1         0.0   1   \n",
       "6         1849          0               0.5        1         1.0   1   \n",
       "7         1860          1               0.5        0         2.0   0   \n",
       "8         1536          1               0.8        1        12.0   1   \n",
       "9          539          0               0.6        0         9.0   1   \n",
       "\n",
       "   DahiliBellek  Kalinlik  Agirlik  CekirdekSayisi  ArkaKameraMP  \\\n",
       "0            50       0.1      146               1            10   \n",
       "1            58       0.2      100               8             0   \n",
       "2            16       0.9      119               7             4   \n",
       "3            50       0.5      199               3            14   \n",
       "4            18       0.2      153               3            18   \n",
       "5            50       0.5      104               4            10   \n",
       "6            29       0.5      181               7            12   \n",
       "7            55       0.7       83               6             3   \n",
       "8            13       0.3      105               7            20   \n",
       "9            21       0.1      145               7            14   \n",
       "\n",
       "   CozunurlukYükseklik  CozunurlukGenislik     RAM  BataryaOmru  3G  \\\n",
       "0                  499                 695  2328.0            2   0   \n",
       "1                  259                1040  3863.0            9   0   \n",
       "2                  593                 732  1734.0           14   1   \n",
       "3                 1285                1462  3615.0            6   0   \n",
       "4                 1330                1686  2391.0            3   0   \n",
       "5                  332                 866  1404.0           15   0   \n",
       "6                  978                1986  3330.0           15   0   \n",
       "7                  195                 799   676.0            4   0   \n",
       "8                   22                1634  2020.0           16   0   \n",
       "9                  551                 599  3597.0            9   1   \n",
       "\n",
       "   Dokunmatik  WiFi  FiyatAraligi  \n",
       "0           1     1             0  \n",
       "1           0     0             1  \n",
       "2           1     0             2  \n",
       "3           1     0             1  \n",
       "4           0     0             0  \n",
       "5           0     0             2  \n",
       "6           1     0             1  \n",
       "7           1     0             3  \n",
       "8           0     1             0  \n",
       "9           1     1             0  "
      ]
     },
     "execution_count": 27,
     "metadata": {},
     "output_type": "execute_result"
    }
   ],
   "source": [
    "df['FiyatAraligi'] = enc.fit_transform(df['FiyatAraligi'])\n",
    "df['Bluetooth'] = enc.fit_transform(df['Bluetooth'])\n",
    "df['CiftHat'] = enc.fit_transform(df['CiftHat'])\n",
    "df['4G'] = enc.fit_transform(df['4G'])\n",
    "df['3G'] = enc.fit_transform(df['3G'])\n",
    "df['WiFi'] = enc.fit_transform(df['WiFi'])\n",
    "df['Dokunmatik'] = enc.fit_transform(df['Dokunmatik'])\n",
    "df.head(10)"
   ]
  },
  {
   "cell_type": "markdown",
   "id": "30313235",
   "metadata": {
    "papermill": {
     "duration": 0.028877,
     "end_time": "2023-03-13T11:01:21.673861",
     "exception": false,
     "start_time": "2023-03-13T11:01:21.644984",
     "status": "completed"
    },
    "tags": []
   },
   "source": [
    "# Artık Eğitim Aşamasına Geçebiliriz"
   ]
  },
  {
   "cell_type": "markdown",
   "id": "bea09733",
   "metadata": {
    "execution": {
     "iopub.execute_input": "2022-06-09T11:24:58.548337Z",
     "iopub.status.busy": "2022-06-09T11:24:58.54793Z",
     "iopub.status.idle": "2022-06-09T11:24:58.725514Z",
     "shell.execute_reply": "2022-06-09T11:24:58.724457Z",
     "shell.execute_reply.started": "2022-06-09T11:24:58.548306Z"
    },
    "papermill": {
     "duration": 0.028525,
     "end_time": "2023-03-13T11:01:21.731259",
     "exception": false,
     "start_time": "2023-03-13T11:01:21.702734",
     "status": "completed"
    },
    "tags": []
   },
   "source": [
    "# ***MODEL EĞİTİM VE GELİŞTİRME***"
   ]
  },
  {
   "cell_type": "markdown",
   "id": "81175a51",
   "metadata": {
    "papermill": {
     "duration": 0.030508,
     "end_time": "2023-03-13T11:01:21.790650",
     "exception": false,
     "start_time": "2023-03-13T11:01:21.760142",
     "status": "completed"
    },
    "tags": []
   },
   "source": [
    "Bağımlı değişken olan Fiyat Aralığını \"Y\" atıyoruz, Diğer bağımsız değişkenlerimizi \"X\" e atıyoruz."
   ]
  },
  {
   "cell_type": "code",
   "execution_count": 28,
   "id": "d70de6ab",
   "metadata": {
    "execution": {
     "iopub.execute_input": "2023-03-13T11:01:21.853242Z",
     "iopub.status.busy": "2023-03-13T11:01:21.852891Z",
     "iopub.status.idle": "2023-03-13T11:01:21.858143Z",
     "shell.execute_reply": "2023-03-13T11:01:21.857326Z"
    },
    "papermill": {
     "duration": 0.039079,
     "end_time": "2023-03-13T11:01:21.860474",
     "exception": false,
     "start_time": "2023-03-13T11:01:21.821395",
     "status": "completed"
    },
    "tags": []
   },
   "outputs": [],
   "source": [
    "Y = df[\"FiyatAraligi\"]\n",
    "X = df.drop(\"FiyatAraligi\", axis = 1)"
   ]
  },
  {
   "cell_type": "code",
   "execution_count": 29,
   "id": "6a608c40",
   "metadata": {
    "execution": {
     "iopub.execute_input": "2023-03-13T11:01:21.922859Z",
     "iopub.status.busy": "2023-03-13T11:01:21.922351Z",
     "iopub.status.idle": "2023-03-13T11:01:21.930635Z",
     "shell.execute_reply": "2023-03-13T11:01:21.929790Z"
    },
    "papermill": {
     "duration": 0.040989,
     "end_time": "2023-03-13T11:01:21.932168",
     "exception": false,
     "start_time": "2023-03-13T11:01:21.891179",
     "status": "completed"
    },
    "tags": []
   },
   "outputs": [
    {
     "data": {
      "text/plain": [
       "0       0\n",
       "1       1\n",
       "2       2\n",
       "3       1\n",
       "4       0\n",
       "       ..\n",
       "1995    3\n",
       "1996    2\n",
       "1997    1\n",
       "1998    0\n",
       "1999    0\n",
       "Name: FiyatAraligi, Length: 2000, dtype: int64"
      ]
     },
     "execution_count": 29,
     "metadata": {},
     "output_type": "execute_result"
    }
   ],
   "source": [
    "Y"
   ]
  },
  {
   "cell_type": "code",
   "execution_count": 30,
   "id": "418590ab",
   "metadata": {
    "execution": {
     "iopub.execute_input": "2023-03-13T11:01:21.992081Z",
     "iopub.status.busy": "2023-03-13T11:01:21.991713Z",
     "iopub.status.idle": "2023-03-13T11:01:22.015502Z",
     "shell.execute_reply": "2023-03-13T11:01:22.014513Z"
    },
    "papermill": {
     "duration": 0.056108,
     "end_time": "2023-03-13T11:01:22.017186",
     "exception": false,
     "start_time": "2023-03-13T11:01:21.961078",
     "status": "completed"
    },
    "tags": []
   },
   "outputs": [
    {
     "data": {
      "text/html": [
       "<div>\n",
       "<style scoped>\n",
       "    .dataframe tbody tr th:only-of-type {\n",
       "        vertical-align: middle;\n",
       "    }\n",
       "\n",
       "    .dataframe tbody tr th {\n",
       "        vertical-align: top;\n",
       "    }\n",
       "\n",
       "    .dataframe thead th {\n",
       "        text-align: right;\n",
       "    }\n",
       "</style>\n",
       "<table border=\"1\" class=\"dataframe\">\n",
       "  <thead>\n",
       "    <tr style=\"text-align: right;\">\n",
       "      <th></th>\n",
       "      <th>BataryaGucu</th>\n",
       "      <th>Bluetooth</th>\n",
       "      <th>MikroislemciHizi</th>\n",
       "      <th>CiftHat</th>\n",
       "      <th>OnKameraMP</th>\n",
       "      <th>4G</th>\n",
       "      <th>DahiliBellek</th>\n",
       "      <th>Kalinlik</th>\n",
       "      <th>Agirlik</th>\n",
       "      <th>CekirdekSayisi</th>\n",
       "      <th>ArkaKameraMP</th>\n",
       "      <th>CozunurlukYükseklik</th>\n",
       "      <th>CozunurlukGenislik</th>\n",
       "      <th>RAM</th>\n",
       "      <th>BataryaOmru</th>\n",
       "      <th>3G</th>\n",
       "      <th>Dokunmatik</th>\n",
       "      <th>WiFi</th>\n",
       "    </tr>\n",
       "  </thead>\n",
       "  <tbody>\n",
       "    <tr>\n",
       "      <th>0</th>\n",
       "      <td>1325</td>\n",
       "      <td>1</td>\n",
       "      <td>1.9</td>\n",
       "      <td>1</td>\n",
       "      <td>2.0</td>\n",
       "      <td>1</td>\n",
       "      <td>50</td>\n",
       "      <td>0.1</td>\n",
       "      <td>146</td>\n",
       "      <td>1</td>\n",
       "      <td>10</td>\n",
       "      <td>499</td>\n",
       "      <td>695</td>\n",
       "      <td>2328.0</td>\n",
       "      <td>2</td>\n",
       "      <td>0</td>\n",
       "      <td>1</td>\n",
       "      <td>1</td>\n",
       "    </tr>\n",
       "    <tr>\n",
       "      <th>1</th>\n",
       "      <td>1046</td>\n",
       "      <td>0</td>\n",
       "      <td>2.8</td>\n",
       "      <td>0</td>\n",
       "      <td>0.0</td>\n",
       "      <td>0</td>\n",
       "      <td>58</td>\n",
       "      <td>0.2</td>\n",
       "      <td>100</td>\n",
       "      <td>8</td>\n",
       "      <td>0</td>\n",
       "      <td>259</td>\n",
       "      <td>1040</td>\n",
       "      <td>3863.0</td>\n",
       "      <td>9</td>\n",
       "      <td>0</td>\n",
       "      <td>0</td>\n",
       "      <td>0</td>\n",
       "    </tr>\n",
       "    <tr>\n",
       "      <th>2</th>\n",
       "      <td>843</td>\n",
       "      <td>1</td>\n",
       "      <td>1.3</td>\n",
       "      <td>0</td>\n",
       "      <td>1.0</td>\n",
       "      <td>1</td>\n",
       "      <td>16</td>\n",
       "      <td>0.9</td>\n",
       "      <td>119</td>\n",
       "      <td>7</td>\n",
       "      <td>4</td>\n",
       "      <td>593</td>\n",
       "      <td>732</td>\n",
       "      <td>1734.0</td>\n",
       "      <td>14</td>\n",
       "      <td>1</td>\n",
       "      <td>1</td>\n",
       "      <td>0</td>\n",
       "    </tr>\n",
       "    <tr>\n",
       "      <th>3</th>\n",
       "      <td>894</td>\n",
       "      <td>1</td>\n",
       "      <td>0.5</td>\n",
       "      <td>0</td>\n",
       "      <td>1.0</td>\n",
       "      <td>0</td>\n",
       "      <td>50</td>\n",
       "      <td>0.5</td>\n",
       "      <td>199</td>\n",
       "      <td>3</td>\n",
       "      <td>14</td>\n",
       "      <td>1285</td>\n",
       "      <td>1462</td>\n",
       "      <td>3615.0</td>\n",
       "      <td>6</td>\n",
       "      <td>0</td>\n",
       "      <td>1</td>\n",
       "      <td>0</td>\n",
       "    </tr>\n",
       "    <tr>\n",
       "      <th>4</th>\n",
       "      <td>936</td>\n",
       "      <td>1</td>\n",
       "      <td>1.0</td>\n",
       "      <td>1</td>\n",
       "      <td>1.0</td>\n",
       "      <td>1</td>\n",
       "      <td>18</td>\n",
       "      <td>0.2</td>\n",
       "      <td>153</td>\n",
       "      <td>3</td>\n",
       "      <td>18</td>\n",
       "      <td>1330</td>\n",
       "      <td>1686</td>\n",
       "      <td>2391.0</td>\n",
       "      <td>3</td>\n",
       "      <td>0</td>\n",
       "      <td>0</td>\n",
       "      <td>0</td>\n",
       "    </tr>\n",
       "    <tr>\n",
       "      <th>...</th>\n",
       "      <td>...</td>\n",
       "      <td>...</td>\n",
       "      <td>...</td>\n",
       "      <td>...</td>\n",
       "      <td>...</td>\n",
       "      <td>...</td>\n",
       "      <td>...</td>\n",
       "      <td>...</td>\n",
       "      <td>...</td>\n",
       "      <td>...</td>\n",
       "      <td>...</td>\n",
       "      <td>...</td>\n",
       "      <td>...</td>\n",
       "      <td>...</td>\n",
       "      <td>...</td>\n",
       "      <td>...</td>\n",
       "      <td>...</td>\n",
       "      <td>...</td>\n",
       "    </tr>\n",
       "    <tr>\n",
       "      <th>1995</th>\n",
       "      <td>689</td>\n",
       "      <td>1</td>\n",
       "      <td>2.9</td>\n",
       "      <td>0</td>\n",
       "      <td>3.0</td>\n",
       "      <td>0</td>\n",
       "      <td>7</td>\n",
       "      <td>0.8</td>\n",
       "      <td>147</td>\n",
       "      <td>2</td>\n",
       "      <td>6</td>\n",
       "      <td>487</td>\n",
       "      <td>722</td>\n",
       "      <td>1241.0</td>\n",
       "      <td>16</td>\n",
       "      <td>0</td>\n",
       "      <td>1</td>\n",
       "      <td>1</td>\n",
       "    </tr>\n",
       "    <tr>\n",
       "      <th>1996</th>\n",
       "      <td>1654</td>\n",
       "      <td>1</td>\n",
       "      <td>1.8</td>\n",
       "      <td>1</td>\n",
       "      <td>1.0</td>\n",
       "      <td>1</td>\n",
       "      <td>11</td>\n",
       "      <td>0.3</td>\n",
       "      <td>146</td>\n",
       "      <td>7</td>\n",
       "      <td>2</td>\n",
       "      <td>1184</td>\n",
       "      <td>1719</td>\n",
       "      <td>1070.0</td>\n",
       "      <td>14</td>\n",
       "      <td>0</td>\n",
       "      <td>0</td>\n",
       "      <td>0</td>\n",
       "    </tr>\n",
       "    <tr>\n",
       "      <th>1997</th>\n",
       "      <td>742</td>\n",
       "      <td>1</td>\n",
       "      <td>2.2</td>\n",
       "      <td>0</td>\n",
       "      <td>4.0</td>\n",
       "      <td>1</td>\n",
       "      <td>56</td>\n",
       "      <td>0.2</td>\n",
       "      <td>190</td>\n",
       "      <td>7</td>\n",
       "      <td>14</td>\n",
       "      <td>577</td>\n",
       "      <td>1359</td>\n",
       "      <td>3557.0</td>\n",
       "      <td>12</td>\n",
       "      <td>1</td>\n",
       "      <td>0</td>\n",
       "      <td>0</td>\n",
       "    </tr>\n",
       "    <tr>\n",
       "      <th>1998</th>\n",
       "      <td>704</td>\n",
       "      <td>1</td>\n",
       "      <td>2.2</td>\n",
       "      <td>0</td>\n",
       "      <td>4.0</td>\n",
       "      <td>1</td>\n",
       "      <td>53</td>\n",
       "      <td>0.2</td>\n",
       "      <td>186</td>\n",
       "      <td>6</td>\n",
       "      <td>6</td>\n",
       "      <td>251</td>\n",
       "      <td>1013</td>\n",
       "      <td>3653.0</td>\n",
       "      <td>15</td>\n",
       "      <td>0</td>\n",
       "      <td>0</td>\n",
       "      <td>0</td>\n",
       "    </tr>\n",
       "    <tr>\n",
       "      <th>1999</th>\n",
       "      <td>1872</td>\n",
       "      <td>1</td>\n",
       "      <td>0.5</td>\n",
       "      <td>1</td>\n",
       "      <td>5.0</td>\n",
       "      <td>0</td>\n",
       "      <td>26</td>\n",
       "      <td>0.5</td>\n",
       "      <td>172</td>\n",
       "      <td>4</td>\n",
       "      <td>10</td>\n",
       "      <td>672</td>\n",
       "      <td>1088</td>\n",
       "      <td>2273.0</td>\n",
       "      <td>8</td>\n",
       "      <td>0</td>\n",
       "      <td>1</td>\n",
       "      <td>0</td>\n",
       "    </tr>\n",
       "  </tbody>\n",
       "</table>\n",
       "<p>2000 rows × 18 columns</p>\n",
       "</div>"
      ],
      "text/plain": [
       "      BataryaGucu  Bluetooth  MikroislemciHizi  CiftHat  OnKameraMP  4G  \\\n",
       "0            1325          1               1.9        1         2.0   1   \n",
       "1            1046          0               2.8        0         0.0   0   \n",
       "2             843          1               1.3        0         1.0   1   \n",
       "3             894          1               0.5        0         1.0   0   \n",
       "4             936          1               1.0        1         1.0   1   \n",
       "...           ...        ...               ...      ...         ...  ..   \n",
       "1995          689          1               2.9        0         3.0   0   \n",
       "1996         1654          1               1.8        1         1.0   1   \n",
       "1997          742          1               2.2        0         4.0   1   \n",
       "1998          704          1               2.2        0         4.0   1   \n",
       "1999         1872          1               0.5        1         5.0   0   \n",
       "\n",
       "      DahiliBellek  Kalinlik  Agirlik  CekirdekSayisi  ArkaKameraMP  \\\n",
       "0               50       0.1      146               1            10   \n",
       "1               58       0.2      100               8             0   \n",
       "2               16       0.9      119               7             4   \n",
       "3               50       0.5      199               3            14   \n",
       "4               18       0.2      153               3            18   \n",
       "...            ...       ...      ...             ...           ...   \n",
       "1995             7       0.8      147               2             6   \n",
       "1996            11       0.3      146               7             2   \n",
       "1997            56       0.2      190               7            14   \n",
       "1998            53       0.2      186               6             6   \n",
       "1999            26       0.5      172               4            10   \n",
       "\n",
       "      CozunurlukYükseklik  CozunurlukGenislik     RAM  BataryaOmru  3G  \\\n",
       "0                     499                 695  2328.0            2   0   \n",
       "1                     259                1040  3863.0            9   0   \n",
       "2                     593                 732  1734.0           14   1   \n",
       "3                    1285                1462  3615.0            6   0   \n",
       "4                    1330                1686  2391.0            3   0   \n",
       "...                   ...                 ...     ...          ...  ..   \n",
       "1995                  487                 722  1241.0           16   0   \n",
       "1996                 1184                1719  1070.0           14   0   \n",
       "1997                  577                1359  3557.0           12   1   \n",
       "1998                  251                1013  3653.0           15   0   \n",
       "1999                  672                1088  2273.0            8   0   \n",
       "\n",
       "      Dokunmatik  WiFi  \n",
       "0              1     1  \n",
       "1              0     0  \n",
       "2              1     0  \n",
       "3              1     0  \n",
       "4              0     0  \n",
       "...          ...   ...  \n",
       "1995           1     1  \n",
       "1996           0     0  \n",
       "1997           0     0  \n",
       "1998           0     0  \n",
       "1999           1     0  \n",
       "\n",
       "[2000 rows x 18 columns]"
      ]
     },
     "execution_count": 30,
     "metadata": {},
     "output_type": "execute_result"
    }
   ],
   "source": [
    "X"
   ]
  },
  {
   "cell_type": "markdown",
   "id": "c479e308",
   "metadata": {
    "papermill": {
     "duration": 0.029707,
     "end_time": "2023-03-13T11:01:22.076879",
     "exception": false,
     "start_time": "2023-03-13T11:01:22.047172",
     "status": "completed"
    },
    "tags": []
   },
   "source": [
    "Şimdi bizden IT Ekip liderinin istediği şey ise, bu veri setimizin bağımlı ve bağımsız değişkenlerini eğitim ve test olarak \n",
    "\n",
    "Eğitim : %75   |    Test : % 25\n",
    "\n",
    "Oranında Ayırmamız."
   ]
  },
  {
   "cell_type": "code",
   "execution_count": 31,
   "id": "e506458e",
   "metadata": {
    "execution": {
     "iopub.execute_input": "2023-03-13T11:01:22.138921Z",
     "iopub.status.busy": "2023-03-13T11:01:22.138469Z",
     "iopub.status.idle": "2023-03-13T11:01:22.146203Z",
     "shell.execute_reply": "2023-03-13T11:01:22.145003Z"
    },
    "papermill": {
     "duration": 0.041041,
     "end_time": "2023-03-13T11:01:22.147967",
     "exception": false,
     "start_time": "2023-03-13T11:01:22.106926",
     "status": "completed"
    },
    "tags": []
   },
   "outputs": [],
   "source": [
    "X_train, X_test, Y_train, Y_test = train_test_split(X, Y, test_size = 0.25, random_state = 42)"
   ]
  },
  {
   "cell_type": "markdown",
   "id": "1178e524",
   "metadata": {
    "papermill": {
     "duration": 0.029471,
     "end_time": "2023-03-13T11:01:22.207329",
     "exception": false,
     "start_time": "2023-03-13T11:01:22.177858",
     "status": "completed"
    },
    "tags": []
   },
   "source": [
    "Ayırdığımız setlerimizi görelim"
   ]
  },
  {
   "cell_type": "code",
   "execution_count": 32,
   "id": "98366aff",
   "metadata": {
    "execution": {
     "iopub.execute_input": "2023-03-13T11:01:22.272738Z",
     "iopub.status.busy": "2023-03-13T11:01:22.272325Z",
     "iopub.status.idle": "2023-03-13T11:01:22.292068Z",
     "shell.execute_reply": "2023-03-13T11:01:22.290769Z"
    },
    "papermill": {
     "duration": 0.054496,
     "end_time": "2023-03-13T11:01:22.294213",
     "exception": false,
     "start_time": "2023-03-13T11:01:22.239717",
     "status": "completed"
    },
    "tags": []
   },
   "outputs": [
    {
     "data": {
      "text/html": [
       "<div>\n",
       "<style scoped>\n",
       "    .dataframe tbody tr th:only-of-type {\n",
       "        vertical-align: middle;\n",
       "    }\n",
       "\n",
       "    .dataframe tbody tr th {\n",
       "        vertical-align: top;\n",
       "    }\n",
       "\n",
       "    .dataframe thead th {\n",
       "        text-align: right;\n",
       "    }\n",
       "</style>\n",
       "<table border=\"1\" class=\"dataframe\">\n",
       "  <thead>\n",
       "    <tr style=\"text-align: right;\">\n",
       "      <th></th>\n",
       "      <th>BataryaGucu</th>\n",
       "      <th>Bluetooth</th>\n",
       "      <th>MikroislemciHizi</th>\n",
       "      <th>CiftHat</th>\n",
       "      <th>OnKameraMP</th>\n",
       "      <th>4G</th>\n",
       "      <th>DahiliBellek</th>\n",
       "      <th>Kalinlik</th>\n",
       "      <th>Agirlik</th>\n",
       "      <th>CekirdekSayisi</th>\n",
       "      <th>ArkaKameraMP</th>\n",
       "      <th>CozunurlukYükseklik</th>\n",
       "      <th>CozunurlukGenislik</th>\n",
       "      <th>RAM</th>\n",
       "      <th>BataryaOmru</th>\n",
       "      <th>3G</th>\n",
       "      <th>Dokunmatik</th>\n",
       "      <th>WiFi</th>\n",
       "    </tr>\n",
       "  </thead>\n",
       "  <tbody>\n",
       "    <tr>\n",
       "      <th>1738</th>\n",
       "      <td>867</td>\n",
       "      <td>1</td>\n",
       "      <td>1.4</td>\n",
       "      <td>0</td>\n",
       "      <td>0.0</td>\n",
       "      <td>0</td>\n",
       "      <td>4</td>\n",
       "      <td>0.7</td>\n",
       "      <td>135</td>\n",
       "      <td>6</td>\n",
       "      <td>1</td>\n",
       "      <td>70</td>\n",
       "      <td>1974</td>\n",
       "      <td>790.0</td>\n",
       "      <td>3</td>\n",
       "      <td>0</td>\n",
       "      <td>0</td>\n",
       "      <td>1</td>\n",
       "    </tr>\n",
       "    <tr>\n",
       "      <th>548</th>\n",
       "      <td>1404</td>\n",
       "      <td>1</td>\n",
       "      <td>2.1</td>\n",
       "      <td>1</td>\n",
       "      <td>16.0</td>\n",
       "      <td>1</td>\n",
       "      <td>44</td>\n",
       "      <td>0.9</td>\n",
       "      <td>151</td>\n",
       "      <td>1</td>\n",
       "      <td>20</td>\n",
       "      <td>1703</td>\n",
       "      <td>1880</td>\n",
       "      <td>1196.0</td>\n",
       "      <td>5</td>\n",
       "      <td>1</td>\n",
       "      <td>1</td>\n",
       "      <td>0</td>\n",
       "    </tr>\n",
       "    <tr>\n",
       "      <th>936</th>\n",
       "      <td>683</td>\n",
       "      <td>0</td>\n",
       "      <td>2.1</td>\n",
       "      <td>1</td>\n",
       "      <td>7.0</td>\n",
       "      <td>1</td>\n",
       "      <td>30</td>\n",
       "      <td>0.1</td>\n",
       "      <td>197</td>\n",
       "      <td>7</td>\n",
       "      <td>8</td>\n",
       "      <td>927</td>\n",
       "      <td>1135</td>\n",
       "      <td>2066.0</td>\n",
       "      <td>15</td>\n",
       "      <td>1</td>\n",
       "      <td>1</td>\n",
       "      <td>1</td>\n",
       "    </tr>\n",
       "    <tr>\n",
       "      <th>1389</th>\n",
       "      <td>1109</td>\n",
       "      <td>0</td>\n",
       "      <td>2.8</td>\n",
       "      <td>0</td>\n",
       "      <td>6.0</td>\n",
       "      <td>1</td>\n",
       "      <td>57</td>\n",
       "      <td>0.9</td>\n",
       "      <td>151</td>\n",
       "      <td>1</td>\n",
       "      <td>12</td>\n",
       "      <td>124</td>\n",
       "      <td>833</td>\n",
       "      <td>2785.0</td>\n",
       "      <td>16</td>\n",
       "      <td>0</td>\n",
       "      <td>1</td>\n",
       "      <td>1</td>\n",
       "    </tr>\n",
       "    <tr>\n",
       "      <th>1607</th>\n",
       "      <td>1395</td>\n",
       "      <td>1</td>\n",
       "      <td>1.8</td>\n",
       "      <td>0</td>\n",
       "      <td>0.0</td>\n",
       "      <td>1</td>\n",
       "      <td>23</td>\n",
       "      <td>0.1</td>\n",
       "      <td>111</td>\n",
       "      <td>3</td>\n",
       "      <td>1</td>\n",
       "      <td>213</td>\n",
       "      <td>705</td>\n",
       "      <td>2571.0</td>\n",
       "      <td>13</td>\n",
       "      <td>0</td>\n",
       "      <td>1</td>\n",
       "      <td>0</td>\n",
       "    </tr>\n",
       "    <tr>\n",
       "      <th>1939</th>\n",
       "      <td>1130</td>\n",
       "      <td>0</td>\n",
       "      <td>2.5</td>\n",
       "      <td>1</td>\n",
       "      <td>4.0</td>\n",
       "      <td>0</td>\n",
       "      <td>58</td>\n",
       "      <td>0.1</td>\n",
       "      <td>132</td>\n",
       "      <td>5</td>\n",
       "      <td>14</td>\n",
       "      <td>88</td>\n",
       "      <td>1261</td>\n",
       "      <td>1018.0</td>\n",
       "      <td>16</td>\n",
       "      <td>0</td>\n",
       "      <td>1</td>\n",
       "      <td>1</td>\n",
       "    </tr>\n",
       "    <tr>\n",
       "      <th>1481</th>\n",
       "      <td>1753</td>\n",
       "      <td>1</td>\n",
       "      <td>0.7</td>\n",
       "      <td>1</td>\n",
       "      <td>4.0</td>\n",
       "      <td>1</td>\n",
       "      <td>40</td>\n",
       "      <td>0.6</td>\n",
       "      <td>191</td>\n",
       "      <td>4</td>\n",
       "      <td>11</td>\n",
       "      <td>1652</td>\n",
       "      <td>1983</td>\n",
       "      <td>1112.0</td>\n",
       "      <td>15</td>\n",
       "      <td>0</td>\n",
       "      <td>0</td>\n",
       "      <td>0</td>\n",
       "    </tr>\n",
       "    <tr>\n",
       "      <th>182</th>\n",
       "      <td>1330</td>\n",
       "      <td>1</td>\n",
       "      <td>1.1</td>\n",
       "      <td>1</td>\n",
       "      <td>11.0</td>\n",
       "      <td>1</td>\n",
       "      <td>37</td>\n",
       "      <td>0.7</td>\n",
       "      <td>126</td>\n",
       "      <td>7</td>\n",
       "      <td>20</td>\n",
       "      <td>1103</td>\n",
       "      <td>1637</td>\n",
       "      <td>2166.0</td>\n",
       "      <td>4</td>\n",
       "      <td>0</td>\n",
       "      <td>1</td>\n",
       "      <td>1</td>\n",
       "    </tr>\n",
       "    <tr>\n",
       "      <th>1940</th>\n",
       "      <td>667</td>\n",
       "      <td>1</td>\n",
       "      <td>2.6</td>\n",
       "      <td>0</td>\n",
       "      <td>3.0</td>\n",
       "      <td>1</td>\n",
       "      <td>8</td>\n",
       "      <td>0.8</td>\n",
       "      <td>185</td>\n",
       "      <td>1</td>\n",
       "      <td>7</td>\n",
       "      <td>1015</td>\n",
       "      <td>1947</td>\n",
       "      <td>2528.0</td>\n",
       "      <td>8</td>\n",
       "      <td>1</td>\n",
       "      <td>0</td>\n",
       "      <td>1</td>\n",
       "    </tr>\n",
       "    <tr>\n",
       "      <th>1160</th>\n",
       "      <td>1911</td>\n",
       "      <td>1</td>\n",
       "      <td>0.9</td>\n",
       "      <td>0</td>\n",
       "      <td>1.0</td>\n",
       "      <td>0</td>\n",
       "      <td>36</td>\n",
       "      <td>0.7</td>\n",
       "      <td>108</td>\n",
       "      <td>8</td>\n",
       "      <td>3</td>\n",
       "      <td>868</td>\n",
       "      <td>1632</td>\n",
       "      <td>3057.0</td>\n",
       "      <td>5</td>\n",
       "      <td>0</td>\n",
       "      <td>0</td>\n",
       "      <td>1</td>\n",
       "    </tr>\n",
       "  </tbody>\n",
       "</table>\n",
       "</div>"
      ],
      "text/plain": [
       "      BataryaGucu  Bluetooth  MikroislemciHizi  CiftHat  OnKameraMP  4G  \\\n",
       "1738          867          1               1.4        0         0.0   0   \n",
       "548          1404          1               2.1        1        16.0   1   \n",
       "936           683          0               2.1        1         7.0   1   \n",
       "1389         1109          0               2.8        0         6.0   1   \n",
       "1607         1395          1               1.8        0         0.0   1   \n",
       "1939         1130          0               2.5        1         4.0   0   \n",
       "1481         1753          1               0.7        1         4.0   1   \n",
       "182          1330          1               1.1        1        11.0   1   \n",
       "1940          667          1               2.6        0         3.0   1   \n",
       "1160         1911          1               0.9        0         1.0   0   \n",
       "\n",
       "      DahiliBellek  Kalinlik  Agirlik  CekirdekSayisi  ArkaKameraMP  \\\n",
       "1738             4       0.7      135               6             1   \n",
       "548             44       0.9      151               1            20   \n",
       "936             30       0.1      197               7             8   \n",
       "1389            57       0.9      151               1            12   \n",
       "1607            23       0.1      111               3             1   \n",
       "1939            58       0.1      132               5            14   \n",
       "1481            40       0.6      191               4            11   \n",
       "182             37       0.7      126               7            20   \n",
       "1940             8       0.8      185               1             7   \n",
       "1160            36       0.7      108               8             3   \n",
       "\n",
       "      CozunurlukYükseklik  CozunurlukGenislik     RAM  BataryaOmru  3G  \\\n",
       "1738                   70                1974   790.0            3   0   \n",
       "548                  1703                1880  1196.0            5   1   \n",
       "936                   927                1135  2066.0           15   1   \n",
       "1389                  124                 833  2785.0           16   0   \n",
       "1607                  213                 705  2571.0           13   0   \n",
       "1939                   88                1261  1018.0           16   0   \n",
       "1481                 1652                1983  1112.0           15   0   \n",
       "182                  1103                1637  2166.0            4   0   \n",
       "1940                 1015                1947  2528.0            8   1   \n",
       "1160                  868                1632  3057.0            5   0   \n",
       "\n",
       "      Dokunmatik  WiFi  \n",
       "1738           0     1  \n",
       "548            1     0  \n",
       "936            1     1  \n",
       "1389           1     1  \n",
       "1607           1     0  \n",
       "1939           1     1  \n",
       "1481           0     0  \n",
       "182            1     1  \n",
       "1940           0     1  \n",
       "1160           0     1  "
      ]
     },
     "execution_count": 32,
     "metadata": {},
     "output_type": "execute_result"
    }
   ],
   "source": [
    "X_train.head(10)"
   ]
  },
  {
   "cell_type": "code",
   "execution_count": 33,
   "id": "a227b2e4",
   "metadata": {
    "execution": {
     "iopub.execute_input": "2023-03-13T11:01:22.359504Z",
     "iopub.status.busy": "2023-03-13T11:01:22.357885Z",
     "iopub.status.idle": "2023-03-13T11:01:22.365067Z",
     "shell.execute_reply": "2023-03-13T11:01:22.364422Z"
    },
    "papermill": {
     "duration": 0.041026,
     "end_time": "2023-03-13T11:01:22.366755",
     "exception": false,
     "start_time": "2023-03-13T11:01:22.325729",
     "status": "completed"
    },
    "tags": []
   },
   "outputs": [
    {
     "data": {
      "text/plain": [
       "1738    3\n",
       "548     2\n",
       "936     2\n",
       "1389    0\n",
       "1607    0\n",
       "1939    3\n",
       "1481    2\n",
       "182     0\n",
       "1940    0\n",
       "1160    1\n",
       "Name: FiyatAraligi, dtype: int64"
      ]
     },
     "execution_count": 33,
     "metadata": {},
     "output_type": "execute_result"
    }
   ],
   "source": [
    "Y_train.head(10)"
   ]
  },
  {
   "cell_type": "code",
   "execution_count": 34,
   "id": "0051fef7",
   "metadata": {
    "execution": {
     "iopub.execute_input": "2023-03-13T11:01:22.430200Z",
     "iopub.status.busy": "2023-03-13T11:01:22.429036Z",
     "iopub.status.idle": "2023-03-13T11:01:22.446631Z",
     "shell.execute_reply": "2023-03-13T11:01:22.446000Z"
    },
    "papermill": {
     "duration": 0.051028,
     "end_time": "2023-03-13T11:01:22.448125",
     "exception": false,
     "start_time": "2023-03-13T11:01:22.397097",
     "status": "completed"
    },
    "tags": []
   },
   "outputs": [
    {
     "data": {
      "text/html": [
       "<div>\n",
       "<style scoped>\n",
       "    .dataframe tbody tr th:only-of-type {\n",
       "        vertical-align: middle;\n",
       "    }\n",
       "\n",
       "    .dataframe tbody tr th {\n",
       "        vertical-align: top;\n",
       "    }\n",
       "\n",
       "    .dataframe thead th {\n",
       "        text-align: right;\n",
       "    }\n",
       "</style>\n",
       "<table border=\"1\" class=\"dataframe\">\n",
       "  <thead>\n",
       "    <tr style=\"text-align: right;\">\n",
       "      <th></th>\n",
       "      <th>BataryaGucu</th>\n",
       "      <th>Bluetooth</th>\n",
       "      <th>MikroislemciHizi</th>\n",
       "      <th>CiftHat</th>\n",
       "      <th>OnKameraMP</th>\n",
       "      <th>4G</th>\n",
       "      <th>DahiliBellek</th>\n",
       "      <th>Kalinlik</th>\n",
       "      <th>Agirlik</th>\n",
       "      <th>CekirdekSayisi</th>\n",
       "      <th>ArkaKameraMP</th>\n",
       "      <th>CozunurlukYükseklik</th>\n",
       "      <th>CozunurlukGenislik</th>\n",
       "      <th>RAM</th>\n",
       "      <th>BataryaOmru</th>\n",
       "      <th>3G</th>\n",
       "      <th>Dokunmatik</th>\n",
       "      <th>WiFi</th>\n",
       "    </tr>\n",
       "  </thead>\n",
       "  <tbody>\n",
       "    <tr>\n",
       "      <th>1860</th>\n",
       "      <td>1433</td>\n",
       "      <td>0</td>\n",
       "      <td>2.3</td>\n",
       "      <td>1</td>\n",
       "      <td>2.0</td>\n",
       "      <td>0</td>\n",
       "      <td>5</td>\n",
       "      <td>0.1</td>\n",
       "      <td>129</td>\n",
       "      <td>5</td>\n",
       "      <td>11</td>\n",
       "      <td>420</td>\n",
       "      <td>784</td>\n",
       "      <td>2132.0</td>\n",
       "      <td>19</td>\n",
       "      <td>0</td>\n",
       "      <td>1</td>\n",
       "      <td>0</td>\n",
       "    </tr>\n",
       "    <tr>\n",
       "      <th>353</th>\n",
       "      <td>1174</td>\n",
       "      <td>0</td>\n",
       "      <td>0.9</td>\n",
       "      <td>1</td>\n",
       "      <td>7.0</td>\n",
       "      <td>1</td>\n",
       "      <td>30</td>\n",
       "      <td>1.0</td>\n",
       "      <td>147</td>\n",
       "      <td>4</td>\n",
       "      <td>20</td>\n",
       "      <td>744</td>\n",
       "      <td>1244</td>\n",
       "      <td>804.0</td>\n",
       "      <td>16</td>\n",
       "      <td>1</td>\n",
       "      <td>0</td>\n",
       "      <td>0</td>\n",
       "    </tr>\n",
       "    <tr>\n",
       "      <th>1333</th>\n",
       "      <td>999</td>\n",
       "      <td>1</td>\n",
       "      <td>2.6</td>\n",
       "      <td>0</td>\n",
       "      <td>11.0</td>\n",
       "      <td>0</td>\n",
       "      <td>56</td>\n",
       "      <td>1.0</td>\n",
       "      <td>165</td>\n",
       "      <td>4</td>\n",
       "      <td>13</td>\n",
       "      <td>342</td>\n",
       "      <td>1641</td>\n",
       "      <td>3083.0</td>\n",
       "      <td>11</td>\n",
       "      <td>0</td>\n",
       "      <td>0</td>\n",
       "      <td>0</td>\n",
       "    </tr>\n",
       "    <tr>\n",
       "      <th>905</th>\n",
       "      <td>972</td>\n",
       "      <td>0</td>\n",
       "      <td>0.5</td>\n",
       "      <td>0</td>\n",
       "      <td>5.0</td>\n",
       "      <td>1</td>\n",
       "      <td>13</td>\n",
       "      <td>0.4</td>\n",
       "      <td>193</td>\n",
       "      <td>5</td>\n",
       "      <td>8</td>\n",
       "      <td>1392</td>\n",
       "      <td>1795</td>\n",
       "      <td>1615.0</td>\n",
       "      <td>13</td>\n",
       "      <td>1</td>\n",
       "      <td>0</td>\n",
       "      <td>1</td>\n",
       "    </tr>\n",
       "    <tr>\n",
       "      <th>1289</th>\n",
       "      <td>1811</td>\n",
       "      <td>0</td>\n",
       "      <td>2.5</td>\n",
       "      <td>1</td>\n",
       "      <td>4.0</td>\n",
       "      <td>0</td>\n",
       "      <td>5</td>\n",
       "      <td>0.6</td>\n",
       "      <td>98</td>\n",
       "      <td>4</td>\n",
       "      <td>16</td>\n",
       "      <td>447</td>\n",
       "      <td>568</td>\n",
       "      <td>2700.0</td>\n",
       "      <td>8</td>\n",
       "      <td>0</td>\n",
       "      <td>0</td>\n",
       "      <td>0</td>\n",
       "    </tr>\n",
       "  </tbody>\n",
       "</table>\n",
       "</div>"
      ],
      "text/plain": [
       "      BataryaGucu  Bluetooth  MikroislemciHizi  CiftHat  OnKameraMP  4G  \\\n",
       "1860         1433          0               2.3        1         2.0   0   \n",
       "353          1174          0               0.9        1         7.0   1   \n",
       "1333          999          1               2.6        0        11.0   0   \n",
       "905           972          0               0.5        0         5.0   1   \n",
       "1289         1811          0               2.5        1         4.0   0   \n",
       "\n",
       "      DahiliBellek  Kalinlik  Agirlik  CekirdekSayisi  ArkaKameraMP  \\\n",
       "1860             5       0.1      129               5            11   \n",
       "353             30       1.0      147               4            20   \n",
       "1333            56       1.0      165               4            13   \n",
       "905             13       0.4      193               5             8   \n",
       "1289             5       0.6       98               4            16   \n",
       "\n",
       "      CozunurlukYükseklik  CozunurlukGenislik     RAM  BataryaOmru  3G  \\\n",
       "1860                  420                 784  2132.0           19   0   \n",
       "353                   744                1244   804.0           16   1   \n",
       "1333                  342                1641  3083.0           11   0   \n",
       "905                  1392                1795  1615.0           13   1   \n",
       "1289                  447                 568  2700.0            8   0   \n",
       "\n",
       "      Dokunmatik  WiFi  \n",
       "1860           1     0  \n",
       "353            0     0  \n",
       "1333           0     0  \n",
       "905            0     1  \n",
       "1289           0     0  "
      ]
     },
     "execution_count": 34,
     "metadata": {},
     "output_type": "execute_result"
    }
   ],
   "source": [
    "X_test.head()"
   ]
  },
  {
   "cell_type": "code",
   "execution_count": 35,
   "id": "f1bbcb30",
   "metadata": {
    "execution": {
     "iopub.execute_input": "2023-03-13T11:01:22.511234Z",
     "iopub.status.busy": "2023-03-13T11:01:22.510615Z",
     "iopub.status.idle": "2023-03-13T11:01:22.517253Z",
     "shell.execute_reply": "2023-03-13T11:01:22.515813Z"
    },
    "papermill": {
     "duration": 0.040866,
     "end_time": "2023-03-13T11:01:22.519027",
     "exception": false,
     "start_time": "2023-03-13T11:01:22.478161",
     "status": "completed"
    },
    "tags": []
   },
   "outputs": [
    {
     "data": {
      "text/plain": [
       "1860    2\n",
       "353     3\n",
       "1333    0\n",
       "905     2\n",
       "1289    0\n",
       "Name: FiyatAraligi, dtype: int64"
      ]
     },
     "execution_count": 35,
     "metadata": {},
     "output_type": "execute_result"
    }
   ],
   "source": [
    "Y_test.head()\n",
    "# 3- Çok ucuz     2 - Ucuz     1 - Pahalı     0 - Normal"
   ]
  },
  {
   "cell_type": "markdown",
   "id": "1b321188",
   "metadata": {
    "papermill": {
     "duration": 0.029972,
     "end_time": "2023-03-13T11:01:22.579321",
     "exception": false,
     "start_time": "2023-03-13T11:01:22.549349",
     "status": "completed"
    },
    "tags": []
   },
   "source": [
    "# **Naive Bayes Sınıflandırması**"
   ]
  },
  {
   "cell_type": "code",
   "execution_count": 36,
   "id": "9a49c95d",
   "metadata": {
    "execution": {
     "iopub.execute_input": "2023-03-13T11:01:22.642365Z",
     "iopub.status.busy": "2023-03-13T11:01:22.641795Z",
     "iopub.status.idle": "2023-03-13T11:01:22.653791Z",
     "shell.execute_reply": "2023-03-13T11:01:22.652913Z"
    },
    "papermill": {
     "duration": 0.046619,
     "end_time": "2023-03-13T11:01:22.656264",
     "exception": false,
     "start_time": "2023-03-13T11:01:22.609645",
     "status": "completed"
    },
    "tags": []
   },
   "outputs": [
    {
     "data": {
      "text/plain": [
       "GaussianNB()"
      ]
     },
     "execution_count": 36,
     "metadata": {},
     "output_type": "execute_result"
    }
   ],
   "source": [
    "bys = GaussianNB()\n",
    "bys.fit(X_train, Y_train)"
   ]
  },
  {
   "cell_type": "markdown",
   "id": "b84918b4",
   "metadata": {
    "papermill": {
     "duration": 0.033177,
     "end_time": "2023-03-13T11:01:22.720913",
     "exception": false,
     "start_time": "2023-03-13T11:01:22.687736",
     "status": "completed"
    },
    "tags": []
   },
   "source": [
    "Daha sonra modeli test edebilmemiz için Y_pred isimli bir değişkene, tahminlerimizi atıyoruz."
   ]
  },
  {
   "cell_type": "code",
   "execution_count": 37,
   "id": "0d318c9c",
   "metadata": {
    "execution": {
     "iopub.execute_input": "2023-03-13T11:01:22.785938Z",
     "iopub.status.busy": "2023-03-13T11:01:22.785078Z",
     "iopub.status.idle": "2023-03-13T11:01:22.791855Z",
     "shell.execute_reply": "2023-03-13T11:01:22.790635Z"
    },
    "papermill": {
     "duration": 0.042113,
     "end_time": "2023-03-13T11:01:22.794328",
     "exception": false,
     "start_time": "2023-03-13T11:01:22.752215",
     "status": "completed"
    },
    "tags": []
   },
   "outputs": [],
   "source": [
    "Y_pred = bys.predict(X_test)"
   ]
  },
  {
   "cell_type": "markdown",
   "id": "ba85e02b",
   "metadata": {
    "papermill": {
     "duration": 0.03187,
     "end_time": "2023-03-13T11:01:22.857919",
     "exception": false,
     "start_time": "2023-03-13T11:01:22.826049",
     "status": "completed"
    },
    "tags": []
   },
   "source": [
    "Tahmin ve gerçek değerleri birlikte gözlemleyelim"
   ]
  },
  {
   "cell_type": "code",
   "execution_count": 38,
   "id": "e138191d",
   "metadata": {
    "execution": {
     "iopub.execute_input": "2023-03-13T11:01:22.922862Z",
     "iopub.status.busy": "2023-03-13T11:01:22.922411Z",
     "iopub.status.idle": "2023-03-13T11:01:22.934752Z",
     "shell.execute_reply": "2023-03-13T11:01:22.933951Z"
    },
    "papermill": {
     "duration": 0.04671,
     "end_time": "2023-03-13T11:01:22.936348",
     "exception": false,
     "start_time": "2023-03-13T11:01:22.889638",
     "status": "completed"
    },
    "tags": []
   },
   "outputs": [
    {
     "data": {
      "text/html": [
       "<div>\n",
       "<style scoped>\n",
       "    .dataframe tbody tr th:only-of-type {\n",
       "        vertical-align: middle;\n",
       "    }\n",
       "\n",
       "    .dataframe tbody tr th {\n",
       "        vertical-align: top;\n",
       "    }\n",
       "\n",
       "    .dataframe thead th {\n",
       "        text-align: right;\n",
       "    }\n",
       "</style>\n",
       "<table border=\"1\" class=\"dataframe\">\n",
       "  <thead>\n",
       "    <tr style=\"text-align: right;\">\n",
       "      <th></th>\n",
       "      <th>Gerçek Değerler</th>\n",
       "      <th>Tahmin Değerler</th>\n",
       "      <th>Uzaklık</th>\n",
       "    </tr>\n",
       "  </thead>\n",
       "  <tbody>\n",
       "    <tr>\n",
       "      <th>1860</th>\n",
       "      <td>2</td>\n",
       "      <td>0</td>\n",
       "      <td>-2</td>\n",
       "    </tr>\n",
       "    <tr>\n",
       "      <th>353</th>\n",
       "      <td>3</td>\n",
       "      <td>3</td>\n",
       "      <td>0</td>\n",
       "    </tr>\n",
       "    <tr>\n",
       "      <th>1333</th>\n",
       "      <td>0</td>\n",
       "      <td>1</td>\n",
       "      <td>1</td>\n",
       "    </tr>\n",
       "    <tr>\n",
       "      <th>905</th>\n",
       "      <td>2</td>\n",
       "      <td>2</td>\n",
       "      <td>0</td>\n",
       "    </tr>\n",
       "    <tr>\n",
       "      <th>1289</th>\n",
       "      <td>0</td>\n",
       "      <td>0</td>\n",
       "      <td>0</td>\n",
       "    </tr>\n",
       "    <tr>\n",
       "      <th>...</th>\n",
       "      <td>...</td>\n",
       "      <td>...</td>\n",
       "      <td>...</td>\n",
       "    </tr>\n",
       "    <tr>\n",
       "      <th>765</th>\n",
       "      <td>3</td>\n",
       "      <td>3</td>\n",
       "      <td>0</td>\n",
       "    </tr>\n",
       "    <tr>\n",
       "      <th>1356</th>\n",
       "      <td>3</td>\n",
       "      <td>3</td>\n",
       "      <td>0</td>\n",
       "    </tr>\n",
       "    <tr>\n",
       "      <th>408</th>\n",
       "      <td>3</td>\n",
       "      <td>3</td>\n",
       "      <td>0</td>\n",
       "    </tr>\n",
       "    <tr>\n",
       "      <th>1614</th>\n",
       "      <td>1</td>\n",
       "      <td>1</td>\n",
       "      <td>0</td>\n",
       "    </tr>\n",
       "    <tr>\n",
       "      <th>694</th>\n",
       "      <td>0</td>\n",
       "      <td>0</td>\n",
       "      <td>0</td>\n",
       "    </tr>\n",
       "  </tbody>\n",
       "</table>\n",
       "<p>500 rows × 3 columns</p>\n",
       "</div>"
      ],
      "text/plain": [
       "      Gerçek Değerler  Tahmin Değerler  Uzaklık\n",
       "1860                2                0       -2\n",
       "353                 3                3        0\n",
       "1333                0                1        1\n",
       "905                 2                2        0\n",
       "1289                0                0        0\n",
       "...               ...              ...      ...\n",
       "765                 3                3        0\n",
       "1356                3                3        0\n",
       "408                 3                3        0\n",
       "1614                1                1        0\n",
       "694                 0                0        0\n",
       "\n",
       "[500 rows x 3 columns]"
      ]
     },
     "execution_count": 38,
     "metadata": {},
     "output_type": "execute_result"
    }
   ],
   "source": [
    "pd.DataFrame({\"Gerçek Değerler\" : Y_test, \"Tahmin Değerler\" : Y_pred,\"Uzaklık\":Y_pred - Y_test})\n",
    "# 3- Çok ucuz     2 - Ucuz     1 - Pahalı     0 - Normal\n",
    "#Bu tablodan göründüğü kadarıyla güzel bir tahmin başarısı elde ettik. Birde doğruluk fonksiyonuyla tam başarı oranımıza bakalım."
   ]
  },
  {
   "cell_type": "markdown",
   "id": "d2049941",
   "metadata": {
    "papermill": {
     "duration": 0.030588,
     "end_time": "2023-03-13T11:01:22.998239",
     "exception": false,
     "start_time": "2023-03-13T11:01:22.967651",
     "status": "completed"
    },
    "tags": []
   },
   "source": [
    "Doğruluk fonksiyonuyla tam başarı oranımıza bakalım"
   ]
  },
  {
   "cell_type": "code",
   "execution_count": 39,
   "id": "a348606b",
   "metadata": {
    "execution": {
     "iopub.execute_input": "2023-03-13T11:01:23.066008Z",
     "iopub.status.busy": "2023-03-13T11:01:23.065375Z",
     "iopub.status.idle": "2023-03-13T11:01:23.071082Z",
     "shell.execute_reply": "2023-03-13T11:01:23.070512Z"
    },
    "papermill": {
     "duration": 0.041081,
     "end_time": "2023-03-13T11:01:23.072715",
     "exception": false,
     "start_time": "2023-03-13T11:01:23.031634",
     "status": "completed"
    },
    "tags": []
   },
   "outputs": [
    {
     "data": {
      "text/plain": [
       "0.814"
      ]
     },
     "execution_count": 39,
     "metadata": {},
     "output_type": "execute_result"
    }
   ],
   "source": [
    "accuracy_score(Y_pred, Y_test)\n",
    "#Evet gözüktüğü gibi oldukça yüksek bir başarı oranımız bulunmakta."
   ]
  },
  {
   "cell_type": "markdown",
   "id": "505040a3",
   "metadata": {
    "papermill": {
     "duration": 0.032201,
     "end_time": "2023-03-13T11:01:23.136263",
     "exception": false,
     "start_time": "2023-03-13T11:01:23.104062",
     "status": "completed"
    },
    "tags": []
   },
   "source": [
    "Yüzdelik olaraksa"
   ]
  },
  {
   "cell_type": "code",
   "execution_count": 40,
   "id": "0b931f8f",
   "metadata": {
    "execution": {
     "iopub.execute_input": "2023-03-13T11:01:23.201503Z",
     "iopub.status.busy": "2023-03-13T11:01:23.200910Z",
     "iopub.status.idle": "2023-03-13T11:01:23.206820Z",
     "shell.execute_reply": "2023-03-13T11:01:23.206145Z"
    },
    "papermill": {
     "duration": 0.040476,
     "end_time": "2023-03-13T11:01:23.208386",
     "exception": false,
     "start_time": "2023-03-13T11:01:23.167910",
     "status": "completed"
    },
    "tags": []
   },
   "outputs": [
    {
     "data": {
      "text/plain": [
       "81.39999999999999"
      ]
     },
     "execution_count": 40,
     "metadata": {},
     "output_type": "execute_result"
    }
   ],
   "source": [
    "accuracy_score(Y_pred, Y_test)*100"
   ]
  },
  {
   "cell_type": "markdown",
   "id": "b51df90e",
   "metadata": {
    "papermill": {
     "duration": 0.031735,
     "end_time": "2023-03-13T11:01:23.271777",
     "exception": false,
     "start_time": "2023-03-13T11:01:23.240042",
     "status": "completed"
    },
    "tags": []
   },
   "source": [
    "Karmaşıklık matrisimizi de görüntüleyelim\n",
    "\n",
    "Bir karışıklık matrisi, gerçek değerlerin bilinmekte olduğu bir dizi test verisi üzerinde, bir sınıflandırma modelinin performansını tanımlamak için sıklıkla kullanılan bir tablodur.\n"
   ]
  },
  {
   "cell_type": "code",
   "execution_count": 41,
   "id": "b592dd46",
   "metadata": {
    "execution": {
     "iopub.execute_input": "2023-03-13T11:01:23.336362Z",
     "iopub.status.busy": "2023-03-13T11:01:23.335973Z",
     "iopub.status.idle": "2023-03-13T11:01:23.345299Z",
     "shell.execute_reply": "2023-03-13T11:01:23.344384Z"
    },
    "papermill": {
     "duration": 0.044996,
     "end_time": "2023-03-13T11:01:23.348133",
     "exception": false,
     "start_time": "2023-03-13T11:01:23.303137",
     "status": "completed"
    },
    "tags": []
   },
   "outputs": [
    {
     "name": "stdout",
     "output_type": "stream",
     "text": [
      "[[ 93  15  23   0]\n",
      " [ 12 100   1   0]\n",
      " [ 22   0  96   9]\n",
      " [  0   0  11 118]]\n"
     ]
    }
   ],
   "source": [
    "print(confusion_matrix(Y_test , Y_pred))"
   ]
  },
  {
   "cell_type": "markdown",
   "id": "a2bf58e2",
   "metadata": {
    "papermill": {
     "duration": 0.03136,
     "end_time": "2023-03-13T11:01:23.411965",
     "exception": false,
     "start_time": "2023-03-13T11:01:23.380605",
     "status": "completed"
    },
    "tags": []
   },
   "source": [
    "Kesinlik oranımıza bakalım.\n",
    "Kesinlik (Precision) ise pozitif olarak tahminlediğimiz değerlerin ne kadarının doğru olduğunu gösterir.\n"
   ]
  },
  {
   "cell_type": "code",
   "execution_count": 42,
   "id": "40828348",
   "metadata": {
    "execution": {
     "iopub.execute_input": "2023-03-13T11:01:23.476855Z",
     "iopub.status.busy": "2023-03-13T11:01:23.476122Z",
     "iopub.status.idle": "2023-03-13T11:01:23.483032Z",
     "shell.execute_reply": "2023-03-13T11:01:23.482305Z"
    },
    "papermill": {
     "duration": 0.041444,
     "end_time": "2023-03-13T11:01:23.484593",
     "exception": false,
     "start_time": "2023-03-13T11:01:23.443149",
     "status": "completed"
    },
    "tags": []
   },
   "outputs": [
    {
     "data": {
      "text/plain": [
       "0.8142339468601938"
      ]
     },
     "execution_count": 42,
     "metadata": {},
     "output_type": "execute_result"
    }
   ],
   "source": [
    "PrecScore = precision_score(Y_test, Y_pred, average='weighted')\n",
    "PrecScore"
   ]
  },
  {
   "cell_type": "markdown",
   "id": "b50e0454",
   "metadata": {
    "papermill": {
     "duration": 0.031269,
     "end_time": "2023-03-13T11:01:23.547216",
     "exception": false,
     "start_time": "2023-03-13T11:01:23.515947",
     "status": "completed"
    },
    "tags": []
   },
   "source": [
    "Duyarlılık skorumuza bakalım. Gerçek değerleri ne kadar yakalayabildiğimizi gösterir.\n"
   ]
  },
  {
   "cell_type": "code",
   "execution_count": 43,
   "id": "055590e4",
   "metadata": {
    "execution": {
     "iopub.execute_input": "2023-03-13T11:01:23.611421Z",
     "iopub.status.busy": "2023-03-13T11:01:23.611073Z",
     "iopub.status.idle": "2023-03-13T11:01:23.618623Z",
     "shell.execute_reply": "2023-03-13T11:01:23.617995Z"
    },
    "papermill": {
     "duration": 0.041648,
     "end_time": "2023-03-13T11:01:23.620103",
     "exception": false,
     "start_time": "2023-03-13T11:01:23.578455",
     "status": "completed"
    },
    "tags": []
   },
   "outputs": [
    {
     "data": {
      "text/plain": [
       "0.814"
      ]
     },
     "execution_count": 43,
     "metadata": {},
     "output_type": "execute_result"
    }
   ],
   "source": [
    "RecScore = recall_score(Y_test, Y_pred, average='weighted')\n",
    "RecScore"
   ]
  },
  {
   "cell_type": "markdown",
   "id": "b8a121db",
   "metadata": {
    "papermill": {
     "duration": 0.031623,
     "end_time": "2023-03-13T11:01:23.683194",
     "exception": false,
     "start_time": "2023-03-13T11:01:23.651571",
     "status": "completed"
    },
    "tags": []
   },
   "source": [
    "Kesinlik ve Duyarlılık skorlarımız harmanlanmış halini F1 skorumuz vermektedir. Bu skoru görünteleyelim"
   ]
  },
  {
   "cell_type": "code",
   "execution_count": 44,
   "id": "1ad602a7",
   "metadata": {
    "execution": {
     "iopub.execute_input": "2023-03-13T11:01:23.748741Z",
     "iopub.status.busy": "2023-03-13T11:01:23.747957Z",
     "iopub.status.idle": "2023-03-13T11:01:23.754345Z",
     "shell.execute_reply": "2023-03-13T11:01:23.753751Z"
    },
    "papermill": {
     "duration": 0.040687,
     "end_time": "2023-03-13T11:01:23.755988",
     "exception": false,
     "start_time": "2023-03-13T11:01:23.715301",
     "status": "completed"
    },
    "tags": []
   },
   "outputs": [
    {
     "data": {
      "text/plain": [
       "0.8139963407792739"
      ]
     },
     "execution_count": 44,
     "metadata": {},
     "output_type": "execute_result"
    }
   ],
   "source": [
    "F1Score = f1_score(Y_test, Y_pred, average = 'weighted')\n",
    "F1Score"
   ]
  },
  {
   "cell_type": "markdown",
   "id": "4d27c0f8",
   "metadata": {
    "papermill": {
     "duration": 0.031371,
     "end_time": "2023-03-13T11:01:23.820168",
     "exception": false,
     "start_time": "2023-03-13T11:01:23.788797",
     "status": "completed"
    },
    "tags": []
   },
   "source": [
    "Bu oranlarında bulunduğu sınıflandırma raporumuzu görünteleyelim."
   ]
  },
  {
   "cell_type": "code",
   "execution_count": 45,
   "id": "bf00067b",
   "metadata": {
    "execution": {
     "iopub.execute_input": "2023-03-13T11:01:23.887109Z",
     "iopub.status.busy": "2023-03-13T11:01:23.886604Z",
     "iopub.status.idle": "2023-03-13T11:01:23.896701Z",
     "shell.execute_reply": "2023-03-13T11:01:23.895232Z"
    },
    "papermill": {
     "duration": 0.046868,
     "end_time": "2023-03-13T11:01:23.898843",
     "exception": false,
     "start_time": "2023-03-13T11:01:23.851975",
     "status": "completed"
    },
    "tags": []
   },
   "outputs": [
    {
     "name": "stdout",
     "output_type": "stream",
     "text": [
      "              precision    recall  f1-score   support\n",
      "\n",
      "           0       0.73      0.71      0.72       131\n",
      "           1       0.87      0.88      0.88       113\n",
      "           2       0.73      0.76      0.74       127\n",
      "           3       0.93      0.91      0.92       129\n",
      "\n",
      "    accuracy                           0.81       500\n",
      "   macro avg       0.82      0.82      0.82       500\n",
      "weighted avg       0.81      0.81      0.81       500\n",
      "\n"
     ]
    }
   ],
   "source": [
    "print(classification_report(Y_test, Y_pred))"
   ]
  },
  {
   "cell_type": "markdown",
   "id": "c1b29f6a",
   "metadata": {
    "papermill": {
     "duration": 0.031779,
     "end_time": "2023-03-13T11:01:23.962715",
     "exception": false,
     "start_time": "2023-03-13T11:01:23.930936",
     "status": "completed"
    },
    "tags": []
   },
   "source": [
    "# **Karar Ağacı ile Sınıflandırma**"
   ]
  },
  {
   "cell_type": "markdown",
   "id": "fafcedbb",
   "metadata": {
    "papermill": {
     "duration": 0.032095,
     "end_time": "2023-03-13T11:01:24.026131",
     "exception": false,
     "start_time": "2023-03-13T11:01:23.994036",
     "status": "completed"
    },
    "tags": []
   },
   "source": [
    "Karar Ağacı ile sınıflandırma bir diğer tür sınıflandırmadır."
   ]
  },
  {
   "cell_type": "markdown",
   "id": "b3fe2bd8",
   "metadata": {
    "papermill": {
     "duration": 0.032106,
     "end_time": "2023-03-13T11:01:24.091396",
     "exception": false,
     "start_time": "2023-03-13T11:01:24.059290",
     "status": "completed"
    },
    "tags": []
   },
   "source": [
    "Karar Ağacı modelimizi eğitme işlemlerini yapıyoruz."
   ]
  },
  {
   "cell_type": "code",
   "execution_count": 46,
   "id": "a20e2aa9",
   "metadata": {
    "execution": {
     "iopub.execute_input": "2023-03-13T11:01:24.157576Z",
     "iopub.status.busy": "2023-03-13T11:01:24.156886Z",
     "iopub.status.idle": "2023-03-13T11:01:24.175272Z",
     "shell.execute_reply": "2023-03-13T11:01:24.173858Z"
    },
    "papermill": {
     "duration": 0.054504,
     "end_time": "2023-03-13T11:01:24.177776",
     "exception": false,
     "start_time": "2023-03-13T11:01:24.123272",
     "status": "completed"
    },
    "tags": []
   },
   "outputs": [],
   "source": [
    "KararAgaci = DecisionTreeClassifier(random_state = 42, criterion = 'entropy')\n",
    "KA_model = KararAgaci.fit(X_train,Y_train)"
   ]
  },
  {
   "cell_type": "markdown",
   "id": "50582cdb",
   "metadata": {
    "papermill": {
     "duration": 0.031382,
     "end_time": "2023-03-13T11:01:24.241208",
     "exception": false,
     "start_time": "2023-03-13T11:01:24.209826",
     "status": "completed"
    },
    "tags": []
   },
   "source": [
    "Bu sınıflandırma sonucunda elde ettiğimiz tahminleri ve gerçek değerleri Veri Çerçevesinde gözlemleyelim."
   ]
  },
  {
   "cell_type": "code",
   "execution_count": 47,
   "id": "0a85d6b6",
   "metadata": {
    "execution": {
     "iopub.execute_input": "2023-03-13T11:01:24.308349Z",
     "iopub.status.busy": "2023-03-13T11:01:24.307651Z",
     "iopub.status.idle": "2023-03-13T11:01:24.318714Z",
     "shell.execute_reply": "2023-03-13T11:01:24.318114Z"
    },
    "papermill": {
     "duration": 0.047393,
     "end_time": "2023-03-13T11:01:24.320217",
     "exception": false,
     "start_time": "2023-03-13T11:01:24.272824",
     "status": "completed"
    },
    "tags": []
   },
   "outputs": [
    {
     "data": {
      "text/html": [
       "<div>\n",
       "<style scoped>\n",
       "    .dataframe tbody tr th:only-of-type {\n",
       "        vertical-align: middle;\n",
       "    }\n",
       "\n",
       "    .dataframe tbody tr th {\n",
       "        vertical-align: top;\n",
       "    }\n",
       "\n",
       "    .dataframe thead th {\n",
       "        text-align: right;\n",
       "    }\n",
       "</style>\n",
       "<table border=\"1\" class=\"dataframe\">\n",
       "  <thead>\n",
       "    <tr style=\"text-align: right;\">\n",
       "      <th></th>\n",
       "      <th>Gerçek Değerler</th>\n",
       "      <th>Tahmin Değerler</th>\n",
       "      <th>Uzaklık</th>\n",
       "    </tr>\n",
       "  </thead>\n",
       "  <tbody>\n",
       "    <tr>\n",
       "      <th>1860</th>\n",
       "      <td>2</td>\n",
       "      <td>0</td>\n",
       "      <td>-2</td>\n",
       "    </tr>\n",
       "    <tr>\n",
       "      <th>353</th>\n",
       "      <td>3</td>\n",
       "      <td>3</td>\n",
       "      <td>0</td>\n",
       "    </tr>\n",
       "    <tr>\n",
       "      <th>1333</th>\n",
       "      <td>0</td>\n",
       "      <td>1</td>\n",
       "      <td>1</td>\n",
       "    </tr>\n",
       "    <tr>\n",
       "      <th>905</th>\n",
       "      <td>2</td>\n",
       "      <td>2</td>\n",
       "      <td>0</td>\n",
       "    </tr>\n",
       "    <tr>\n",
       "      <th>1289</th>\n",
       "      <td>0</td>\n",
       "      <td>0</td>\n",
       "      <td>0</td>\n",
       "    </tr>\n",
       "    <tr>\n",
       "      <th>...</th>\n",
       "      <td>...</td>\n",
       "      <td>...</td>\n",
       "      <td>...</td>\n",
       "    </tr>\n",
       "    <tr>\n",
       "      <th>765</th>\n",
       "      <td>3</td>\n",
       "      <td>3</td>\n",
       "      <td>0</td>\n",
       "    </tr>\n",
       "    <tr>\n",
       "      <th>1356</th>\n",
       "      <td>3</td>\n",
       "      <td>3</td>\n",
       "      <td>0</td>\n",
       "    </tr>\n",
       "    <tr>\n",
       "      <th>408</th>\n",
       "      <td>3</td>\n",
       "      <td>3</td>\n",
       "      <td>0</td>\n",
       "    </tr>\n",
       "    <tr>\n",
       "      <th>1614</th>\n",
       "      <td>1</td>\n",
       "      <td>1</td>\n",
       "      <td>0</td>\n",
       "    </tr>\n",
       "    <tr>\n",
       "      <th>694</th>\n",
       "      <td>0</td>\n",
       "      <td>0</td>\n",
       "      <td>0</td>\n",
       "    </tr>\n",
       "  </tbody>\n",
       "</table>\n",
       "<p>500 rows × 3 columns</p>\n",
       "</div>"
      ],
      "text/plain": [
       "      Gerçek Değerler  Tahmin Değerler  Uzaklık\n",
       "1860                2                0       -2\n",
       "353                 3                3        0\n",
       "1333                0                1        1\n",
       "905                 2                2        0\n",
       "1289                0                0        0\n",
       "...               ...              ...      ...\n",
       "765                 3                3        0\n",
       "1356                3                3        0\n",
       "408                 3                3        0\n",
       "1614                1                1        0\n",
       "694                 0                0        0\n",
       "\n",
       "[500 rows x 3 columns]"
      ]
     },
     "execution_count": 47,
     "metadata": {},
     "output_type": "execute_result"
    }
   ],
   "source": [
    "dfTahmin = pd.DataFrame({\"Gerçek Değerler\" : Y_test, \"Tahmin Değerler\" : Y_pred,\"Uzaklık\":Y_pred - Y_test})\n",
    "dfTahmin"
   ]
  },
  {
   "cell_type": "markdown",
   "id": "73d582f7",
   "metadata": {
    "papermill": {
     "duration": 0.032348,
     "end_time": "2023-03-13T11:01:24.385512",
     "exception": false,
     "start_time": "2023-03-13T11:01:24.353164",
     "status": "completed"
    },
    "tags": []
   },
   "source": [
    "Bu sınıflandırmanın doğruluk oranını görünteleyelim"
   ]
  },
  {
   "cell_type": "code",
   "execution_count": 48,
   "id": "a54b0df1",
   "metadata": {
    "execution": {
     "iopub.execute_input": "2023-03-13T11:01:24.451327Z",
     "iopub.status.busy": "2023-03-13T11:01:24.450770Z",
     "iopub.status.idle": "2023-03-13T11:01:24.457715Z",
     "shell.execute_reply": "2023-03-13T11:01:24.457111Z"
    },
    "papermill": {
     "duration": 0.041612,
     "end_time": "2023-03-13T11:01:24.459203",
     "exception": false,
     "start_time": "2023-03-13T11:01:24.417591",
     "status": "completed"
    },
    "tags": []
   },
   "outputs": [
    {
     "data": {
      "text/plain": [
       "0.86"
      ]
     },
     "execution_count": 48,
     "metadata": {},
     "output_type": "execute_result"
    }
   ],
   "source": [
    "Y_pred = KA_model.predict(X_test)\n",
    "accuracy_score(Y_test, Y_pred)\n",
    "\n",
    "#Doğruluk oranımız bu sınıflandırmada daha fazla oldu."
   ]
  },
  {
   "cell_type": "markdown",
   "id": "f38e7653",
   "metadata": {
    "papermill": {
     "duration": 0.032179,
     "end_time": "2023-03-13T11:01:24.523884",
     "exception": false,
     "start_time": "2023-03-13T11:01:24.491705",
     "status": "completed"
    },
    "tags": []
   },
   "source": [
    "Yüzdelik olarak bakalım"
   ]
  },
  {
   "cell_type": "code",
   "execution_count": 49,
   "id": "c596ad96",
   "metadata": {
    "execution": {
     "iopub.execute_input": "2023-03-13T11:01:24.590632Z",
     "iopub.status.busy": "2023-03-13T11:01:24.589979Z",
     "iopub.status.idle": "2023-03-13T11:01:24.596774Z",
     "shell.execute_reply": "2023-03-13T11:01:24.595589Z"
    },
    "papermill": {
     "duration": 0.042163,
     "end_time": "2023-03-13T11:01:24.598403",
     "exception": false,
     "start_time": "2023-03-13T11:01:24.556240",
     "status": "completed"
    },
    "tags": []
   },
   "outputs": [
    {
     "data": {
      "text/plain": [
       "86.0"
      ]
     },
     "execution_count": 49,
     "metadata": {},
     "output_type": "execute_result"
    }
   ],
   "source": [
    "accuracy_score(Y_test, Y_pred)*100"
   ]
  },
  {
   "cell_type": "markdown",
   "id": "34fbe480",
   "metadata": {
    "papermill": {
     "duration": 0.032187,
     "end_time": "2023-03-13T11:01:24.663880",
     "exception": false,
     "start_time": "2023-03-13T11:01:24.631693",
     "status": "completed"
    },
    "tags": []
   },
   "source": [
    "Karmaşıklık matrisini görüntülüyelim"
   ]
  },
  {
   "cell_type": "code",
   "execution_count": 50,
   "id": "e7b0ec37",
   "metadata": {
    "execution": {
     "iopub.execute_input": "2023-03-13T11:01:24.731998Z",
     "iopub.status.busy": "2023-03-13T11:01:24.731354Z",
     "iopub.status.idle": "2023-03-13T11:01:24.737977Z",
     "shell.execute_reply": "2023-03-13T11:01:24.736490Z"
    },
    "papermill": {
     "duration": 0.043082,
     "end_time": "2023-03-13T11:01:24.740339",
     "exception": false,
     "start_time": "2023-03-13T11:01:24.697257",
     "status": "completed"
    },
    "tags": []
   },
   "outputs": [
    {
     "name": "stdout",
     "output_type": "stream",
     "text": [
      "[[114   9   8   0]\n",
      " [ 17  96   0   0]\n",
      " [ 13   0 105   9]\n",
      " [  0   0  14 115]]\n"
     ]
    }
   ],
   "source": [
    "con_matrix = confusion_matrix(Y_test, Y_pred)\n",
    "print(con_matrix)"
   ]
  },
  {
   "cell_type": "markdown",
   "id": "7d4f76ca",
   "metadata": {
    "papermill": {
     "duration": 0.033345,
     "end_time": "2023-03-13T11:01:24.806382",
     "exception": false,
     "start_time": "2023-03-13T11:01:24.773037",
     "status": "completed"
    },
    "tags": []
   },
   "source": [
    "Naive Bayes sınıflandırmasında yaptığımız gibi Kesinlik, Duyarlılık, F1 skorlarımızı görüntüleyelim"
   ]
  },
  {
   "cell_type": "code",
   "execution_count": 51,
   "id": "e77012a1",
   "metadata": {
    "execution": {
     "iopub.execute_input": "2023-03-13T11:01:24.874878Z",
     "iopub.status.busy": "2023-03-13T11:01:24.873786Z",
     "iopub.status.idle": "2023-03-13T11:01:24.881733Z",
     "shell.execute_reply": "2023-03-13T11:01:24.881027Z"
    },
    "papermill": {
     "duration": 0.044259,
     "end_time": "2023-03-13T11:01:24.883615",
     "exception": false,
     "start_time": "2023-03-13T11:01:24.839356",
     "status": "completed"
    },
    "tags": []
   },
   "outputs": [
    {
     "data": {
      "text/plain": [
       "0.8633194316436252"
      ]
     },
     "execution_count": 51,
     "metadata": {},
     "output_type": "execute_result"
    }
   ],
   "source": [
    "PrecScore = precision_score(Y_test, Y_pred, average = 'weighted')\n",
    "PrecScore"
   ]
  },
  {
   "cell_type": "code",
   "execution_count": 52,
   "id": "2199c8e2",
   "metadata": {
    "execution": {
     "iopub.execute_input": "2023-03-13T11:01:24.950246Z",
     "iopub.status.busy": "2023-03-13T11:01:24.948970Z",
     "iopub.status.idle": "2023-03-13T11:01:24.956190Z",
     "shell.execute_reply": "2023-03-13T11:01:24.955676Z"
    },
    "papermill": {
     "duration": 0.041744,
     "end_time": "2023-03-13T11:01:24.957871",
     "exception": false,
     "start_time": "2023-03-13T11:01:24.916127",
     "status": "completed"
    },
    "tags": []
   },
   "outputs": [
    {
     "data": {
      "text/plain": [
       "0.86"
      ]
     },
     "execution_count": 52,
     "metadata": {},
     "output_type": "execute_result"
    }
   ],
   "source": [
    "RecScore = recall_score(Y_test, Y_pred, average='weighted')\n",
    "RecScore"
   ]
  },
  {
   "cell_type": "code",
   "execution_count": 53,
   "id": "63da8ec7",
   "metadata": {
    "execution": {
     "iopub.execute_input": "2023-03-13T11:01:25.026390Z",
     "iopub.status.busy": "2023-03-13T11:01:25.026034Z",
     "iopub.status.idle": "2023-03-13T11:01:25.034652Z",
     "shell.execute_reply": "2023-03-13T11:01:25.033751Z"
    },
    "papermill": {
     "duration": 0.044745,
     "end_time": "2023-03-13T11:01:25.036404",
     "exception": false,
     "start_time": "2023-03-13T11:01:24.991659",
     "status": "completed"
    },
    "tags": []
   },
   "outputs": [
    {
     "data": {
      "text/plain": [
       "0.8608131442869058"
      ]
     },
     "execution_count": 53,
     "metadata": {},
     "output_type": "execute_result"
    }
   ],
   "source": [
    "F1Score = f1_score(Y_test, Y_pred, average = 'weighted')  \n",
    "F1Score"
   ]
  },
  {
   "cell_type": "markdown",
   "id": "bc3f501c",
   "metadata": {
    "papermill": {
     "duration": 0.032453,
     "end_time": "2023-03-13T11:01:25.102459",
     "exception": false,
     "start_time": "2023-03-13T11:01:25.070006",
     "status": "completed"
    },
    "tags": []
   },
   "source": [
    "Farkedildiği üzere bu skorlar hep Doğruluk oranımızla çok yakın çıkıyor."
   ]
  },
  {
   "cell_type": "markdown",
   "id": "79caab4c",
   "metadata": {
    "papermill": {
     "duration": 0.03255,
     "end_time": "2023-03-13T11:01:25.168080",
     "exception": false,
     "start_time": "2023-03-13T11:01:25.135530",
     "status": "completed"
    },
    "tags": []
   },
   "source": [
    "Raporumuzu görüntüleyelim"
   ]
  },
  {
   "cell_type": "code",
   "execution_count": 54,
   "id": "b04cae45",
   "metadata": {
    "execution": {
     "iopub.execute_input": "2023-03-13T11:01:25.235089Z",
     "iopub.status.busy": "2023-03-13T11:01:25.234347Z",
     "iopub.status.idle": "2023-03-13T11:01:25.243581Z",
     "shell.execute_reply": "2023-03-13T11:01:25.242675Z"
    },
    "papermill": {
     "duration": 0.045053,
     "end_time": "2023-03-13T11:01:25.245650",
     "exception": false,
     "start_time": "2023-03-13T11:01:25.200597",
     "status": "completed"
    },
    "tags": []
   },
   "outputs": [
    {
     "name": "stdout",
     "output_type": "stream",
     "text": [
      "              precision    recall  f1-score   support\n",
      "\n",
      "           0       0.79      0.87      0.83       131\n",
      "           1       0.91      0.85      0.88       113\n",
      "           2       0.83      0.83      0.83       127\n",
      "           3       0.93      0.89      0.91       129\n",
      "\n",
      "    accuracy                           0.86       500\n",
      "   macro avg       0.87      0.86      0.86       500\n",
      "weighted avg       0.86      0.86      0.86       500\n",
      "\n"
     ]
    }
   ],
   "source": [
    "print(classification_report(Y_test, Y_pred))"
   ]
  },
  {
   "cell_type": "markdown",
   "id": "7bc55949",
   "metadata": {
    "papermill": {
     "duration": 0.034483,
     "end_time": "2023-03-13T11:01:25.312849",
     "exception": false,
     "start_time": "2023-03-13T11:01:25.278366",
     "status": "completed"
    },
    "tags": []
   },
   "source": [
    "# **KNN Sınıflandırma**"
   ]
  },
  {
   "cell_type": "markdown",
   "id": "69d1849a",
   "metadata": {
    "papermill": {
     "duration": 0.032127,
     "end_time": "2023-03-13T11:01:25.378132",
     "exception": false,
     "start_time": "2023-03-13T11:01:25.346005",
     "status": "completed"
    },
    "tags": []
   },
   "source": [
    "KNN modelimizi eğitme işlemlerini yapıyoruz."
   ]
  },
  {
   "cell_type": "code",
   "execution_count": 55,
   "id": "ec66e87a",
   "metadata": {
    "execution": {
     "iopub.execute_input": "2023-03-13T11:01:25.445028Z",
     "iopub.status.busy": "2023-03-13T11:01:25.444373Z",
     "iopub.status.idle": "2023-03-13T11:01:25.450156Z",
     "shell.execute_reply": "2023-03-13T11:01:25.449559Z"
    },
    "papermill": {
     "duration": 0.041375,
     "end_time": "2023-03-13T11:01:25.451972",
     "exception": false,
     "start_time": "2023-03-13T11:01:25.410597",
     "status": "completed"
    },
    "tags": []
   },
   "outputs": [],
   "source": [
    "knn = KNeighborsClassifier()\n",
    "knn_model = knn.fit(X_train, Y_train)"
   ]
  },
  {
   "cell_type": "markdown",
   "id": "07df3e0c",
   "metadata": {
    "papermill": {
     "duration": 0.033334,
     "end_time": "2023-03-13T11:01:25.518698",
     "exception": false,
     "start_time": "2023-03-13T11:01:25.485364",
     "status": "completed"
    },
    "tags": []
   },
   "source": [
    "Modelimizin tahminlerini Y_pred değişkenine atayalım"
   ]
  },
  {
   "cell_type": "code",
   "execution_count": 56,
   "id": "68442fff",
   "metadata": {
    "execution": {
     "iopub.execute_input": "2023-03-13T11:01:25.586923Z",
     "iopub.status.busy": "2023-03-13T11:01:25.586049Z",
     "iopub.status.idle": "2023-03-13T11:01:25.632646Z",
     "shell.execute_reply": "2023-03-13T11:01:25.631882Z"
    },
    "papermill": {
     "duration": 0.082858,
     "end_time": "2023-03-13T11:01:25.634924",
     "exception": false,
     "start_time": "2023-03-13T11:01:25.552066",
     "status": "completed"
    },
    "tags": []
   },
   "outputs": [],
   "source": [
    "Y_pred = knn.predict(X_test)"
   ]
  },
  {
   "cell_type": "markdown",
   "id": "81d09b38",
   "metadata": {
    "papermill": {
     "duration": 0.048771,
     "end_time": "2023-03-13T11:01:25.728232",
     "exception": false,
     "start_time": "2023-03-13T11:01:25.679461",
     "status": "completed"
    },
    "tags": []
   },
   "source": [
    "Doğruluk oranımız"
   ]
  },
  {
   "cell_type": "code",
   "execution_count": 57,
   "id": "1bf35431",
   "metadata": {
    "execution": {
     "iopub.execute_input": "2023-03-13T11:01:25.811570Z",
     "iopub.status.busy": "2023-03-13T11:01:25.811107Z",
     "iopub.status.idle": "2023-03-13T11:01:25.817998Z",
     "shell.execute_reply": "2023-03-13T11:01:25.817207Z"
    },
    "papermill": {
     "duration": 0.04911,
     "end_time": "2023-03-13T11:01:25.820492",
     "exception": false,
     "start_time": "2023-03-13T11:01:25.771382",
     "status": "completed"
    },
    "tags": []
   },
   "outputs": [
    {
     "data": {
      "text/plain": [
       "0.93"
      ]
     },
     "execution_count": 57,
     "metadata": {},
     "output_type": "execute_result"
    }
   ],
   "source": [
    "accuracy_score(Y_test, Y_pred)"
   ]
  },
  {
   "cell_type": "markdown",
   "id": "ec617581",
   "metadata": {
    "papermill": {
     "duration": 0.033098,
     "end_time": "2023-03-13T11:01:25.887210",
     "exception": false,
     "start_time": "2023-03-13T11:01:25.854112",
     "status": "completed"
    },
    "tags": []
   },
   "source": [
    "Yüzde olaraksa"
   ]
  },
  {
   "cell_type": "code",
   "execution_count": 58,
   "id": "1fa57e3f",
   "metadata": {
    "execution": {
     "iopub.execute_input": "2023-03-13T11:01:25.954617Z",
     "iopub.status.busy": "2023-03-13T11:01:25.953967Z",
     "iopub.status.idle": "2023-03-13T11:01:25.959784Z",
     "shell.execute_reply": "2023-03-13T11:01:25.958860Z"
    },
    "papermill": {
     "duration": 0.041789,
     "end_time": "2023-03-13T11:01:25.961651",
     "exception": false,
     "start_time": "2023-03-13T11:01:25.919862",
     "status": "completed"
    },
    "tags": []
   },
   "outputs": [
    {
     "data": {
      "text/plain": [
       "93.0"
      ]
     },
     "execution_count": 58,
     "metadata": {},
     "output_type": "execute_result"
    }
   ],
   "source": [
    "accuracy_score(Y_test, Y_pred)*100"
   ]
  },
  {
   "cell_type": "markdown",
   "id": "b1c83df9",
   "metadata": {
    "papermill": {
     "duration": 0.032915,
     "end_time": "2023-03-13T11:01:26.028046",
     "exception": false,
     "start_time": "2023-03-13T11:01:25.995131",
     "status": "completed"
    },
    "tags": []
   },
   "source": [
    "Raporumuz"
   ]
  },
  {
   "cell_type": "code",
   "execution_count": 59,
   "id": "8adf9377",
   "metadata": {
    "execution": {
     "iopub.execute_input": "2023-03-13T11:01:26.097259Z",
     "iopub.status.busy": "2023-03-13T11:01:26.096664Z",
     "iopub.status.idle": "2023-03-13T11:01:26.106389Z",
     "shell.execute_reply": "2023-03-13T11:01:26.104787Z"
    },
    "papermill": {
     "duration": 0.04616,
     "end_time": "2023-03-13T11:01:26.108373",
     "exception": false,
     "start_time": "2023-03-13T11:01:26.062213",
     "status": "completed"
    },
    "tags": []
   },
   "outputs": [
    {
     "name": "stdout",
     "output_type": "stream",
     "text": [
      "              precision    recall  f1-score   support\n",
      "\n",
      "           0       0.91      0.91      0.91       131\n",
      "           1       0.95      0.93      0.94       113\n",
      "           2       0.92      0.91      0.91       127\n",
      "           3       0.94      0.98      0.96       129\n",
      "\n",
      "    accuracy                           0.93       500\n",
      "   macro avg       0.93      0.93      0.93       500\n",
      "weighted avg       0.93      0.93      0.93       500\n",
      "\n"
     ]
    }
   ],
   "source": [
    "print(classification_report(Y_test, Y_pred))"
   ]
  },
  {
   "cell_type": "markdown",
   "id": "0facb77e",
   "metadata": {
    "papermill": {
     "duration": 0.032323,
     "end_time": "2023-03-13T11:01:26.174776",
     "exception": false,
     "start_time": "2023-03-13T11:01:26.142453",
     "status": "completed"
    },
    "tags": []
   },
   "source": [
    "Projemiz bizden KNN algoritması konusunda komşu sayısının çok kritik olduğunu ve 2’den 15’e kadar\n",
    "olan her sayıyı komşu sayısı olarak deneyerek her denemede modelin skorunu kaydetmeyi istemiştir."
   ]
  },
  {
   "cell_type": "code",
   "execution_count": 60,
   "id": "425cfae5",
   "metadata": {
    "execution": {
     "iopub.execute_input": "2023-03-13T11:01:26.241620Z",
     "iopub.status.busy": "2023-03-13T11:01:26.241161Z",
     "iopub.status.idle": "2023-03-13T11:01:26.245980Z",
     "shell.execute_reply": "2023-03-13T11:01:26.245030Z"
    },
    "papermill": {
     "duration": 0.040599,
     "end_time": "2023-03-13T11:01:26.247779",
     "exception": false,
     "start_time": "2023-03-13T11:01:26.207180",
     "status": "completed"
    },
    "tags": []
   },
   "outputs": [],
   "source": [
    "knn_params = {\"n_neighbors\": np.arange(2,15)}\n",
    "#En yakın komşu sayısını 2 - 15 e kadar her komşu sayısı olarak deneyecek."
   ]
  },
  {
   "cell_type": "code",
   "execution_count": 61,
   "id": "4808a632",
   "metadata": {
    "execution": {
     "iopub.execute_input": "2023-03-13T11:01:26.319544Z",
     "iopub.status.busy": "2023-03-13T11:01:26.318077Z",
     "iopub.status.idle": "2023-03-13T11:01:27.421092Z",
     "shell.execute_reply": "2023-03-13T11:01:27.420340Z"
    },
    "papermill": {
     "duration": 1.139977,
     "end_time": "2023-03-13T11:01:27.422700",
     "exception": false,
     "start_time": "2023-03-13T11:01:26.282723",
     "status": "completed"
    },
    "tags": []
   },
   "outputs": [
    {
     "data": {
      "text/plain": [
       "GridSearchCV(cv=3, estimator=KNeighborsClassifier(),\n",
       "             param_grid={'n_neighbors': array([ 2,  3,  4,  5,  6,  7,  8,  9, 10, 11, 12, 13, 14])})"
      ]
     },
     "execution_count": 61,
     "metadata": {},
     "output_type": "execute_result"
    }
   ],
   "source": [
    "knn = KNeighborsClassifier()\n",
    "knn_cv = GridSearchCV(knn, knn_params, cv = 3)\n",
    "knn_cv.fit(X_train, Y_train)"
   ]
  },
  {
   "cell_type": "markdown",
   "id": "c7b2182b",
   "metadata": {
    "papermill": {
     "duration": 0.044174,
     "end_time": "2023-03-13T11:01:27.510796",
     "exception": false,
     "start_time": "2023-03-13T11:01:27.466622",
     "status": "completed"
    },
    "tags": []
   },
   "source": [
    "Skorlarımızı görünteleyelim"
   ]
  },
  {
   "cell_type": "code",
   "execution_count": 62,
   "id": "c589c73c",
   "metadata": {
    "execution": {
     "iopub.execute_input": "2023-03-13T11:01:27.579770Z",
     "iopub.status.busy": "2023-03-13T11:01:27.579397Z",
     "iopub.status.idle": "2023-03-13T11:01:27.584059Z",
     "shell.execute_reply": "2023-03-13T11:01:27.583277Z"
    },
    "papermill": {
     "duration": 0.04094,
     "end_time": "2023-03-13T11:01:27.585995",
     "exception": false,
     "start_time": "2023-03-13T11:01:27.545055",
     "status": "completed"
    },
    "tags": []
   },
   "outputs": [
    {
     "name": "stdout",
     "output_type": "stream",
     "text": [
      "En İyi Skor: 0.934\n",
      "En İyi Parametre:  {'n_neighbors': 9}\n"
     ]
    }
   ],
   "source": [
    "print(\"En İyi Skor: \" + str(knn_cv.best_score_))\n",
    "print(\"En İyi Parametre:  \" + str(knn_cv.best_params_))"
   ]
  },
  {
   "cell_type": "markdown",
   "id": "62883399",
   "metadata": {
    "papermill": {
     "duration": 0.032494,
     "end_time": "2023-03-13T11:01:27.651834",
     "exception": false,
     "start_time": "2023-03-13T11:01:27.619340",
     "status": "completed"
    },
    "tags": []
   },
   "source": [
    "Modelimizin tahminlerini ve gerçek değerleri veri çerçevesinde görünteleyelim"
   ]
  },
  {
   "cell_type": "code",
   "execution_count": 63,
   "id": "b6c71ef3",
   "metadata": {
    "execution": {
     "iopub.execute_input": "2023-03-13T11:01:27.722109Z",
     "iopub.status.busy": "2023-03-13T11:01:27.721560Z",
     "iopub.status.idle": "2023-03-13T11:01:27.734065Z",
     "shell.execute_reply": "2023-03-13T11:01:27.732864Z"
    },
    "papermill": {
     "duration": 0.05122,
     "end_time": "2023-03-13T11:01:27.736732",
     "exception": false,
     "start_time": "2023-03-13T11:01:27.685512",
     "status": "completed"
    },
    "tags": []
   },
   "outputs": [
    {
     "data": {
      "text/html": [
       "<div>\n",
       "<style scoped>\n",
       "    .dataframe tbody tr th:only-of-type {\n",
       "        vertical-align: middle;\n",
       "    }\n",
       "\n",
       "    .dataframe tbody tr th {\n",
       "        vertical-align: top;\n",
       "    }\n",
       "\n",
       "    .dataframe thead th {\n",
       "        text-align: right;\n",
       "    }\n",
       "</style>\n",
       "<table border=\"1\" class=\"dataframe\">\n",
       "  <thead>\n",
       "    <tr style=\"text-align: right;\">\n",
       "      <th></th>\n",
       "      <th>Gerçek Değerler</th>\n",
       "      <th>Tahmin Değerler</th>\n",
       "      <th>Uzaklık</th>\n",
       "    </tr>\n",
       "  </thead>\n",
       "  <tbody>\n",
       "    <tr>\n",
       "      <th>1860</th>\n",
       "      <td>2</td>\n",
       "      <td>2</td>\n",
       "      <td>0</td>\n",
       "    </tr>\n",
       "    <tr>\n",
       "      <th>353</th>\n",
       "      <td>3</td>\n",
       "      <td>3</td>\n",
       "      <td>0</td>\n",
       "    </tr>\n",
       "    <tr>\n",
       "      <th>1333</th>\n",
       "      <td>0</td>\n",
       "      <td>0</td>\n",
       "      <td>0</td>\n",
       "    </tr>\n",
       "    <tr>\n",
       "      <th>905</th>\n",
       "      <td>2</td>\n",
       "      <td>2</td>\n",
       "      <td>0</td>\n",
       "    </tr>\n",
       "    <tr>\n",
       "      <th>1289</th>\n",
       "      <td>0</td>\n",
       "      <td>0</td>\n",
       "      <td>0</td>\n",
       "    </tr>\n",
       "    <tr>\n",
       "      <th>...</th>\n",
       "      <td>...</td>\n",
       "      <td>...</td>\n",
       "      <td>...</td>\n",
       "    </tr>\n",
       "    <tr>\n",
       "      <th>765</th>\n",
       "      <td>3</td>\n",
       "      <td>3</td>\n",
       "      <td>0</td>\n",
       "    </tr>\n",
       "    <tr>\n",
       "      <th>1356</th>\n",
       "      <td>3</td>\n",
       "      <td>3</td>\n",
       "      <td>0</td>\n",
       "    </tr>\n",
       "    <tr>\n",
       "      <th>408</th>\n",
       "      <td>3</td>\n",
       "      <td>3</td>\n",
       "      <td>0</td>\n",
       "    </tr>\n",
       "    <tr>\n",
       "      <th>1614</th>\n",
       "      <td>1</td>\n",
       "      <td>1</td>\n",
       "      <td>0</td>\n",
       "    </tr>\n",
       "    <tr>\n",
       "      <th>694</th>\n",
       "      <td>0</td>\n",
       "      <td>0</td>\n",
       "      <td>0</td>\n",
       "    </tr>\n",
       "  </tbody>\n",
       "</table>\n",
       "<p>500 rows × 3 columns</p>\n",
       "</div>"
      ],
      "text/plain": [
       "      Gerçek Değerler  Tahmin Değerler  Uzaklık\n",
       "1860                2                2        0\n",
       "353                 3                3        0\n",
       "1333                0                0        0\n",
       "905                 2                2        0\n",
       "1289                0                0        0\n",
       "...               ...              ...      ...\n",
       "765                 3                3        0\n",
       "1356                3                3        0\n",
       "408                 3                3        0\n",
       "1614                1                1        0\n",
       "694                 0                0        0\n",
       "\n",
       "[500 rows x 3 columns]"
      ]
     },
     "execution_count": 63,
     "metadata": {},
     "output_type": "execute_result"
    }
   ],
   "source": [
    "dfPredict = pd.DataFrame({\"Gerçek Değerler\" : Y_test, \"Tahmin Değerler\" : Y_pred,\"Uzaklık\":Y_pred - Y_test})\n",
    "dfPredict"
   ]
  },
  {
   "cell_type": "markdown",
   "id": "aba6fe0d",
   "metadata": {
    "papermill": {
     "duration": 0.032816,
     "end_time": "2023-03-13T11:01:27.802920",
     "exception": false,
     "start_time": "2023-03-13T11:01:27.770104",
     "status": "completed"
    },
    "tags": []
   },
   "source": [
    "Komşu sayısına bağlı olarak modelin de skorunun değişeceği öngörülüyor. Bunu komşu sayısına bağlı olan plot grafiğiyle gözlemleyelim"
   ]
  },
  {
   "cell_type": "code",
   "execution_count": 64,
   "id": "00a32727",
   "metadata": {
    "execution": {
     "iopub.execute_input": "2023-03-13T11:01:27.872379Z",
     "iopub.status.busy": "2023-03-13T11:01:27.872033Z",
     "iopub.status.idle": "2023-03-13T11:01:28.469343Z",
     "shell.execute_reply": "2023-03-13T11:01:28.468077Z"
    },
    "papermill": {
     "duration": 0.634735,
     "end_time": "2023-03-13T11:01:28.472113",
     "exception": false,
     "start_time": "2023-03-13T11:01:27.837378",
     "status": "completed"
    },
    "tags": []
   },
   "outputs": [
    {
     "data": {
      "image/png": "[encoded data removed]",
      "text/plain": [
       "<Figure size 432x288 with 1 Axes>"
      ]
     },
     "metadata": {
      "needs_background": "light"
     },
     "output_type": "display_data"
    }
   ],
   "source": [
    "score_list = [] \n",
    "\n",
    "for each in range(2,15):\n",
    "    knn_new = KNeighborsClassifier(n_neighbors = each)\n",
    "    knn_new.fit(X_train, Y_train)\n",
    "    score_list.append(knn_new.score(X_test, Y_test))\n",
    "\n",
    "plt.plot(range(2,15),score_list)\n",
    "plt.xlabel(\"K Değeri\")\n",
    "plt.ylabel(\"Doğruluk Skoru\")\n",
    "plt.show()\n",
    "\n",
    "#Gözlemlendiği üzere model skoru komşu sayısına göre değişmektedir."
   ]
  },
  {
   "cell_type": "markdown",
   "id": "5ac338d9",
   "metadata": {
    "papermill": {
     "duration": 0.033371,
     "end_time": "2023-03-13T11:01:28.539638",
     "exception": false,
     "start_time": "2023-03-13T11:01:28.506267",
     "status": "completed"
    },
    "tags": []
   },
   "source": [
    "KNN Modeli için karmaşıklık matrisimiz"
   ]
  },
  {
   "cell_type": "code",
   "execution_count": 65,
   "id": "d008baaf",
   "metadata": {
    "execution": {
     "iopub.execute_input": "2023-03-13T11:01:28.607840Z",
     "iopub.status.busy": "2023-03-13T11:01:28.607493Z",
     "iopub.status.idle": "2023-03-13T11:01:28.614042Z",
     "shell.execute_reply": "2023-03-13T11:01:28.613148Z"
    },
    "papermill": {
     "duration": 0.042901,
     "end_time": "2023-03-13T11:01:28.615886",
     "exception": false,
     "start_time": "2023-03-13T11:01:28.572985",
     "status": "completed"
    },
    "tags": []
   },
   "outputs": [
    {
     "name": "stdout",
     "output_type": "stream",
     "text": [
      "[[119   5   7   0]\n",
      " [  8 105   0   0]\n",
      " [  4   0 115   8]\n",
      " [  0   0   3 126]]\n"
     ]
    }
   ],
   "source": [
    "con_matrix = confusion_matrix(Y_test, Y_pred)\n",
    "print(con_matrix)"
   ]
  },
  {
   "cell_type": "markdown",
   "id": "33ff3cf0",
   "metadata": {
    "papermill": {
     "duration": 0.034401,
     "end_time": "2023-03-13T11:01:28.684860",
     "exception": false,
     "start_time": "2023-03-13T11:01:28.650459",
     "status": "completed"
    },
    "tags": []
   },
   "source": [
    "Kesinlik, Duyarlılık ve F1 Skorlarını görünteleyelim"
   ]
  },
  {
   "cell_type": "code",
   "execution_count": 66,
   "id": "cb2e1eaa",
   "metadata": {
    "execution": {
     "iopub.execute_input": "2023-03-13T11:01:28.754643Z",
     "iopub.status.busy": "2023-03-13T11:01:28.753609Z",
     "iopub.status.idle": "2023-03-13T11:01:28.760821Z",
     "shell.execute_reply": "2023-03-13T11:01:28.759826Z"
    },
    "papermill": {
     "duration": 0.044308,
     "end_time": "2023-03-13T11:01:28.763056",
     "exception": false,
     "start_time": "2023-03-13T11:01:28.718748",
     "status": "completed"
    },
    "tags": []
   },
   "outputs": [
    {
     "data": {
      "text/plain": [
       "0.930004287652646"
      ]
     },
     "execution_count": 66,
     "metadata": {},
     "output_type": "execute_result"
    }
   ],
   "source": [
    "precision_score(Y_test, Y_pred, average='weighted')\n"
   ]
  },
  {
   "cell_type": "code",
   "execution_count": 67,
   "id": "9fd16da4",
   "metadata": {
    "execution": {
     "iopub.execute_input": "2023-03-13T11:01:28.833847Z",
     "iopub.status.busy": "2023-03-13T11:01:28.832936Z",
     "iopub.status.idle": "2023-03-13T11:01:28.839980Z",
     "shell.execute_reply": "2023-03-13T11:01:28.838935Z"
    },
    "papermill": {
     "duration": 0.045315,
     "end_time": "2023-03-13T11:01:28.842533",
     "exception": false,
     "start_time": "2023-03-13T11:01:28.797218",
     "status": "completed"
    },
    "tags": []
   },
   "outputs": [
    {
     "data": {
      "text/plain": [
       "0.93"
      ]
     },
     "execution_count": 67,
     "metadata": {},
     "output_type": "execute_result"
    }
   ],
   "source": [
    "recall_score(Y_test, Y_pred, average='weighted')"
   ]
  },
  {
   "cell_type": "code",
   "execution_count": 68,
   "id": "95437f10",
   "metadata": {
    "execution": {
     "iopub.execute_input": "2023-03-13T11:01:28.914879Z",
     "iopub.status.busy": "2023-03-13T11:01:28.914337Z",
     "iopub.status.idle": "2023-03-13T11:01:28.921285Z",
     "shell.execute_reply": "2023-03-13T11:01:28.920401Z"
    },
    "papermill": {
     "duration": 0.045713,
     "end_time": "2023-03-13T11:01:28.922902",
     "exception": false,
     "start_time": "2023-03-13T11:01:28.877189",
     "status": "completed"
    },
    "tags": []
   },
   "outputs": [
    {
     "data": {
      "text/plain": [
       "0.9298596344083053"
      ]
     },
     "execution_count": 68,
     "metadata": {},
     "output_type": "execute_result"
    }
   ],
   "source": [
    "f1_score(Y_test, Y_pred, average = 'weighted') "
   ]
  },
  {
   "cell_type": "markdown",
   "id": "d8cee048",
   "metadata": {
    "papermill": {
     "duration": 0.033085,
     "end_time": "2023-03-13T11:01:28.989383",
     "exception": false,
     "start_time": "2023-03-13T11:01:28.956298",
     "status": "completed"
    },
    "tags": []
   },
   "source": [
    "Raporumuzu görüntülüyelim"
   ]
  },
  {
   "cell_type": "code",
   "execution_count": 69,
   "id": "aed78986",
   "metadata": {
    "execution": {
     "iopub.execute_input": "2023-03-13T11:01:29.058359Z",
     "iopub.status.busy": "2023-03-13T11:01:29.058020Z",
     "iopub.status.idle": "2023-03-13T11:01:29.067131Z",
     "shell.execute_reply": "2023-03-13T11:01:29.065987Z"
    },
    "papermill": {
     "duration": 0.045786,
     "end_time": "2023-03-13T11:01:29.068866",
     "exception": false,
     "start_time": "2023-03-13T11:01:29.023080",
     "status": "completed"
    },
    "tags": []
   },
   "outputs": [
    {
     "name": "stdout",
     "output_type": "stream",
     "text": [
      "              precision    recall  f1-score   support\n",
      "\n",
      "           0       0.91      0.91      0.91       131\n",
      "           1       0.95      0.93      0.94       113\n",
      "           2       0.92      0.91      0.91       127\n",
      "           3       0.94      0.98      0.96       129\n",
      "\n",
      "    accuracy                           0.93       500\n",
      "   macro avg       0.93      0.93      0.93       500\n",
      "weighted avg       0.93      0.93      0.93       500\n",
      "\n"
     ]
    }
   ],
   "source": [
    "print(classification_report(Y_test, Y_pred))"
   ]
  },
  {
   "cell_type": "markdown",
   "id": "1fa2af70",
   "metadata": {
    "papermill": {
     "duration": 0.034175,
     "end_time": "2023-03-13T11:01:29.138160",
     "exception": false,
     "start_time": "2023-03-13T11:01:29.103985",
     "status": "completed"
    },
    "tags": []
   },
   "source": [
    "> **Tüm modelleri ve başarı oranlarını göz önünde bulundurduğumuzda En doğru sonucu veren modelimiz KNN Modeli olmuştur.\n",
    "> Daha sonrasında Karar Ağacı ve Naive Bayes gelmektedir.**"
   ]
  }
 ],
 "metadata": {
  "kernelspec": {
   "display_name": "Python 3",
   "language": "python",
   "name": "python3"
  },
  "language_info": {
   "codemirror_mode": {
    "name": "ipython",
    "version": 3
   },
   "file_extension": ".py",
   "mimetype": "text/x-python",
   "name": "python",
   "nbconvert_exporter": "python",
   "pygments_lexer": "ipython3",
   "version": "3.7.12"
  },
  "papermill": {
   "default_parameters": {},
   "duration": 25.352687,
   "end_time": "2023-03-13T11:01:29.996110",
   "environment_variables": {},
   "exception": null,
   "input_path": "__notebook__.ipynb",
   "output_path": "__notebook__.ipynb",
   "parameters": {},
   "start_time": "2023-03-13T11:01:04.643423",
   "version": "2.3.4"
  }
 },
 "nbformat": 4,
 "nbformat_minor": 5
}
